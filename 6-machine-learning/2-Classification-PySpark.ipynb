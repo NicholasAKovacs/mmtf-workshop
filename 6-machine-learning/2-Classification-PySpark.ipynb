{
 "cells": [
  {
   "cell_type": "markdown",
   "metadata": {},
   "source": [
    "# Machine learning - Features extraction\n",
    "\n",
    "Runs binary and multi-class classifiers on a given dataset.\n",
    "Dataset are read as Parquet file. The dataset must contain a feature vector named \"features\" and a classification column.\n",
    "\n",
    "## Imports"
   ]
  },
  {
   "cell_type": "code",
   "execution_count": 1,
   "metadata": {
    "collapsed": true
   },
   "outputs": [],
   "source": [
    "from mmtfPyspark.ml import SparkMultiClassClassifier, datasetBalancer                                 \n",
    "from pyspark.sql import SparkSession\n",
    "from pyspark.sql.functions import *\n",
    "from pyspark.ml.classification import DecisionTreeClassifier, LogisticRegression, MultilayerPerceptronClassifier, RandomForestClassifier"
   ]
  },
  {
   "cell_type": "markdown",
   "metadata": {},
   "source": [
    "## Configure Spark Session"
   ]
  },
  {
   "cell_type": "code",
   "execution_count": 2,
   "metadata": {
    "collapsed": true
   },
   "outputs": [],
   "source": [
    "spark = SparkSession.builder \\\n",
    "                    .master(\"local[4]\") \\\n",
    "                    .appName(\"datasetClassifier\") \\\n",
    "                    .getOrCreate()"
   ]
  },
  {
   "cell_type": "markdown",
   "metadata": {},
   "source": [
    "## Read in data from parquet file"
   ]
  },
  {
   "cell_type": "code",
   "execution_count": 3,
   "metadata": {},
   "outputs": [
    {
     "name": "stdout",
     "output_type": "stream",
     "text": [
      "Total number of data: 18491\n"
     ]
    },
    {
     "data": {
      "text/html": [
       "<div>\n",
       "<style scoped>\n",
       "    .dataframe tbody tr th:only-of-type {\n",
       "        vertical-align: middle;\n",
       "    }\n",
       "\n",
       "    .dataframe tbody tr th {\n",
       "        vertical-align: top;\n",
       "    }\n",
       "\n",
       "    .dataframe thead th {\n",
       "        text-align: right;\n",
       "    }\n",
       "</style>\n",
       "<table border=\"1\" class=\"dataframe\">\n",
       "  <thead>\n",
       "    <tr style=\"text-align: right;\">\n",
       "      <th></th>\n",
       "      <th>structureChainId</th>\n",
       "      <th>alpha</th>\n",
       "      <th>beta</th>\n",
       "      <th>coil</th>\n",
       "      <th>foldType</th>\n",
       "      <th>features</th>\n",
       "    </tr>\n",
       "  </thead>\n",
       "  <tbody>\n",
       "    <tr>\n",
       "      <th>0</th>\n",
       "      <td>1LBU.A</td>\n",
       "      <td>0.361502</td>\n",
       "      <td>0.107981</td>\n",
       "      <td>0.530516</td>\n",
       "      <td>other</td>\n",
       "      <td>[-0.0676212902400502, -0.19547940407580924, 0....</td>\n",
       "    </tr>\n",
       "    <tr>\n",
       "      <th>1</th>\n",
       "      <td>1LC0.A</td>\n",
       "      <td>0.410345</td>\n",
       "      <td>0.275862</td>\n",
       "      <td>0.313793</td>\n",
       "      <td>alpha+beta</td>\n",
       "      <td>[-0.0792541990609706, 0.040140426752662904, 0....</td>\n",
       "    </tr>\n",
       "    <tr>\n",
       "      <th>2</th>\n",
       "      <td>1LC5.A</td>\n",
       "      <td>0.428169</td>\n",
       "      <td>0.157746</td>\n",
       "      <td>0.414084</td>\n",
       "      <td>alpha+beta</td>\n",
       "      <td>[-0.019729205948549527, -0.04122427391714465, ...</td>\n",
       "    </tr>\n",
       "    <tr>\n",
       "      <th>3</th>\n",
       "      <td>1LFP.A</td>\n",
       "      <td>0.427984</td>\n",
       "      <td>0.234568</td>\n",
       "      <td>0.337449</td>\n",
       "      <td>alpha+beta</td>\n",
       "      <td>[-0.19374114630233136, 0.1957719982226169, 0.1...</td>\n",
       "    </tr>\n",
       "    <tr>\n",
       "      <th>4</th>\n",
       "      <td>1LFW.A</td>\n",
       "      <td>0.322650</td>\n",
       "      <td>0.273504</td>\n",
       "      <td>0.403846</td>\n",
       "      <td>alpha+beta</td>\n",
       "      <td>[-0.29538419953426287, 0.010069241060186297, 0...</td>\n",
       "    </tr>\n",
       "  </tbody>\n",
       "</table>\n",
       "</div>"
      ],
      "text/plain": [
       "  structureChainId     alpha      beta      coil    foldType  \\\n",
       "0           1LBU.A  0.361502  0.107981  0.530516       other   \n",
       "1           1LC0.A  0.410345  0.275862  0.313793  alpha+beta   \n",
       "2           1LC5.A  0.428169  0.157746  0.414084  alpha+beta   \n",
       "3           1LFP.A  0.427984  0.234568  0.337449  alpha+beta   \n",
       "4           1LFW.A  0.322650  0.273504  0.403846  alpha+beta   \n",
       "\n",
       "                                            features  \n",
       "0  [-0.0676212902400502, -0.19547940407580924, 0....  \n",
       "1  [-0.0792541990609706, 0.040140426752662904, 0....  \n",
       "2  [-0.019729205948549527, -0.04122427391714465, ...  \n",
       "3  [-0.19374114630233136, 0.1957719982226169, 0.1...  \n",
       "4  [-0.29538419953426287, 0.010069241060186297, 0...  "
      ]
     },
     "execution_count": 3,
     "metadata": {},
     "output_type": "execute_result"
    }
   ],
   "source": [
    "parquetFile = './input_features/'\n",
    "data = spark.read.parquet(parquetFile).cache()\n",
    "\n",
    "print(f\"Total number of data: {data.count()}\")\n",
    "data.toPandas().head()"
   ]
  },
  {
   "cell_type": "markdown",
   "metadata": {},
   "source": [
    "## Select only alpha and beta foldType"
   ]
  },
  {
   "cell_type": "code",
   "execution_count": 4,
   "metadata": {},
   "outputs": [
    {
     "name": "stdout",
     "output_type": "stream",
     "text": [
      "Total number of data: 4937\n"
     ]
    },
    {
     "data": {
      "text/html": [
       "<div>\n",
       "<style scoped>\n",
       "    .dataframe tbody tr th:only-of-type {\n",
       "        vertical-align: middle;\n",
       "    }\n",
       "\n",
       "    .dataframe tbody tr th {\n",
       "        vertical-align: top;\n",
       "    }\n",
       "\n",
       "    .dataframe thead th {\n",
       "        text-align: right;\n",
       "    }\n",
       "</style>\n",
       "<table border=\"1\" class=\"dataframe\">\n",
       "  <thead>\n",
       "    <tr style=\"text-align: right;\">\n",
       "      <th></th>\n",
       "      <th>structureChainId</th>\n",
       "      <th>alpha</th>\n",
       "      <th>beta</th>\n",
       "      <th>coil</th>\n",
       "      <th>foldType</th>\n",
       "      <th>features</th>\n",
       "    </tr>\n",
       "  </thead>\n",
       "  <tbody>\n",
       "    <tr>\n",
       "      <th>0</th>\n",
       "      <td>1LGH.A</td>\n",
       "      <td>0.857143</td>\n",
       "      <td>0.0</td>\n",
       "      <td>0.142857</td>\n",
       "      <td>alpha</td>\n",
       "      <td>[-0.26188569416038016, 0.30686419253999536, 0....</td>\n",
       "    </tr>\n",
       "    <tr>\n",
       "      <th>1</th>\n",
       "      <td>1LGH.B</td>\n",
       "      <td>0.744186</td>\n",
       "      <td>0.0</td>\n",
       "      <td>0.255814</td>\n",
       "      <td>alpha</td>\n",
       "      <td>[-0.10527046018449421, 0.1883829649199139, 0.2...</td>\n",
       "    </tr>\n",
       "    <tr>\n",
       "      <th>2</th>\n",
       "      <td>1LGH.D</td>\n",
       "      <td>0.857143</td>\n",
       "      <td>0.0</td>\n",
       "      <td>0.142857</td>\n",
       "      <td>alpha</td>\n",
       "      <td>[-0.26188569416038016, 0.30686419253999536, 0....</td>\n",
       "    </tr>\n",
       "    <tr>\n",
       "      <th>3</th>\n",
       "      <td>1LGH.E</td>\n",
       "      <td>0.744186</td>\n",
       "      <td>0.0</td>\n",
       "      <td>0.255814</td>\n",
       "      <td>alpha</td>\n",
       "      <td>[-0.10527046018449421, 0.1883829649199139, 0.2...</td>\n",
       "    </tr>\n",
       "    <tr>\n",
       "      <th>4</th>\n",
       "      <td>1LGH.G</td>\n",
       "      <td>0.857143</td>\n",
       "      <td>0.0</td>\n",
       "      <td>0.142857</td>\n",
       "      <td>alpha</td>\n",
       "      <td>[-0.26188569416038016, 0.30686419253999536, 0....</td>\n",
       "    </tr>\n",
       "  </tbody>\n",
       "</table>\n",
       "</div>"
      ],
      "text/plain": [
       "  structureChainId     alpha  beta      coil foldType  \\\n",
       "0           1LGH.A  0.857143   0.0  0.142857    alpha   \n",
       "1           1LGH.B  0.744186   0.0  0.255814    alpha   \n",
       "2           1LGH.D  0.857143   0.0  0.142857    alpha   \n",
       "3           1LGH.E  0.744186   0.0  0.255814    alpha   \n",
       "4           1LGH.G  0.857143   0.0  0.142857    alpha   \n",
       "\n",
       "                                            features  \n",
       "0  [-0.26188569416038016, 0.30686419253999536, 0....  \n",
       "1  [-0.10527046018449421, 0.1883829649199139, 0.2...  \n",
       "2  [-0.26188569416038016, 0.30686419253999536, 0....  \n",
       "3  [-0.10527046018449421, 0.1883829649199139, 0.2...  \n",
       "4  [-0.26188569416038016, 0.30686419253999536, 0....  "
      ]
     },
     "execution_count": 4,
     "metadata": {},
     "output_type": "execute_result"
    }
   ],
   "source": [
    "data = data.where((data.foldType == 'alpha') | (data.foldType == 'beta')) #| (data.foldType == 'other'))\n",
    "\n",
    "print(f\"Total number of data: {data.count()}\")\n",
    "data.toPandas().head()"
   ]
  },
  {
   "cell_type": "markdown",
   "metadata": {},
   "source": [
    "## Basic dataset information and setting"
   ]
  },
  {
   "cell_type": "code",
   "execution_count": 5,
   "metadata": {},
   "outputs": [
    {
     "name": "stdout",
     "output_type": "stream",
     "text": [
      "Feature count    : 50\n",
      "Class count    : 2\n",
      "Dataset size (unbalanced)    : 4937\n",
      "+--------+-----+\n",
      "|foldType|count|\n",
      "+--------+-----+\n",
      "|    beta| 1253|\n",
      "|   alpha| 3684|\n",
      "+--------+-----+\n",
      "\n",
      "Dataset size (balanced)  : 2487\n",
      "+--------+-----+\n",
      "|foldType|count|\n",
      "+--------+-----+\n",
      "|    beta| 1253|\n",
      "|   alpha| 1234|\n",
      "+--------+-----+\n",
      "\n"
     ]
    }
   ],
   "source": [
    "label = 'foldType'\n",
    "testFraction = 0.1\n",
    "seed = 123\n",
    "\n",
    "vector = data.first()[\"features\"]\n",
    "featureCount = len(vector)\n",
    "print(f\"Feature count    : {featureCount}\")\n",
    "    \n",
    "classCount = int(data.select(label).distinct().count())\n",
    "print(f\"Class count    : {classCount}\")\n",
    "\n",
    "print(f\"Dataset size (unbalanced)    : {data.count()}\")\n",
    "    \n",
    "data.groupby(label).count().show()\n",
    "data = datasetBalancer.downsample(data, label, 1)\n",
    "print(f\"Dataset size (balanced)  : {data.count()}\")\n",
    "    \n",
    "data.groupby(label).count().show()"
   ]
  },
  {
   "cell_type": "markdown",
   "metadata": {},
   "source": [
    "## Random Forest Classifier"
   ]
  },
  {
   "cell_type": "code",
   "execution_count": 6,
   "metadata": {},
   "outputs": [
    {
     "name": "stdout",
     "output_type": "stream",
     "text": [
      "\n",
      " Class\tTrain\tTest\n",
      "beta\t1129\t124\n",
      "alpha\t1096\t138\n",
      "\n",
      "Sample predictions: RandomForestClassifier\n",
      "+----------------+-----------+----------+----------+--------+--------------------+------------+--------------------+--------------------+----------+--------------+\n",
      "|structureChainId|      alpha|      beta|      coil|foldType|            features|indexedLabel|       rawPrediction|         probability|prediction|predictedLabel|\n",
      "+----------------+-----------+----------+----------+--------+--------------------+------------+--------------------+--------------------+----------+--------------+\n",
      "|          3C5X.C|0.037037037|0.56790125|0.39506173|    beta|[-0.0963613044383...|         0.0|[12.0384237981223...|[0.60192118990611...|       0.0|          beta|\n",
      "|          4D7C.A|0.044715445| 0.5406504|0.41463414|    beta|[-0.0572097956032...|         0.0|[12.3579385477575...|[0.61789692738787...|       0.0|          beta|\n",
      "|          5LTG.B|        0.0| 0.5786164|0.42138365|    beta|[-0.1108294218264...|         0.0|[12.7327315512314...|[0.63663657756157...|       0.0|          beta|\n",
      "|          2B4H.B|0.018348623|0.63761467| 0.3440367|    beta|[-0.1803915034813...|         0.0|[15.8199747453253...|[0.79099873726626...|       0.0|          beta|\n",
      "|          2QF4.A| 0.01764706| 0.5117647|0.47058824|    beta|[-0.1372847723725...|         0.0|[18.1764551715519...|[0.90882275857759...|       0.0|          beta|\n",
      "+----------------+-----------+----------+----------+--------+--------------------+------------+--------------------+--------------------+----------+--------------+\n",
      "only showing top 5 rows\n",
      "\n",
      "Total time taken: 10.542785882949829\n",
      "\n",
      "Method\tRandomForestClassifier\n",
      "AUC\t0.8670523609163161\n",
      "F\t0.866499891502249\n",
      "Accuracy\t0.8664122137404581\n",
      "Precision\t0.8672186413130287\n",
      "Recall\t0.866412213740458\n",
      "False Positive Rate\t0.13230749190782595\n",
      "True Positive Rate\t0.866412213740458\n",
      "\t\n",
      "Confusion Matrix\n",
      "['beta', 'alpha']\n",
      "DenseMatrix([[109.,  15.],\n",
      "             [ 20., 118.]])\n"
     ]
    }
   ],
   "source": [
    "rfc = RandomForestClassifier()\n",
    "mcc = SparkMultiClassClassifier(rfc, label, testFraction, seed)\n",
    "matrics = mcc.fit(data)\n",
    "for k,v in matrics.items(): print(f\"{k}\\t{v}\")"
   ]
  },
  {
   "cell_type": "markdown",
   "metadata": {},
   "source": [
    "## Logistic Regression Classifier"
   ]
  },
  {
   "cell_type": "code",
   "execution_count": 7,
   "metadata": {},
   "outputs": [
    {
     "name": "stdout",
     "output_type": "stream",
     "text": [
      "\n",
      " Class\tTrain\tTest\n",
      "beta\t1129\t124\n",
      "alpha\t1096\t138\n",
      "\n",
      "Sample predictions: LogisticRegression\n",
      "+----------------+-----------+----------+----------+--------+--------------------+------------+--------------------+--------------------+----------+--------------+\n",
      "|structureChainId|      alpha|      beta|      coil|foldType|            features|indexedLabel|       rawPrediction|         probability|prediction|predictedLabel|\n",
      "+----------------+-----------+----------+----------+--------+--------------------+------------+--------------------+--------------------+----------+--------------+\n",
      "|          3C5X.C|0.037037037|0.56790125|0.39506173|    beta|[-0.0963613044383...|         0.0|[3.47993446955267...|[0.97011142018302...|       0.0|          beta|\n",
      "|          4D7C.A|0.044715445| 0.5406504|0.41463414|    beta|[-0.0572097956032...|         0.0|[-0.0084331427036...|[0.49789172681872...|       1.0|         alpha|\n",
      "|          5LTG.B|        0.0| 0.5786164|0.42138365|    beta|[-0.1108294218264...|         0.0|[-0.1283943974499...|[0.46794542384148...|       1.0|         alpha|\n",
      "|          2B4H.B|0.018348623|0.63761467| 0.3440367|    beta|[-0.1803915034813...|         0.0|[3.34491839957013...|[0.96593803760765...|       0.0|          beta|\n",
      "|          2QF4.A| 0.01764706| 0.5117647|0.47058824|    beta|[-0.1372847723725...|         0.0|[2.15631638060974...|[0.89625754536226...|       0.0|          beta|\n",
      "+----------------+-----------+----------+----------+--------+--------------------+------------+--------------------+--------------------+----------+--------------+\n",
      "only showing top 5 rows\n",
      "\n",
      "Total time taken: 5.81438946723938\n",
      "\n",
      "Method\tLogisticRegression\n",
      "AUC\t0.8662342215988779\n",
      "F\t0.8664375754231359\n",
      "Accuracy\t0.8664122137404581\n",
      "Precision\t0.8664882153006073\n",
      "Recall\t0.866412213740458\n",
      "False Positive Rate\t0.13394377054270204\n",
      "True Positive Rate\t0.866412213740458\n",
      "\t\n",
      "Confusion Matrix\n",
      "['beta', 'alpha']\n",
      "DenseMatrix([[107.,  17.],\n",
      "             [ 18., 120.]])\n"
     ]
    }
   ],
   "source": [
    "lr = LogisticRegression()\n",
    "mcc = SparkMultiClassClassifier(lr, label, testFraction, seed)\n",
    "matrics = mcc.fit(data)\n",
    "for k,v in matrics.items(): print(f\"{k}\\t{v}\")"
   ]
  },
  {
   "cell_type": "markdown",
   "metadata": {},
   "source": [
    "## Simple Multilayer Perception Classifier"
   ]
  },
  {
   "cell_type": "code",
   "execution_count": 8,
   "metadata": {},
   "outputs": [
    {
     "name": "stdout",
     "output_type": "stream",
     "text": [
      "\n",
      " Class\tTrain\tTest\n",
      "beta\t1129\t124\n",
      "alpha\t1096\t138\n",
      "\n",
      "Sample predictions: MultilayerPerceptronClassifier\n",
      "+----------------+-----------+----------+----------+--------+--------------------+------------+----------+--------------+\n",
      "|structureChainId|      alpha|      beta|      coil|foldType|            features|indexedLabel|prediction|predictedLabel|\n",
      "+----------------+-----------+----------+----------+--------+--------------------+------------+----------+--------------+\n",
      "|          3C5X.C|0.037037037|0.56790125|0.39506173|    beta|[-0.0963613044383...|         0.0|       0.0|          beta|\n",
      "|          4D7C.A|0.044715445| 0.5406504|0.41463414|    beta|[-0.0572097956032...|         0.0|       0.0|          beta|\n",
      "|          5LTG.B|        0.0| 0.5786164|0.42138365|    beta|[-0.1108294218264...|         0.0|       1.0|         alpha|\n",
      "|          2B4H.B|0.018348623|0.63761467| 0.3440367|    beta|[-0.1803915034813...|         0.0|       0.0|          beta|\n",
      "|          2QF4.A| 0.01764706| 0.5117647|0.47058824|    beta|[-0.1372847723725...|         0.0|       0.0|          beta|\n",
      "+----------------+-----------+----------+----------+--------+--------------------+------------+----------+--------------+\n",
      "only showing top 5 rows\n",
      "\n",
      "Total time taken: 6.420660734176636\n",
      "\n",
      "Method\tMultilayerPerceptronClassifier\n",
      "AUC\t0.89726507713885\n",
      "F\t0.8969961944019911\n",
      "Accuracy\t0.8969465648854962\n",
      "Precision\t0.8972811604656288\n",
      "Recall\t0.8969465648854962\n",
      "False Positive Rate\t0.10241641060779633\n",
      "True Positive Rate\t0.8969465648854962\n",
      "\t\n",
      "Confusion Matrix\n",
      "['beta', 'alpha']\n",
      "DenseMatrix([[112.,  12.],\n",
      "             [ 15., 123.]])\n"
     ]
    }
   ],
   "source": [
    "layers = [featureCount, 32, 32, classCount]\n",
    "mpc = MultilayerPerceptronClassifier().setLayers(layers) \\\n",
    "                                          .setBlockSize(128) \\\n",
    "                                          .setSeed(1234) \\\n",
    "                                          .setMaxIter(100)\n",
    "mcc = SparkMultiClassClassifier(mpc, label, testFraction, seed)\n",
    "matrics = mcc.fit(data)\n",
    "for k,v in matrics.items(): print(f\"{k}\\t{v}\")"
   ]
  },
  {
   "cell_type": "markdown",
   "metadata": {},
   "source": [
    "## Terminate Spark"
   ]
  },
  {
   "cell_type": "code",
   "execution_count": 9,
   "metadata": {
    "collapsed": true
   },
   "outputs": [],
   "source": [
    "spark.stop()"
   ]
  }
 ],
 "metadata": {
  "kernelspec": {
   "display_name": "Python 3",
   "language": "python",
   "name": "python3"
  },
  "language_info": {
   "codemirror_mode": {
    "name": "ipython",
    "version": 3
   },
   "file_extension": ".py",
   "mimetype": "text/x-python",
   "name": "python",
   "nbconvert_exporter": "python",
   "pygments_lexer": "ipython3",
   "version": "3.6.4"
  }
 },
 "nbformat": 4,
 "nbformat_minor": 2
}
