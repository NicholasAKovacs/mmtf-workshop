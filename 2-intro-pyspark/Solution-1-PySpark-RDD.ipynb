{
 "cells": [
  {
   "cell_type": "markdown",
   "metadata": {},
   "source": [
    "# Solution-1: Introduction to PySpark RDD\n"
   ]
  },
  {
   "cell_type": "markdown",
   "metadata": {},
   "source": [
    "## Import and initialize SparkContext"
   ]
  },
  {
   "cell_type": "code",
   "execution_count": 1,
   "metadata": {
    "collapsed": true
   },
   "outputs": [],
   "source": [
    "from pyspark.sql import SparkSession\n",
    "\n",
    "spark = SparkSession.builder.master(\"local[4]\").appName(\"solution-1\").getOrCreate()\n",
    "sc = spark.sparkContext"
   ]
  },
  {
   "cell_type": "markdown",
   "metadata": {},
   "source": [
    "## Create Parallelized Collections"
   ]
  },
  {
   "cell_type": "code",
   "execution_count": 2,
   "metadata": {},
   "outputs": [
    {
     "data": {
      "text/plain": [
       "pyspark.rdd.RDD"
      ]
     },
     "execution_count": 2,
     "metadata": {},
     "output_type": "execute_result"
    }
   ],
   "source": [
    "data = [1, 2, 3, 4, 5]\n",
    "distData = sc.parallelize(data)\n",
    "\n",
    "type(distData)"
   ]
  },
  {
   "cell_type": "markdown",
   "metadata": {},
   "source": [
    "## TODO: Read external data file\n",
    "### Use SparkContext's textFile function to read in a text file"
   ]
  },
  {
   "cell_type": "code",
   "execution_count": 3,
   "metadata": {},
   "outputs": [
    {
     "data": {
      "text/plain": [
       "pyspark.rdd.RDD"
      ]
     },
     "execution_count": 3,
     "metadata": {},
     "output_type": "execute_result"
    }
   ],
   "source": [
    "textFilePath = './emails.txt'\n",
    "\n",
    "emails = sc.textFile(textFilePath)\n",
    "type(emails)"
   ]
  },
  {
   "cell_type": "markdown",
   "metadata": {},
   "source": [
    "## Generate a list of data, from 1 to 10"
   ]
  },
  {
   "cell_type": "code",
   "execution_count": 5,
   "metadata": {},
   "outputs": [
    {
     "name": "stdout",
     "output_type": "stream",
     "text": [
      "[1, 2, 3, 4, 5, 6, 7, 8, 9, 10]\n"
     ]
    }
   ],
   "source": [
    "data = list(range(1,11))\n",
    "print(data)"
   ]
  },
  {
   "cell_type": "markdown",
   "metadata": {},
   "source": [
    "## Parallelize the data with 2 partitions"
   ]
  },
  {
   "cell_type": "code",
   "execution_count": 5,
   "metadata": {
    "collapsed": true
   },
   "outputs": [],
   "source": [
    "numbers = sc.parallelize(data,2)"
   ]
  },
  {
   "cell_type": "markdown",
   "metadata": {},
   "source": [
    "## Print RDD"
   ]
  },
  {
   "cell_type": "code",
   "execution_count": 6,
   "metadata": {},
   "outputs": [
    {
     "name": "stdout",
     "output_type": "stream",
     "text": [
      "ParallelCollectionRDD[3] at parallelize at PythonRDD.scala:475\n",
      "[1, 2, 3, 4, 5, 6, 7, 8, 9, 10]\n"
     ]
    }
   ],
   "source": [
    "print(numbers)\n",
    "\n",
    "print(numbers.collect())"
   ]
  },
  {
   "cell_type": "markdown",
   "metadata": {},
   "source": [
    "## Get only even numbers, and collect them"
   ]
  },
  {
   "cell_type": "code",
   "execution_count": 7,
   "metadata": {},
   "outputs": [
    {
     "data": {
      "text/plain": [
       "[2, 4, 6, 8, 10]"
      ]
     },
     "execution_count": 7,
     "metadata": {},
     "output_type": "execute_result"
    }
   ],
   "source": [
    "numbers.filter(lambda x: x % 2 == 0).collect()"
   ]
  },
  {
   "cell_type": "markdown",
   "metadata": {},
   "source": [
    "## TODO: find emails with hotmail domain"
   ]
  },
  {
   "cell_type": "code",
   "execution_count": 8,
   "metadata": {},
   "outputs": [
    {
     "data": {
      "text/plain": [
       "['leslie@hotmail.com', 'andrew@hotmail.com']"
      ]
     },
     "execution_count": 8,
     "metadata": {},
     "output_type": "execute_result"
    }
   ],
   "source": [
    "emails.filter(lambda e: '@hotmail' in e).collect()"
   ]
  },
  {
   "cell_type": "markdown",
   "metadata": {},
   "source": [
    "## Square all the numbers in the list using the map operation"
   ]
  },
  {
   "cell_type": "code",
   "execution_count": 9,
   "metadata": {},
   "outputs": [
    {
     "data": {
      "text/plain": [
       "[1, 4, 9, 16, 25, 36, 49, 64, 81, 100]"
      ]
     },
     "execution_count": 9,
     "metadata": {},
     "output_type": "execute_result"
    }
   ],
   "source": [
    "numbers.map(lambda x: x*x).collect()"
   ]
  },
  {
   "cell_type": "markdown",
   "metadata": {},
   "source": [
    "## Use flatMap to apply a function that returns a list and flatten the result"
   ]
  },
  {
   "cell_type": "code",
   "execution_count": 10,
   "metadata": {},
   "outputs": [
    {
     "name": "stdout",
     "output_type": "stream",
     "text": [
      "[[1, 1], [4, 8], [9, 27], [16, 64], [25, 125], [36, 216], [49, 343], [64, 512], [81, 729], [100, 1000]]\n",
      "[1, 1, 4, 8, 9, 27, 16, 64, 25, 125, 36, 216, 49, 343, 64, 512, 81, 729, 100, 1000]\n"
     ]
    }
   ],
   "source": [
    "m = numbers.map(lambda x: [x**2, x**3]).collect()\n",
    "\n",
    "fm = numbers.flatMap(lambda x: [x**2, x**3]).collect()\n",
    "\n",
    "print(m)\n",
    "print(fm)"
   ]
  },
  {
   "cell_type": "markdown",
   "metadata": {},
   "source": [
    "## TODO: separate username and domain from all emails\n",
    "\n",
    "### eg: marshuang80@gmail.com  ->  [marshuang80, gmail.com]"
   ]
  },
  {
   "cell_type": "code",
   "execution_count": 11,
   "metadata": {
    "scrolled": true
   },
   "outputs": [
    {
     "data": {
      "text/plain": [
       "[['zhu', 'icloud.com'],\n",
       " ['zhu', 'live.com'],\n",
       " ['anna', 'sbcglobal.net'],\n",
       " ['andrew', 'yahoo.ca'],\n",
       " ['andrew', 'gmail.com'],\n",
       " ['teddy', 'comcast.net'],\n",
       " ['teddy', 'live.com'],\n",
       " ['james', 'yahoo.ca'],\n",
       " ['james', 'msn.com'],\n",
       " ['leslie', 'optonline.net'],\n",
       " ['jaarnial', 'outlook.com'],\n",
       " ['leslie', 'hotmail.com'],\n",
       " ['teddy', 'yahoo.ca'],\n",
       " ['jeffcovey', 'outlook.com'],\n",
       " ['gator', 'live.com'],\n",
       " ['conteb', 'verizon.net'],\n",
       " ['aegreene', 'me.com'],\n",
       " ['nichoj', 'icloud.com'],\n",
       " ['andrew', 'hotmail.com'],\n",
       " ['kyle', 'att.net'],\n",
       " ['teddy', 'comcast.net'],\n",
       " ['kyle', 'yahoo.ca'],\n",
       " ['gator', 'msn.com'],\n",
       " ['albert', 'yahoo.com'],\n",
       " ['nichoj', 'verizon.net'],\n",
       " ['albert', 'yahoo.com'],\n",
       " ['albert', 'mac.com'],\n",
       " ['andrew', 'sbcglobal.net'],\n",
       " ['leslie', 'optonline.net'],\n",
       " ['kyle', 'msn.com'],\n",
       " ['anna', 'aol.com'],\n",
       " ['anna', 'msn.com'],\n",
       " ['adamk', 'yahoo.ca']]"
      ]
     },
     "execution_count": 11,
     "metadata": {},
     "output_type": "execute_result"
    }
   ],
   "source": [
    "# Hint use the pyhton split() function\n",
    "username_domain = emails.map(lambda x: x.split('@'))\n",
    "username_domain.collect()"
   ]
  },
  {
   "cell_type": "markdown",
   "metadata": {},
   "source": [
    "## RDD Key-Value Pairs"
   ]
  },
  {
   "cell_type": "code",
   "execution_count": 12,
   "metadata": {},
   "outputs": [
    {
     "data": {
      "text/plain": [
       "['zhu',\n",
       " 'zhu',\n",
       " 'anna',\n",
       " 'andrew',\n",
       " 'andrew',\n",
       " 'teddy',\n",
       " 'teddy',\n",
       " 'james',\n",
       " 'james',\n",
       " 'leslie',\n",
       " 'jaarnial',\n",
       " 'leslie',\n",
       " 'teddy',\n",
       " 'jeffcovey',\n",
       " 'gator',\n",
       " 'conteb',\n",
       " 'aegreene',\n",
       " 'nichoj',\n",
       " 'andrew',\n",
       " 'kyle',\n",
       " 'teddy',\n",
       " 'kyle',\n",
       " 'gator',\n",
       " 'albert',\n",
       " 'nichoj',\n",
       " 'albert',\n",
       " 'albert',\n",
       " 'andrew',\n",
       " 'leslie',\n",
       " 'kyle',\n",
       " 'anna',\n",
       " 'anna',\n",
       " 'adamk']"
      ]
     },
     "execution_count": 12,
     "metadata": {},
     "output_type": "execute_result"
    }
   ],
   "source": [
    "username_domain.keys().collect()"
   ]
  },
  {
   "cell_type": "code",
   "execution_count": 13,
   "metadata": {},
   "outputs": [
    {
     "data": {
      "text/plain": [
       "['icloud.com',\n",
       " 'live.com',\n",
       " 'sbcglobal.net',\n",
       " 'yahoo.ca',\n",
       " 'gmail.com',\n",
       " 'comcast.net',\n",
       " 'live.com',\n",
       " 'yahoo.ca',\n",
       " 'msn.com',\n",
       " 'optonline.net',\n",
       " 'outlook.com',\n",
       " 'hotmail.com',\n",
       " 'yahoo.ca',\n",
       " 'outlook.com',\n",
       " 'live.com',\n",
       " 'verizon.net',\n",
       " 'me.com',\n",
       " 'icloud.com',\n",
       " 'hotmail.com',\n",
       " 'att.net',\n",
       " 'comcast.net',\n",
       " 'yahoo.ca',\n",
       " 'msn.com',\n",
       " 'yahoo.com',\n",
       " 'verizon.net',\n",
       " 'yahoo.com',\n",
       " 'mac.com',\n",
       " 'sbcglobal.net',\n",
       " 'optonline.net',\n",
       " 'msn.com',\n",
       " 'aol.com',\n",
       " 'msn.com',\n",
       " 'yahoo.ca']"
      ]
     },
     "execution_count": 13,
     "metadata": {},
     "output_type": "execute_result"
    }
   ],
   "source": [
    "username_domain.values().collect()"
   ]
  },
  {
   "cell_type": "markdown",
   "metadata": {},
   "source": [
    "## Reduce by key"
   ]
  },
  {
   "cell_type": "code",
   "execution_count": 14,
   "metadata": {},
   "outputs": [
    {
     "data": {
      "text/plain": [
       "[('b', 5), ('a', 3)]"
      ]
     },
     "execution_count": 14,
     "metadata": {},
     "output_type": "execute_result"
    }
   ],
   "source": [
    "data = [\"a\", \"b\", \"a\", \"a\", \"b\", \"b\", \"b\", \"b\"]\n",
    "rdd = sc.parallelize(data)\n",
    "\n",
    "pairRDD = rdd.map(lambda x: (x, 1))\n",
    "\n",
    "pairRDD.reduceByKey(lambda x,y: x+y).collect()"
   ]
  },
  {
   "cell_type": "markdown",
   "metadata": {},
   "source": [
    "## TODO: count the number of domains with the same username"
   ]
  },
  {
   "cell_type": "code",
   "execution_count": 15,
   "metadata": {},
   "outputs": [
    {
     "name": "stdout",
     "output_type": "stream",
     "text": [
      "** Results from mapping values to list\n",
      "[('zhu', 1), ('zhu', 1), ('teddy', 1)]\n",
      "\n",
      "** Results from reduceByKey ** \n"
     ]
    },
    {
     "data": {
      "text/plain": [
       "[('anna', 3),\n",
       " ('andrew', 4),\n",
       " ('james', 2),\n",
       " ('leslie', 3),\n",
       " ('jeffcovey', 1),\n",
       " ('gator', 2),\n",
       " ('aegreene', 1),\n",
       " ('nichoj', 2),\n",
       " ('adamk', 1),\n",
       " ('zhu', 2),\n",
       " ('teddy', 4),\n",
       " ('jaarnial', 1),\n",
       " ('conteb', 1),\n",
       " ('kyle', 3),\n",
       " ('albert', 3)]"
      ]
     },
     "execution_count": 15,
     "metadata": {},
     "output_type": "execute_result"
    }
   ],
   "source": [
    "# do another mapping operation to make all domains in a list\n",
    "username_domain = username_domain.map(lambda x: (x[0],1))\n",
    "print(\"** Results from mapping values to list\")\n",
    "print(username_domain.top(3))\n",
    "\n",
    "print(\"\\n** Results from reduceByKey ** \")\n",
    "username_domain.reduceByKey(lambda val1, val2: val1 + val2).collect()"
   ]
  },
  {
   "cell_type": "markdown",
   "metadata": {},
   "source": [
    "## Very important to stop Spark"
   ]
  },
  {
   "cell_type": "code",
   "execution_count": 16,
   "metadata": {
    "collapsed": true
   },
   "outputs": [],
   "source": [
    "sc.stop()"
   ]
  }
 ],
 "metadata": {
  "kernelspec": {
   "display_name": "Python 3",
   "language": "python",
   "name": "python3"
  },
  "language_info": {
   "codemirror_mode": {
    "name": "ipython",
    "version": 3
   },
   "file_extension": ".py",
   "mimetype": "text/x-python",
   "name": "python",
   "nbconvert_exporter": "python",
   "pygments_lexer": "ipython3",
   "version": "3.6.4"
  }
 },
 "nbformat": 4,
 "nbformat_minor": 2
}
