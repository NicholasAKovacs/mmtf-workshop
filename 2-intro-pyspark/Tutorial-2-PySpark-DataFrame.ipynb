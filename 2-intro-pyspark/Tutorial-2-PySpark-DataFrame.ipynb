{
 "cells": [
  {
   "cell_type": "markdown",
   "metadata": {},
   "source": [
    "# Tutorial-2: Introduction to PySpark DataFrames"
   ]
  },
  {
   "cell_type": "markdown",
   "metadata": {},
   "source": [
    "## Import and initialize SparkSession"
   ]
  },
  {
   "cell_type": "code",
   "execution_count": 1,
   "metadata": {
    "collapsed": true
   },
   "outputs": [],
   "source": [
    "from pyspark.sql import SparkSession\n",
    "\n",
    "spark = SparkSession.builder.master(\"local[4]\").appName(\"tutorial-2\").getOrCreate()"
   ]
  },
  {
   "cell_type": "markdown",
   "metadata": {},
   "source": [
    "# PySpark Dataframes\n",
    "\n",
    "## Read in a csv file"
   ]
  },
  {
   "cell_type": "code",
   "execution_count": 2,
   "metadata": {},
   "outputs": [
    {
     "name": "stdout",
     "output_type": "stream",
     "text": [
      "root\n",
      " |-- YEAR: string (nullable = true)\n",
      " |-- Make: string (nullable = true)\n",
      " |-- Model: string (nullable = true)\n",
      " |-- Size: string (nullable = true)\n",
      " |-- (kW): string (nullable = true)\n",
      "\n"
     ]
    }
   ],
   "source": [
    "df = spark.read.csv(\"./cars.csv\", header = True)\n",
    "\n",
    "df.printSchema()"
   ]
  },
  {
   "cell_type": "markdown",
   "metadata": {},
   "source": [
    "## TODO : Use the inferSchdma parameter to infer data types"
   ]
  },
  {
   "cell_type": "code",
   "execution_count": 3,
   "metadata": {},
   "outputs": [
    {
     "name": "stdout",
     "output_type": "stream",
     "text": [
      "root\n",
      " |-- YEAR: integer (nullable = true)\n",
      " |-- Make: string (nullable = true)\n",
      " |-- Model: string (nullable = true)\n",
      " |-- Size: string (nullable = true)\n",
      " |-- (kW): integer (nullable = true)\n",
      "\n"
     ]
    }
   ],
   "source": [
    "df = spark.read.csv(\"./cars.csv\", header = True, inferSchema=True)\n",
    "\n",
    "df.printSchema()"
   ]
  },
  {
   "cell_type": "markdown",
   "metadata": {},
   "source": [
    "## Show samples from dataframe"
   ]
  },
  {
   "cell_type": "code",
   "execution_count": 4,
   "metadata": {},
   "outputs": [
    {
     "name": "stdout",
     "output_type": "stream",
     "text": [
      "+----+----------+--------------------+----------+----+\n",
      "|YEAR|      Make|               Model|      Size|(kW)|\n",
      "+----+----------+--------------------+----------+----+\n",
      "|2012|MITSUBISHI|              i-MiEV|SUBCOMPACT|  49|\n",
      "|2012|    NISSAN|                LEAF|  MID-SIZE|  80|\n",
      "|2013|      FORD|      FOCUS ELECTRIC|   COMPACT| 107|\n",
      "|2013|MITSUBISHI|              i-MiEV|SUBCOMPACT|  49|\n",
      "|2013|    NISSAN|                LEAF|  MID-SIZE|  80|\n",
      "|2013|     SMART|FORTWO ELECTRIC D...|TWO-SEATER|  35|\n",
      "|2013|     SMART|FORTWO ELECTRIC D...|TWO-SEATER|  35|\n",
      "|2013|     TESLA|MODEL S (40 kWh b...| FULL-SIZE| 270|\n",
      "|2013|     TESLA|MODEL S (60 kWh b...| FULL-SIZE| 270|\n",
      "|2013|     TESLA|MODEL S (85 kWh b...| FULL-SIZE| 270|\n",
      "+----+----------+--------------------+----------+----+\n",
      "only showing top 10 rows\n",
      "\n"
     ]
    }
   ],
   "source": [
    "df.show(10)"
   ]
  },
  {
   "cell_type": "markdown",
   "metadata": {},
   "source": [
    "## Filter all cars made in 2015"
   ]
  },
  {
   "cell_type": "code",
   "execution_count": 5,
   "metadata": {},
   "outputs": [
    {
     "name": "stdout",
     "output_type": "stream",
     "text": [
      "+----+----------+--------------------+--------------------+----+\n",
      "|YEAR|      Make|               Model|                Size|(kW)|\n",
      "+----+----------+--------------------+--------------------+----+\n",
      "|2015|       BMW|                  i3|          SUBCOMPACT| 125|\n",
      "|2015| CHEVROLET|            SPARK EV|          SUBCOMPACT| 104|\n",
      "|2015|      FORD|      FOCUS ELECTRIC|             COMPACT| 107|\n",
      "|2015|       KIA|             SOUL EV|STATION WAGON - S...|  81|\n",
      "|2015|MITSUBISHI|              i-MiEV|          SUBCOMPACT|  49|\n",
      "|2015|    NISSAN|                LEAF|            MID-SIZE|  80|\n",
      "|2015|     SMART|FORTWO ELECTRIC D...|          TWO-SEATER|  35|\n",
      "|2015|     SMART|FORTWO ELECTRIC D...|          TWO-SEATER|  35|\n",
      "|2015|     TESLA|MODEL S (60 kWh b...|           FULL-SIZE| 283|\n",
      "|2015|     TESLA|MODEL S (70 kWh b...|           FULL-SIZE| 283|\n",
      "+----+----------+--------------------+--------------------+----+\n",
      "only showing top 10 rows\n",
      "\n"
     ]
    }
   ],
   "source": [
    "df.filter(df['YEAR'] == 2015).show(10)"
   ]
  },
  {
   "cell_type": "markdown",
   "metadata": {},
   "source": [
    "## TODO: Find all cars made by Tesla"
   ]
  },
  {
   "cell_type": "code",
   "execution_count": 6,
   "metadata": {},
   "outputs": [
    {
     "name": "stdout",
     "output_type": "stream",
     "text": [
      "+----+-----+--------------------+---------+----+\n",
      "|YEAR| Make|               Model|     Size|(kW)|\n",
      "+----+-----+--------------------+---------+----+\n",
      "|2013|TESLA|MODEL S (40 kWh b...|FULL-SIZE| 270|\n",
      "|2013|TESLA|MODEL S (60 kWh b...|FULL-SIZE| 270|\n",
      "|2013|TESLA|MODEL S (85 kWh b...|FULL-SIZE| 270|\n",
      "|2013|TESLA| MODEL S PERFORMANCE|FULL-SIZE| 310|\n",
      "|2014|TESLA|MODEL S (60 kWh b...|FULL-SIZE| 225|\n",
      "|2014|TESLA|MODEL S (85 kWh b...|FULL-SIZE| 270|\n",
      "|2014|TESLA| MODEL S PERFORMANCE|FULL-SIZE| 310|\n",
      "|2015|TESLA|MODEL S (60 kWh b...|FULL-SIZE| 283|\n",
      "|2015|TESLA|MODEL S (70 kWh b...|FULL-SIZE| 283|\n",
      "|2015|TESLA|MODEL S (85/90 kW...|FULL-SIZE| 283|\n",
      "+----+-----+--------------------+---------+----+\n",
      "only showing top 10 rows\n",
      "\n"
     ]
    }
   ],
   "source": [
    "df_tesla = df.filter(df['Make'] == 'TESLA').show(10)"
   ]
  },
  {
   "cell_type": "markdown",
   "metadata": {},
   "source": [
    "## Select columns Make, Model and Size"
   ]
  },
  {
   "cell_type": "code",
   "execution_count": 7,
   "metadata": {},
   "outputs": [
    {
     "name": "stdout",
     "output_type": "stream",
     "text": [
      "+----------+--------------------+----------+\n",
      "|      Make|               Model|      Size|\n",
      "+----------+--------------------+----------+\n",
      "|MITSUBISHI|              i-MiEV|SUBCOMPACT|\n",
      "|    NISSAN|                LEAF|  MID-SIZE|\n",
      "|      FORD|      FOCUS ELECTRIC|   COMPACT|\n",
      "|MITSUBISHI|              i-MiEV|SUBCOMPACT|\n",
      "|    NISSAN|                LEAF|  MID-SIZE|\n",
      "|     SMART|FORTWO ELECTRIC D...|TWO-SEATER|\n",
      "|     SMART|FORTWO ELECTRIC D...|TWO-SEATER|\n",
      "|     TESLA|MODEL S (40 kWh b...| FULL-SIZE|\n",
      "|     TESLA|MODEL S (60 kWh b...| FULL-SIZE|\n",
      "|     TESLA|MODEL S (85 kWh b...| FULL-SIZE|\n",
      "+----------+--------------------+----------+\n",
      "only showing top 10 rows\n",
      "\n"
     ]
    }
   ],
   "source": [
    "df.select(df['Make'], df['Model'], df['Size']).show(10)"
   ]
  },
  {
   "cell_type": "markdown",
   "metadata": {},
   "source": [
    "## Count manufacturer based on number of cars made"
   ]
  },
  {
   "cell_type": "code",
   "execution_count": 8,
   "metadata": {},
   "outputs": [
    {
     "name": "stdout",
     "output_type": "stream",
     "text": [
      "+----------+-----+\n",
      "|      Make|count|\n",
      "+----------+-----+\n",
      "|    NISSAN|    6|\n",
      "|      FORD|    4|\n",
      "| CHEVROLET|    3|\n",
      "|     TESLA|   23|\n",
      "|       BMW|    2|\n",
      "|       KIA|    2|\n",
      "|     SMART|    8|\n",
      "|MITSUBISHI|    5|\n",
      "+----------+-----+\n",
      "\n"
     ]
    }
   ],
   "source": [
    "df_manufacturer = df.groupBy(\"Make\").count()\n",
    "\n",
    "df_manufacturer.show()"
   ]
  },
  {
   "cell_type": "markdown",
   "metadata": {},
   "source": [
    "## Sort manufacturer based on count of cars made"
   ]
  },
  {
   "cell_type": "code",
   "execution_count": 9,
   "metadata": {},
   "outputs": [
    {
     "name": "stdout",
     "output_type": "stream",
     "text": [
      "+----------+-----+\n",
      "|      Make|count|\n",
      "+----------+-----+\n",
      "|     TESLA|   23|\n",
      "|     SMART|    8|\n",
      "|    NISSAN|    6|\n",
      "|MITSUBISHI|    5|\n",
      "|      FORD|    4|\n",
      "| CHEVROLET|    3|\n",
      "|       KIA|    2|\n",
      "|       BMW|    2|\n",
      "+----------+-----+\n",
      "\n"
     ]
    }
   ],
   "source": [
    "df_manufacturer.sort(\"count\", ascending=False).show()"
   ]
  },
  {
   "cell_type": "markdown",
   "metadata": {},
   "source": [
    "## Count and sort the number of cars made by year"
   ]
  },
  {
   "cell_type": "code",
   "execution_count": 10,
   "metadata": {},
   "outputs": [
    {
     "name": "stdout",
     "output_type": "stream",
     "text": [
      "+----+-----+\n",
      "|YEAR|count|\n",
      "+----+-----+\n",
      "|2016|   19|\n",
      "|2015|   14|\n",
      "|2014|    9|\n",
      "|2013|    9|\n",
      "|2012|    2|\n",
      "+----+-----+\n",
      "\n"
     ]
    }
   ],
   "source": [
    "df_year = df.groupby('YEAR').count().sort(\"count\", ascending=False)\n",
    "df_year.show()"
   ]
  },
  {
   "cell_type": "markdown",
   "metadata": {},
   "source": [
    "## Convert Spark DataFrame to Pandas DataFrame"
   ]
  },
  {
   "cell_type": "code",
   "execution_count": 11,
   "metadata": {},
   "outputs": [
    {
     "data": {
      "text/html": [
       "<div>\n",
       "<style scoped>\n",
       "    .dataframe tbody tr th:only-of-type {\n",
       "        vertical-align: middle;\n",
       "    }\n",
       "\n",
       "    .dataframe tbody tr th {\n",
       "        vertical-align: top;\n",
       "    }\n",
       "\n",
       "    .dataframe thead th {\n",
       "        text-align: right;\n",
       "    }\n",
       "</style>\n",
       "<table border=\"1\" class=\"dataframe\">\n",
       "  <thead>\n",
       "    <tr style=\"text-align: right;\">\n",
       "      <th></th>\n",
       "      <th>YEAR</th>\n",
       "      <th>Make</th>\n",
       "      <th>Model</th>\n",
       "      <th>Size</th>\n",
       "      <th>(kW)</th>\n",
       "    </tr>\n",
       "  </thead>\n",
       "  <tbody>\n",
       "    <tr>\n",
       "      <th>0</th>\n",
       "      <td>2012</td>\n",
       "      <td>MITSUBISHI</td>\n",
       "      <td>i-MiEV</td>\n",
       "      <td>SUBCOMPACT</td>\n",
       "      <td>49</td>\n",
       "    </tr>\n",
       "    <tr>\n",
       "      <th>1</th>\n",
       "      <td>2012</td>\n",
       "      <td>NISSAN</td>\n",
       "      <td>LEAF</td>\n",
       "      <td>MID-SIZE</td>\n",
       "      <td>80</td>\n",
       "    </tr>\n",
       "    <tr>\n",
       "      <th>2</th>\n",
       "      <td>2013</td>\n",
       "      <td>FORD</td>\n",
       "      <td>FOCUS ELECTRIC</td>\n",
       "      <td>COMPACT</td>\n",
       "      <td>107</td>\n",
       "    </tr>\n",
       "    <tr>\n",
       "      <th>3</th>\n",
       "      <td>2013</td>\n",
       "      <td>MITSUBISHI</td>\n",
       "      <td>i-MiEV</td>\n",
       "      <td>SUBCOMPACT</td>\n",
       "      <td>49</td>\n",
       "    </tr>\n",
       "    <tr>\n",
       "      <th>4</th>\n",
       "      <td>2013</td>\n",
       "      <td>NISSAN</td>\n",
       "      <td>LEAF</td>\n",
       "      <td>MID-SIZE</td>\n",
       "      <td>80</td>\n",
       "    </tr>\n",
       "    <tr>\n",
       "      <th>5</th>\n",
       "      <td>2013</td>\n",
       "      <td>SMART</td>\n",
       "      <td>FORTWO ELECTRIC DRIVE CABRIOLET</td>\n",
       "      <td>TWO-SEATER</td>\n",
       "      <td>35</td>\n",
       "    </tr>\n",
       "    <tr>\n",
       "      <th>6</th>\n",
       "      <td>2013</td>\n",
       "      <td>SMART</td>\n",
       "      <td>FORTWO ELECTRIC DRIVE COUPE</td>\n",
       "      <td>TWO-SEATER</td>\n",
       "      <td>35</td>\n",
       "    </tr>\n",
       "    <tr>\n",
       "      <th>7</th>\n",
       "      <td>2013</td>\n",
       "      <td>TESLA</td>\n",
       "      <td>MODEL S (40 kWh battery)</td>\n",
       "      <td>FULL-SIZE</td>\n",
       "      <td>270</td>\n",
       "    </tr>\n",
       "    <tr>\n",
       "      <th>8</th>\n",
       "      <td>2013</td>\n",
       "      <td>TESLA</td>\n",
       "      <td>MODEL S (60 kWh battery)</td>\n",
       "      <td>FULL-SIZE</td>\n",
       "      <td>270</td>\n",
       "    </tr>\n",
       "    <tr>\n",
       "      <th>9</th>\n",
       "      <td>2013</td>\n",
       "      <td>TESLA</td>\n",
       "      <td>MODEL S (85 kWh battery)</td>\n",
       "      <td>FULL-SIZE</td>\n",
       "      <td>270</td>\n",
       "    </tr>\n",
       "  </tbody>\n",
       "</table>\n",
       "</div>"
      ],
      "text/plain": [
       "   YEAR        Make                            Model        Size  (kW)\n",
       "0  2012  MITSUBISHI                           i-MiEV  SUBCOMPACT    49\n",
       "1  2012      NISSAN                             LEAF    MID-SIZE    80\n",
       "2  2013        FORD                   FOCUS ELECTRIC     COMPACT   107\n",
       "3  2013  MITSUBISHI                           i-MiEV  SUBCOMPACT    49\n",
       "4  2013      NISSAN                             LEAF    MID-SIZE    80\n",
       "5  2013       SMART  FORTWO ELECTRIC DRIVE CABRIOLET  TWO-SEATER    35\n",
       "6  2013       SMART      FORTWO ELECTRIC DRIVE COUPE  TWO-SEATER    35\n",
       "7  2013       TESLA         MODEL S (40 kWh battery)   FULL-SIZE   270\n",
       "8  2013       TESLA         MODEL S (60 kWh battery)   FULL-SIZE   270\n",
       "9  2013       TESLA         MODEL S (85 kWh battery)   FULL-SIZE   270"
      ]
     },
     "execution_count": 11,
     "metadata": {},
     "output_type": "execute_result"
    }
   ],
   "source": [
    "df_pd = df.toPandas()\n",
    "\n",
    "df_pd.head(10)"
   ]
  },
  {
   "cell_type": "code",
   "execution_count": 12,
   "metadata": {},
   "outputs": [
    {
     "data": {
      "text/html": [
       "<div>\n",
       "<style scoped>\n",
       "    .dataframe tbody tr th:only-of-type {\n",
       "        vertical-align: middle;\n",
       "    }\n",
       "\n",
       "    .dataframe tbody tr th {\n",
       "        vertical-align: top;\n",
       "    }\n",
       "\n",
       "    .dataframe thead th {\n",
       "        text-align: right;\n",
       "    }\n",
       "</style>\n",
       "<table border=\"1\" class=\"dataframe\">\n",
       "  <thead>\n",
       "    <tr style=\"text-align: right;\">\n",
       "      <th></th>\n",
       "      <th>YEAR</th>\n",
       "      <th>(kW)</th>\n",
       "    </tr>\n",
       "  </thead>\n",
       "  <tbody>\n",
       "    <tr>\n",
       "      <th>count</th>\n",
       "      <td>53.000000</td>\n",
       "      <td>53.000000</td>\n",
       "    </tr>\n",
       "    <tr>\n",
       "      <th>mean</th>\n",
       "      <td>2014.735849</td>\n",
       "      <td>190.622642</td>\n",
       "    </tr>\n",
       "    <tr>\n",
       "      <th>std</th>\n",
       "      <td>1.227113</td>\n",
       "      <td>155.526429</td>\n",
       "    </tr>\n",
       "    <tr>\n",
       "      <th>min</th>\n",
       "      <td>2012.000000</td>\n",
       "      <td>35.000000</td>\n",
       "    </tr>\n",
       "    <tr>\n",
       "      <th>25%</th>\n",
       "      <td>2014.000000</td>\n",
       "      <td>80.000000</td>\n",
       "    </tr>\n",
       "    <tr>\n",
       "      <th>50%</th>\n",
       "      <td>2015.000000</td>\n",
       "      <td>107.000000</td>\n",
       "    </tr>\n",
       "    <tr>\n",
       "      <th>75%</th>\n",
       "      <td>2016.000000</td>\n",
       "      <td>283.000000</td>\n",
       "    </tr>\n",
       "    <tr>\n",
       "      <th>max</th>\n",
       "      <td>2016.000000</td>\n",
       "      <td>568.000000</td>\n",
       "    </tr>\n",
       "  </tbody>\n",
       "</table>\n",
       "</div>"
      ],
      "text/plain": [
       "              YEAR        (kW)\n",
       "count    53.000000   53.000000\n",
       "mean   2014.735849  190.622642\n",
       "std       1.227113  155.526429\n",
       "min    2012.000000   35.000000\n",
       "25%    2014.000000   80.000000\n",
       "50%    2015.000000  107.000000\n",
       "75%    2016.000000  283.000000\n",
       "max    2016.000000  568.000000"
      ]
     },
     "execution_count": 12,
     "metadata": {},
     "output_type": "execute_result"
    }
   ],
   "source": [
    "df_pd.describe()"
   ]
  },
  {
   "cell_type": "code",
   "execution_count": 13,
   "metadata": {
    "collapsed": true
   },
   "outputs": [],
   "source": [
    "spark.stop()"
   ]
  },
  {
   "cell_type": "code",
   "execution_count": null,
   "metadata": {
    "collapsed": true
   },
   "outputs": [],
   "source": []
  }
 ],
 "metadata": {
  "kernelspec": {
   "display_name": "Python 3",
   "language": "python",
   "name": "python3"
  },
  "language_info": {
   "codemirror_mode": {
    "name": "ipython",
    "version": 3
   },
   "file_extension": ".py",
   "mimetype": "text/x-python",
   "name": "python",
   "nbconvert_exporter": "python",
   "pygments_lexer": "ipython3",
   "version": "3.6.4"
  }
 },
 "nbformat": 4,
 "nbformat_minor": 2
}
