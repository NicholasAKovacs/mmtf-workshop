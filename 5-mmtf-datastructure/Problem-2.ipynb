{
 "cells": [
  {
   "cell_type": "markdown",
   "metadata": {},
   "source": [
    "### Problem-2\n",
    "Here we combine what you've learned about ColumnarStructure with skills from previous tutorials. We use ColumnarStructure to calculate the average number of water molecules per amino acid residue (waterRatio) and the average b-factor (temperature factor). We capture the information in a dataset and then plot the waterRatio against the resolution to see if there is a trend in the data."
   ]
  },
  {
   "cell_type": "code",
   "execution_count": 14,
   "metadata": {
    "collapsed": true
   },
   "outputs": [],
   "source": [
    "from pyspark.sql import Row, SparkSession\n",
    "from mmtfPyspark.filters import ContainsLProteinChain, ExperimentalMethods\n",
    "from mmtfPyspark.io import mmtfReader\n",
    "from mmtfPyspark.ml import pythonRDDToDataset\n",
    "from mmtfPyspark.utils import ColumnarStructure\n",
    "import matplotlib.pyplot as plt\n",
    "import numpy as np\n",
    "%matplotlib inline"
   ]
  },
  {
   "cell_type": "markdown",
   "metadata": {},
   "source": [
    "#### Configure Spark"
   ]
  },
  {
   "cell_type": "code",
   "execution_count": 15,
   "metadata": {
    "collapsed": true
   },
   "outputs": [],
   "source": [
    "spark = SparkSession.builder.master(\"local[4]\").appName(\"Solution-2\").getOrCreate()\n",
    "sc = spark.sparkContext"
   ]
  },
  {
   "cell_type": "markdown",
   "metadata": {},
   "source": [
    "### Read PDB structures"
   ]
  },
  {
   "cell_type": "code",
   "execution_count": 16,
   "metadata": {
    "collapsed": true
   },
   "outputs": [],
   "source": [
    "path = \"../resources/mmtf_full_sample\"\n",
    "pdb = mmtfReader.read_sequence_file(path, sc).cache()"
   ]
  },
  {
   "cell_type": "markdown",
   "metadata": {},
   "source": [
    "### TODO-1: filter structures: exclusively protein structures"
   ]
  },
  {
   "cell_type": "code",
   "execution_count": 18,
   "metadata": {},
   "outputs": [],
   "source": [
    "pdb = pdb.filter(ContainsLProteinChain(exclusive=True))"
   ]
  },
  {
   "cell_type": "markdown",
   "metadata": {},
   "source": [
    "### TODO-2: filter structures: only structures determined by ExperimentalMethods.X_RAY_DIFFRACTION"
   ]
  },
  {
   "cell_type": "code",
   "execution_count": 19,
   "metadata": {
    "collapsed": true
   },
   "outputs": [],
   "source": [
    "pdb = pdb.filter(ExperimentalMethods(ExperimentalMethods.X_RAY_DIFFRACTION))"
   ]
  },
  {
   "cell_type": "markdown",
   "metadata": {},
   "source": [
    "### Keep only structures with one model"
   ]
  },
  {
   "cell_type": "code",
   "execution_count": 20,
   "metadata": {
    "collapsed": true
   },
   "outputs": [],
   "source": [
    "pdb = pdb.filter(lambda t: t[1].num_models ==1)"
   ]
  },
  {
   "cell_type": "code",
   "execution_count": 27,
   "metadata": {},
   "outputs": [],
   "source": [
    "def calcProperties(s):\n",
    "    # s[0] pdb id\n",
    "    # s[1] mmtf structure record\n",
    "    arrays = ColumnarStructure(s[1], firstModelOnly=True)\n",
    "    \n",
    "    # we column arrays\n",
    "    atom_names = arrays.get_atom_names()\n",
    "    entity_types = arrays.get_entity_types()\n",
    "    \n",
    "    # TODO-3: get array of b-factors\n",
    "    b_factors = arrays.get_b_factors()\n",
    "     \n",
    "    # calculate number of protein residues using boolean indexing\n",
    "    pro_idx = (entity_types == 'PRO') & (atom_names == 'CA')\n",
    "    num_pro = int(np.sum(pro_idx))\n",
    "    \n",
    "    # TODO-4: calculate number of water residues using boolean indexing\n",
    "    wat_idx = (entity_types == 'WAT') & (atom_names == 'O')\n",
    "    num_wat = int(np.sum(wat_idx))\n",
    "    \n",
    "    # calculate average B-factor for protein atoms\n",
    "    pro_atom_idx = (entity_types == 'PRO')\n",
    "    pro_b_factors = b_factors[pro_atom_idx]\n",
    "    ave_b = float(np.average(pro_b_factors))\n",
    "    \n",
    "    return Row(s[0], s[1].resolution, ave_b, num_pro, num_wat, num_wat/num_pro)"
   ]
  },
  {
   "cell_type": "code",
   "execution_count": 28,
   "metadata": {
    "collapsed": true
   },
   "outputs": [],
   "source": [
    "rows = pdb.map(lambda s: calcProperties(s))"
   ]
  },
  {
   "cell_type": "code",
   "execution_count": 29,
   "metadata": {},
   "outputs": [],
   "source": [
    "col_names = [\"pdbId\", \"resolution\", \"ave_b\", \"numPro\", \"numWat\", \"waterRatio\"]\n",
    "summary = pythonRDDToDataset.get_dataset(rows, col_names).cache()"
   ]
  },
  {
   "cell_type": "code",
   "execution_count": 30,
   "metadata": {},
   "outputs": [
    {
     "name": "stdout",
     "output_type": "stream",
     "text": [
      "root\n",
      " |-- pdbId: string (nullable = false)\n",
      " |-- resolution: float (nullable = false)\n",
      " |-- ave_b: float (nullable = false)\n",
      " |-- numPro: integer (nullable = false)\n",
      " |-- numWat: integer (nullable = false)\n",
      " |-- waterRatio: float (nullable = false)\n",
      "\n"
     ]
    }
   ],
   "source": [
    "summary.printSchema()"
   ]
  },
  {
   "cell_type": "code",
   "execution_count": 31,
   "metadata": {},
   "outputs": [
    {
     "name": "stdout",
     "output_type": "stream",
     "text": [
      "+-----+----------+---------+------+------+----------+\n",
      "|pdbId|resolution|    ave_b|numPro|numWat|waterRatio|\n",
      "+-----+----------+---------+------+------+----------+\n",
      "| 1RCQ|      1.45|21.756687|   357|   306|0.85714287|\n",
      "| 1REG|       1.9|18.208447|   242|    71|0.29338843|\n",
      "| 1RFE|       2.0|  28.2726|   161|   125| 0.7763975|\n",
      "| 1RG8|       1.1| 19.50388|   282|   403|  1.429078|\n",
      "| 1RGX|     1.787|29.355947|   272|   179| 0.6580882|\n",
      "| 1RI5|       2.1| 41.27826|   252|   159|0.63095236|\n",
      "| 1RI6|       2.0|14.599165|   333|   423| 1.2702702|\n",
      "| 1RIF|       2.0|25.964952|   564|   254| 0.4503546|\n",
      "| 1RJD|       1.8|15.179373|   990|   765|0.77272725|\n",
      "| 1RJU|      1.44|15.277704|    36|    37| 1.0277778|\n",
      "| 1RK6|      1.43|11.050409|   475|   327| 0.6884211|\n",
      "| 1RK8|       1.9|31.297338|   247|   142| 0.5748988|\n",
      "| 1RKI|       1.6| 32.88302|   198|    89|0.44949496|\n",
      "| 1RKT|      1.95|26.156237|   415|   123|0.29638556|\n",
      "| 1RKU|      1.47|24.248116|   412|   397|0.96359223|\n",
      "| 1RL0|       1.4|12.062894|   255|   487| 1.9098039|\n",
      "| 1RL6|       2.0|32.408417|   164|   140|0.85365856|\n",
      "| 1RL8|       2.0|39.398495|   198|   143| 0.7222222|\n",
      "| 1RLI|       1.8| 29.59488|   648|   529|0.81635803|\n",
      "| 1RLZ|      2.15|17.669327|   344|   138| 0.4011628|\n",
      "+-----+----------+---------+------+------+----------+\n",
      "only showing top 20 rows\n",
      "\n"
     ]
    }
   ],
   "source": [
    "summary.show()"
   ]
  },
  {
   "cell_type": "code",
   "execution_count": 32,
   "metadata": {},
   "outputs": [
    {
     "data": {
      "image/png": "[encoded data removed]",
      "text/plain": [
       "<Figure size 432x288 with 1 Axes>"
      ]
     },
     "metadata": {},
     "output_type": "display_data"
    }
   ],
   "source": [
    "data = summary.toPandas()\n",
    "data.plot(x='resolution', y='waterRatio', kind='scatter');"
   ]
  },
  {
   "cell_type": "code",
   "execution_count": 11,
   "metadata": {
    "collapsed": true
   },
   "outputs": [],
   "source": [
    "spark.stop()"
   ]
  },
  {
   "cell_type": "code",
   "execution_count": null,
   "metadata": {
    "collapsed": true
   },
   "outputs": [],
   "source": []
  }
 ],
 "metadata": {
  "kernelspec": {
   "display_name": "Python 3",
   "language": "python",
   "name": "python3"
  },
  "language_info": {
   "codemirror_mode": {
    "name": "ipython",
    "version": 3
   },
   "file_extension": ".py",
   "mimetype": "text/x-python",
   "name": "python",
   "nbconvert_exporter": "python",
   "pygments_lexer": "ipython3",
   "version": "3.6.4"
  }
 },
 "nbformat": 4,
 "nbformat_minor": 2
}
