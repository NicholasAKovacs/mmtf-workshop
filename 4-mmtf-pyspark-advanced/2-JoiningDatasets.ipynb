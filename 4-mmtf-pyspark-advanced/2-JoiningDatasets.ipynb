{
 "cells": [
  {
   "cell_type": "markdown",
   "metadata": {},
   "source": [
    "# 2-JoiningDatasets\n",
    "This tutorial shows how to identify drug molecules in the PDB by joining two datasets: \n",
    "\n",
    "1. Drug information from DrugBank\n",
    "2. Ligand information from RCSB PDB"
   ]
  },
  {
   "cell_type": "code",
   "execution_count": 1,
   "metadata": {
    "collapsed": true
   },
   "outputs": [],
   "source": [
    "from pyspark.sql import SparkSession\n",
    "from mmtfPyspark.datasets import customReportService, drugBankDataset\n",
    "from mmtfPyspark.structureViewer import view_binding_site"
   ]
  },
  {
   "cell_type": "markdown",
   "metadata": {},
   "source": [
    "#### Configure Spark"
   ]
  },
  {
   "cell_type": "code",
   "execution_count": 2,
   "metadata": {
    "collapsed": true
   },
   "outputs": [],
   "source": [
    "spark = SparkSession.builder.master(\"local[4]\").appName(\"2-JoiningDatasets\").getOrCreate()"
   ]
  },
  {
   "cell_type": "markdown",
   "metadata": {},
   "source": [
    "## Download open DrugBank dataset\n",
    "Download a dataset of drugs from [DrugBank](https://www.drugbank.ca) and filter out any drugs that do not have an InChIKey. [InChIKeys](https://en.wikipedia.org/wiki/International_Chemical_Identifier) are unique identifiers for small molecules. \n",
    "\n",
    "DrugBank provides more [detailed datasets](https://github.com/sbl-sdsc/mmtf-pyspark/blob/master/mmtfPyspark/datasets/drugBankDataset.py), e.g., subset of approved drugs, but a DrugBank username and password is required. For this tutorial we use the open DrugBank dataset."
   ]
  },
  {
   "cell_type": "code",
   "execution_count": 3,
   "metadata": {
    "scrolled": true
   },
   "outputs": [
    {
     "data": {
      "text/html": [
       "<div>\n",
       "<style scoped>\n",
       "    .dataframe tbody tr th:only-of-type {\n",
       "        vertical-align: middle;\n",
       "    }\n",
       "\n",
       "    .dataframe tbody tr th {\n",
       "        vertical-align: top;\n",
       "    }\n",
       "\n",
       "    .dataframe thead th {\n",
       "        text-align: right;\n",
       "    }\n",
       "</style>\n",
       "<table border=\"1\" class=\"dataframe\">\n",
       "  <thead>\n",
       "    <tr style=\"text-align: right;\">\n",
       "      <th></th>\n",
       "      <th>DrugBankID</th>\n",
       "      <th>AccessionNumbers</th>\n",
       "      <th>Commonname</th>\n",
       "      <th>CAS</th>\n",
       "      <th>UNII</th>\n",
       "      <th>Synonyms</th>\n",
       "      <th>StandardInChIKey</th>\n",
       "    </tr>\n",
       "  </thead>\n",
       "  <tbody>\n",
       "    <tr>\n",
       "      <th>0</th>\n",
       "      <td>DB00006</td>\n",
       "      <td>BTD00076 | EXPT03302 | BIOD00076 | DB02351</td>\n",
       "      <td>Bivalirudin</td>\n",
       "      <td>128270-60-0</td>\n",
       "      <td>TN9BEX005G</td>\n",
       "      <td>Bivalirudina | Bivalirudinum | Hirulog</td>\n",
       "      <td>OIRCOABEOLEUMC-GEJPAHFPSA-N</td>\n",
       "    </tr>\n",
       "    <tr>\n",
       "      <th>1</th>\n",
       "      <td>DB00014</td>\n",
       "      <td>BTD00113 | BIOD00113</td>\n",
       "      <td>Goserelin</td>\n",
       "      <td>65807-02-5</td>\n",
       "      <td>0F65R8P09N</td>\n",
       "      <td>None</td>\n",
       "      <td>BLCLNMBMMGCOAS-URPVMXJPSA-N</td>\n",
       "    </tr>\n",
       "    <tr>\n",
       "      <th>2</th>\n",
       "      <td>DB00027</td>\n",
       "      <td>BTD00036 | BIOD00036</td>\n",
       "      <td>Gramicidin D</td>\n",
       "      <td>1405-97-6</td>\n",
       "      <td>5IE62321P4</td>\n",
       "      <td>Bacillus brevis gramicidin D | Gramicidin | Gr...</td>\n",
       "      <td>NDAYQJDHGXTBJL-MWWSRJDJSA-N</td>\n",
       "    </tr>\n",
       "    <tr>\n",
       "      <th>3</th>\n",
       "      <td>DB00035</td>\n",
       "      <td>BTD00112 | BTD00061 | BIOD00112 | BIOD00061</td>\n",
       "      <td>Desmopressin</td>\n",
       "      <td>16679-58-6</td>\n",
       "      <td>ENR1LLB0FP</td>\n",
       "      <td>1-(3-mercaptopropionic acid)-8-D-arginine-vaso...</td>\n",
       "      <td>NFLWUMRGJYTJIN-NXBWRCJVSA-N</td>\n",
       "    </tr>\n",
       "    <tr>\n",
       "      <th>4</th>\n",
       "      <td>DB00050</td>\n",
       "      <td>BTD00115 | APRD00686 | BIOD00115</td>\n",
       "      <td>Cetrorelix</td>\n",
       "      <td>120287-85-6</td>\n",
       "      <td>OON1HFZ4BA</td>\n",
       "      <td>Cetrorelixum</td>\n",
       "      <td>SBNPWPIBESPSIF-MHWMIDJBSA-N</td>\n",
       "    </tr>\n",
       "  </tbody>\n",
       "</table>\n",
       "</div>"
      ],
      "text/plain": [
       "  DrugBankID                             AccessionNumbers    Commonname  \\\n",
       "0    DB00006   BTD00076 | EXPT03302 | BIOD00076 | DB02351   Bivalirudin   \n",
       "1    DB00014                         BTD00113 | BIOD00113     Goserelin   \n",
       "2    DB00027                         BTD00036 | BIOD00036  Gramicidin D   \n",
       "3    DB00035  BTD00112 | BTD00061 | BIOD00112 | BIOD00061  Desmopressin   \n",
       "4    DB00050             BTD00115 | APRD00686 | BIOD00115    Cetrorelix   \n",
       "\n",
       "           CAS        UNII                                           Synonyms  \\\n",
       "0  128270-60-0  TN9BEX005G             Bivalirudina | Bivalirudinum | Hirulog   \n",
       "1   65807-02-5  0F65R8P09N                                               None   \n",
       "2    1405-97-6  5IE62321P4  Bacillus brevis gramicidin D | Gramicidin | Gr...   \n",
       "3   16679-58-6  ENR1LLB0FP  1-(3-mercaptopropionic acid)-8-D-arginine-vaso...   \n",
       "4  120287-85-6  OON1HFZ4BA                                       Cetrorelixum   \n",
       "\n",
       "              StandardInChIKey  \n",
       "0  OIRCOABEOLEUMC-GEJPAHFPSA-N  \n",
       "1  BLCLNMBMMGCOAS-URPVMXJPSA-N  \n",
       "2  NDAYQJDHGXTBJL-MWWSRJDJSA-N  \n",
       "3  NFLWUMRGJYTJIN-NXBWRCJVSA-N  \n",
       "4  SBNPWPIBESPSIF-MHWMIDJBSA-N  "
      ]
     },
     "execution_count": 3,
     "metadata": {},
     "output_type": "execute_result"
    }
   ],
   "source": [
    "drugs = drugBankDataset.get_open_drug_links()\n",
    "drugs = drugs.filter(\"StandardInChIKey IS NOT NULL\").cache()\n",
    "drugs.toPandas().head(5)"
   ]
  },
  {
   "cell_type": "markdown",
   "metadata": {},
   "source": [
    "## Download ligand annotations from RCSB PDB \n",
    "Here we use [RCSB PDB web services](http://dx.doi.org/10.1093/nar/gkq1021) to download InChIKeys and molecular weight for ligands in the PDB (this step can be slow!).\n",
    "\n",
    "We filter out entries without an InChIKey and low molecular weight ligands using SQL syntax."
   ]
  },
  {
   "cell_type": "code",
   "execution_count": 4,
   "metadata": {},
   "outputs": [
    {
     "data": {
      "text/html": [
       "<div>\n",
       "<style scoped>\n",
       "    .dataframe tbody tr th:only-of-type {\n",
       "        vertical-align: middle;\n",
       "    }\n",
       "\n",
       "    .dataframe tbody tr th {\n",
       "        vertical-align: top;\n",
       "    }\n",
       "\n",
       "    .dataframe thead th {\n",
       "        text-align: right;\n",
       "    }\n",
       "</style>\n",
       "<table border=\"1\" class=\"dataframe\">\n",
       "  <thead>\n",
       "    <tr style=\"text-align: right;\">\n",
       "      <th></th>\n",
       "      <th>structureChainId</th>\n",
       "      <th>structureId</th>\n",
       "      <th>chainId</th>\n",
       "      <th>ligandId</th>\n",
       "      <th>InChIKey</th>\n",
       "      <th>ligandMolecularWeight</th>\n",
       "    </tr>\n",
       "  </thead>\n",
       "  <tbody>\n",
       "    <tr>\n",
       "      <th>0</th>\n",
       "      <td>101D.A</td>\n",
       "      <td>101D</td>\n",
       "      <td>A</td>\n",
       "      <td>CBR</td>\n",
       "      <td>PLDRCXOBLRYJSZ-RRKCRQDMSA-N</td>\n",
       "      <td>386.09</td>\n",
       "    </tr>\n",
       "    <tr>\n",
       "      <th>1</th>\n",
       "      <td>101D.B</td>\n",
       "      <td>101D</td>\n",
       "      <td>B</td>\n",
       "      <td>CBR</td>\n",
       "      <td>PLDRCXOBLRYJSZ-RRKCRQDMSA-N</td>\n",
       "      <td>386.09</td>\n",
       "    </tr>\n",
       "    <tr>\n",
       "      <th>2</th>\n",
       "      <td>101D.B</td>\n",
       "      <td>101D</td>\n",
       "      <td>B</td>\n",
       "      <td>NT</td>\n",
       "      <td>IDBIFFKSXLYUOT-UHFFFAOYSA-N</td>\n",
       "      <td>430.46</td>\n",
       "    </tr>\n",
       "    <tr>\n",
       "      <th>3</th>\n",
       "      <td>101M.A</td>\n",
       "      <td>101M</td>\n",
       "      <td>A</td>\n",
       "      <td>HEM</td>\n",
       "      <td>KABFMIBPWCXCRK-RGGAHWMASA-L</td>\n",
       "      <td>616.49</td>\n",
       "    </tr>\n",
       "    <tr>\n",
       "      <th>4</th>\n",
       "      <td>102D.B</td>\n",
       "      <td>102D</td>\n",
       "      <td>B</td>\n",
       "      <td>TNT</td>\n",
       "      <td>WTFXJFJYEJZMFO-UHFFFAOYSA-N</td>\n",
       "      <td>312.37</td>\n",
       "    </tr>\n",
       "    <tr>\n",
       "      <th>5</th>\n",
       "      <td>102M.A</td>\n",
       "      <td>102M</td>\n",
       "      <td>A</td>\n",
       "      <td>HEM</td>\n",
       "      <td>KABFMIBPWCXCRK-RGGAHWMASA-L</td>\n",
       "      <td>616.49</td>\n",
       "    </tr>\n",
       "    <tr>\n",
       "      <th>6</th>\n",
       "      <td>103M.A</td>\n",
       "      <td>103M</td>\n",
       "      <td>A</td>\n",
       "      <td>HEM</td>\n",
       "      <td>KABFMIBPWCXCRK-RGGAHWMASA-L</td>\n",
       "      <td>616.49</td>\n",
       "    </tr>\n",
       "    <tr>\n",
       "      <th>7</th>\n",
       "      <td>104M.A</td>\n",
       "      <td>104M</td>\n",
       "      <td>A</td>\n",
       "      <td>HEM</td>\n",
       "      <td>KABFMIBPWCXCRK-RGGAHWMASA-L</td>\n",
       "      <td>616.49</td>\n",
       "    </tr>\n",
       "    <tr>\n",
       "      <th>8</th>\n",
       "      <td>105M.A</td>\n",
       "      <td>105M</td>\n",
       "      <td>A</td>\n",
       "      <td>HEM</td>\n",
       "      <td>KABFMIBPWCXCRK-RGGAHWMASA-L</td>\n",
       "      <td>616.49</td>\n",
       "    </tr>\n",
       "    <tr>\n",
       "      <th>9</th>\n",
       "      <td>106M.A</td>\n",
       "      <td>106M</td>\n",
       "      <td>A</td>\n",
       "      <td>HEM</td>\n",
       "      <td>KABFMIBPWCXCRK-RGGAHWMASA-L</td>\n",
       "      <td>616.49</td>\n",
       "    </tr>\n",
       "  </tbody>\n",
       "</table>\n",
       "</div>"
      ],
      "text/plain": [
       "  structureChainId structureId chainId ligandId                     InChIKey  \\\n",
       "0           101D.A        101D       A      CBR  PLDRCXOBLRYJSZ-RRKCRQDMSA-N   \n",
       "1           101D.B        101D       B      CBR  PLDRCXOBLRYJSZ-RRKCRQDMSA-N   \n",
       "2           101D.B        101D       B       NT  IDBIFFKSXLYUOT-UHFFFAOYSA-N   \n",
       "3           101M.A        101M       A      HEM  KABFMIBPWCXCRK-RGGAHWMASA-L   \n",
       "4           102D.B        102D       B      TNT  WTFXJFJYEJZMFO-UHFFFAOYSA-N   \n",
       "5           102M.A        102M       A      HEM  KABFMIBPWCXCRK-RGGAHWMASA-L   \n",
       "6           103M.A        103M       A      HEM  KABFMIBPWCXCRK-RGGAHWMASA-L   \n",
       "7           104M.A        104M       A      HEM  KABFMIBPWCXCRK-RGGAHWMASA-L   \n",
       "8           105M.A        105M       A      HEM  KABFMIBPWCXCRK-RGGAHWMASA-L   \n",
       "9           106M.A        106M       A      HEM  KABFMIBPWCXCRK-RGGAHWMASA-L   \n",
       "\n",
       "   ligandMolecularWeight  \n",
       "0                 386.09  \n",
       "1                 386.09  \n",
       "2                 430.46  \n",
       "3                 616.49  \n",
       "4                 312.37  \n",
       "5                 616.49  \n",
       "6                 616.49  \n",
       "7                 616.49  \n",
       "8                 616.49  \n",
       "9                 616.49  "
      ]
     },
     "execution_count": 4,
     "metadata": {},
     "output_type": "execute_result"
    }
   ],
   "source": [
    "ligands = customReportService.get_dataset([\"ligandId\",\"InChIKey\",\"ligandMolecularWeight\"])\n",
    "\n",
    "ligands = ligands.filter(\"InChIKey IS NOT NULL AND ligandMolecularWeight > 300\").cache()\n",
    "\n",
    "ligands.toPandas().head(10)"
   ]
  },
  {
   "cell_type": "markdown",
   "metadata": {},
   "source": [
    "## Find drugs in PDB\n",
    "By [joining](https://spark.apache.org/docs/latest/api/python/pyspark.sql.html?highlight=join#pyspark.sql.DataFrame.join) the two datasets on the InChIKey, we get the intersection between the two datasets."
   ]
  },
  {
   "cell_type": "code",
   "execution_count": 5,
   "metadata": {
    "collapsed": true
   },
   "outputs": [],
   "source": [
    "ligands = ligands.join(drugs, ligands.InChIKey == drugs.StandardInChIKey)"
   ]
  },
  {
   "cell_type": "markdown",
   "metadata": {},
   "source": [
    "#### Keep only unique ligands per structure"
   ]
  },
  {
   "cell_type": "markdown",
   "metadata": {},
   "source": [
    "Here we [drop](https://spark.apache.org/docs/latest/api/python/pyspark.sql.html?highlight=join#pyspark.sql.DataFrame.dropDuplicates) rows with the same structureId and ligandId."
   ]
  },
  {
   "cell_type": "code",
   "execution_count": 6,
   "metadata": {
    "collapsed": true
   },
   "outputs": [],
   "source": [
    "ligands = ligands.dropDuplicates([\"structureId\",\"ligandId\"]).cache()"
   ]
  },
  {
   "cell_type": "markdown",
   "metadata": {},
   "source": [
    "#### Keep only essential columns"
   ]
  },
  {
   "cell_type": "code",
   "execution_count": 7,
   "metadata": {},
   "outputs": [
    {
     "data": {
      "text/html": [
       "<div>\n",
       "<style scoped>\n",
       "    .dataframe tbody tr th:only-of-type {\n",
       "        vertical-align: middle;\n",
       "    }\n",
       "\n",
       "    .dataframe tbody tr th {\n",
       "        vertical-align: top;\n",
       "    }\n",
       "\n",
       "    .dataframe thead th {\n",
       "        text-align: right;\n",
       "    }\n",
       "</style>\n",
       "<table border=\"1\" class=\"dataframe\">\n",
       "  <thead>\n",
       "    <tr style=\"text-align: right;\">\n",
       "      <th></th>\n",
       "      <th>structureId</th>\n",
       "      <th>ligandId</th>\n",
       "      <th>chainId</th>\n",
       "      <th>Commonname</th>\n",
       "    </tr>\n",
       "  </thead>\n",
       "  <tbody>\n",
       "    <tr>\n",
       "      <th>0</th>\n",
       "      <td>1AJ7</td>\n",
       "      <td>NPE</td>\n",
       "      <td>H</td>\n",
       "      <td>5-(PARA-NITROPHENYL PHOSPHONATE)-PENTANOIC ACID</td>\n",
       "    </tr>\n",
       "    <tr>\n",
       "      <th>1</th>\n",
       "      <td>1EYR</td>\n",
       "      <td>CDP</td>\n",
       "      <td>A</td>\n",
       "      <td>Cytidine-5'-Diphosphate</td>\n",
       "    </tr>\n",
       "    <tr>\n",
       "      <th>2</th>\n",
       "      <td>1FBZ</td>\n",
       "      <td>CC1</td>\n",
       "      <td>A</td>\n",
       "      <td>{4-[2-Acetylamino-2-(3-Carbamoyl-2-Cyclohexylm...</td>\n",
       "    </tr>\n",
       "    <tr>\n",
       "      <th>3</th>\n",
       "      <td>1G17</td>\n",
       "      <td>GNP</td>\n",
       "      <td>A</td>\n",
       "      <td>Phosphoaminophosphonic Acid Guanylate Ester</td>\n",
       "    </tr>\n",
       "    <tr>\n",
       "      <th>4</th>\n",
       "      <td>1G1L</td>\n",
       "      <td>DAU</td>\n",
       "      <td>A</td>\n",
       "      <td>2'deoxy-Thymidine-5'-Diphospho-Alpha-D-Glucose</td>\n",
       "    </tr>\n",
       "    <tr>\n",
       "      <th>5</th>\n",
       "      <td>1H1W</td>\n",
       "      <td>ATP</td>\n",
       "      <td>A</td>\n",
       "      <td>ATP</td>\n",
       "    </tr>\n",
       "    <tr>\n",
       "      <th>6</th>\n",
       "      <td>1H86</td>\n",
       "      <td>FAD</td>\n",
       "      <td>A</td>\n",
       "      <td>Flavin adenine dinucleotide</td>\n",
       "    </tr>\n",
       "    <tr>\n",
       "      <th>7</th>\n",
       "      <td>1HNB</td>\n",
       "      <td>GDN</td>\n",
       "      <td>A</td>\n",
       "      <td>S-(2,4-dinitrophenyl)glutathione</td>\n",
       "    </tr>\n",
       "    <tr>\n",
       "      <th>8</th>\n",
       "      <td>1HTT</td>\n",
       "      <td>AMP</td>\n",
       "      <td>A</td>\n",
       "      <td>Adenosine monophosphate</td>\n",
       "    </tr>\n",
       "    <tr>\n",
       "      <th>9</th>\n",
       "      <td>1I3L</td>\n",
       "      <td>GDU</td>\n",
       "      <td>A</td>\n",
       "      <td>Galactose-uridine-5'-diphosphate</td>\n",
       "    </tr>\n",
       "  </tbody>\n",
       "</table>\n",
       "</div>"
      ],
      "text/plain": [
       "  structureId ligandId chainId  \\\n",
       "0        1AJ7      NPE       H   \n",
       "1        1EYR      CDP       A   \n",
       "2        1FBZ      CC1       A   \n",
       "3        1G17      GNP       A   \n",
       "4        1G1L      DAU       A   \n",
       "5        1H1W      ATP       A   \n",
       "6        1H86      FAD       A   \n",
       "7        1HNB      GDN       A   \n",
       "8        1HTT      AMP       A   \n",
       "9        1I3L      GDU       A   \n",
       "\n",
       "                                          Commonname  \n",
       "0    5-(PARA-NITROPHENYL PHOSPHONATE)-PENTANOIC ACID  \n",
       "1                            Cytidine-5'-Diphosphate  \n",
       "2  {4-[2-Acetylamino-2-(3-Carbamoyl-2-Cyclohexylm...  \n",
       "3        Phosphoaminophosphonic Acid Guanylate Ester  \n",
       "4     2'deoxy-Thymidine-5'-Diphospho-Alpha-D-Glucose  \n",
       "5                                                ATP  \n",
       "6                        Flavin adenine dinucleotide  \n",
       "7                   S-(2,4-dinitrophenyl)glutathione  \n",
       "8                            Adenosine monophosphate  \n",
       "9                   Galactose-uridine-5'-diphosphate  "
      ]
     },
     "execution_count": 7,
     "metadata": {},
     "output_type": "execute_result"
    }
   ],
   "source": [
    "ligands = ligands.select(\"structureId\",\"ligandId\",\"chainId\",\"Commonname\")\n",
    "ligands.toPandas().head(10)"
   ]
  },
  {
   "cell_type": "markdown",
   "metadata": {},
   "source": [
    "## Visualize drug binding sites"
   ]
  },
  {
   "cell_type": "markdown",
   "metadata": {},
   "source": [
    "#### Extract id columns as lists (required for visualization)"
   ]
  },
  {
   "cell_type": "code",
   "execution_count": 8,
   "metadata": {
    "collapsed": true
   },
   "outputs": [],
   "source": [
    "pdb_ids = ligands.select(\"structureId\").rdd.flatMap(lambda x: x).collect()\n",
    "ligand_ids = ligands.select(\"ligandId\").rdd.flatMap(lambda x: x).collect()\n",
    "chain_ids = ligands.select(\"chainId\").rdd.flatMap(lambda x: x).collect()"
   ]
  },
  {
   "cell_type": "markdown",
   "metadata": {},
   "source": [
    "Disable scrollbar for the visualization below"
   ]
  },
  {
   "cell_type": "code",
   "execution_count": 9,
   "metadata": {},
   "outputs": [
    {
     "data": {
      "application/javascript": [
       "IPython.OutputArea.prototype._should_scroll = function(lines) {return false;}"
      ],
      "text/plain": [
       "<IPython.core.display.Javascript object>"
      ]
     },
     "metadata": {},
     "output_type": "display_data"
    }
   ],
   "source": [
    "%%javascript \n",
    "IPython.OutputArea.prototype._should_scroll = function(lines) {return false;}"
   ]
  },
  {
   "cell_type": "markdown",
   "metadata": {},
   "source": [
    "#### Show binding site residues within 4.5 A from the drug molecule"
   ]
  },
  {
   "cell_type": "code",
   "execution_count": 10,
   "metadata": {
    "scrolled": true
   },
   "outputs": [
    {
     "data": {
      "application/vnd.jupyter.widget-view+json": {
       "model_id": "efc2e4a5e5a6489abfa33e94e08d39ff",
       "version_major": 2,
       "version_minor": 0
      },
      "text/plain": [
       "interactive(children=(IntSlider(value=0, continuous_update=False, description='Structure', max=26411), Output(…"
      ]
     },
     "metadata": {},
     "output_type": "display_data"
    }
   ],
   "source": [
    "view_binding_site(pdb_ids, ligand_ids, chain_ids, distance=4.5);"
   ]
  },
  {
   "cell_type": "code",
   "execution_count": 11,
   "metadata": {
    "collapsed": true
   },
   "outputs": [],
   "source": [
    "spark.stop()"
   ]
  }
 ],
 "metadata": {
  "kernelspec": {
   "display_name": "Python 3",
   "language": "python",
   "name": "python3"
  },
  "language_info": {
   "codemirror_mode": {
    "name": "ipython",
    "version": 3
   },
   "file_extension": ".py",
   "mimetype": "text/x-python",
   "name": "python",
   "nbconvert_exporter": "python",
   "pygments_lexer": "ipython3",
   "version": "3.6.4"
  }
 },
 "nbformat": 4,
 "nbformat_minor": 2
}
