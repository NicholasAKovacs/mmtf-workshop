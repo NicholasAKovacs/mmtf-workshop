{
 "cells": [
  {
   "cell_type": "markdown",
   "metadata": {},
   "source": [
    "# 4-CreateDatasets\n",
    "This tutorial shows a basic template to create a dataset computationally."
   ]
  },
  {
   "cell_type": "code",
   "execution_count": 1,
   "metadata": {
    "collapsed": true
   },
   "outputs": [],
   "source": [
    "from pyspark import SparkContext\n",
    "from pyspark.sql import Row, SparkSession\n",
    "from mmtfPyspark.ml import pythonRDDToDataset\n",
    "from mmtfPyspark.io import mmtfReader"
   ]
  },
  {
   "cell_type": "markdown",
   "metadata": {},
   "source": [
    "#### Configure Spark Session and Spark Context"
   ]
  },
  {
   "cell_type": "code",
   "execution_count": 2,
   "metadata": {
    "collapsed": true
   },
   "outputs": [],
   "source": [
    "spark = SparkSession.builder.master(\"local[4]\").appName(\"4-CreateDatasets\").getOrCreate()\n",
    "sc = spark.sparkContext"
   ]
  },
  {
   "cell_type": "markdown",
   "metadata": {},
   "source": [
    "## Read a 10% fraction of the sample file\n",
    "Reading a random fraction of the input file is a good strategy to test some new functionality."
   ]
  },
  {
   "cell_type": "code",
   "execution_count": 3,
   "metadata": {
    "collapsed": true
   },
   "outputs": [],
   "source": [
    "path = \"../resources/mmtf_full_sample\"\n",
    "pdb = mmtfReader.read_sequence_file(path, sc, fraction=0.1)"
   ]
  },
  {
   "cell_type": "markdown",
   "metadata": {},
   "source": [
    "# Creating a dataset in 3 simple steps"
   ]
  },
  {
   "cell_type": "markdown",
   "metadata": {},
   "source": [
    "## Step 1: calculate properties for a structure and add it to a Row object"
   ]
  },
  {
   "cell_type": "code",
   "execution_count": 4,
   "metadata": {
    "collapsed": true
   },
   "outputs": [],
   "source": [
    "def calcProperties(s):\n",
    "    # s[0] pdb id\n",
    "    # s[1] mmtf structure record\n",
    "    return Row(s[0], s[1].num_models, s[1].num_chains, s[1].num_groups, s[1].num_atoms, s[1].num_bonds)"
   ]
  },
  {
   "cell_type": "markdown",
   "metadata": {},
   "source": [
    "## Step 2: map structures to rows\n",
    "Here we use a lambda expression to calculate properties."
   ]
  },
  {
   "cell_type": "code",
   "execution_count": 5,
   "metadata": {
    "collapsed": true
   },
   "outputs": [],
   "source": [
    "rows = pdb.map(lambda s: calcProperties(s))"
   ]
  },
  {
   "cell_type": "markdown",
   "metadata": {},
   "source": [
    "## Step 3: convert RDD of Rows to a dataset"
   ]
  },
  {
   "cell_type": "code",
   "execution_count": 6,
   "metadata": {
    "collapsed": true
   },
   "outputs": [],
   "source": [
    "col_names = [\"pdbId\", \"models\", \"chains\", \"groups\", \"atoms\", \"bonds\"]\n",
    "summary = pythonRDDToDataset.get_dataset(rows, col_names) \n",
    "# summary = spark.createDataFrame(rows, col_names) # alternative method, converts int to long"
   ]
  },
  {
   "cell_type": "markdown",
   "metadata": {},
   "source": [
    "## Done: Show some details about this dataset"
   ]
  },
  {
   "cell_type": "code",
   "execution_count": 7,
   "metadata": {},
   "outputs": [
    {
     "data": {
      "text/plain": [
       "['pdbId', 'models', 'chains', 'groups', 'atoms', 'bonds']"
      ]
     },
     "execution_count": 7,
     "metadata": {},
     "output_type": "execute_result"
    }
   ],
   "source": [
    "summary.columns"
   ]
  },
  {
   "cell_type": "code",
   "execution_count": 8,
   "metadata": {
    "scrolled": true
   },
   "outputs": [
    {
     "name": "stdout",
     "output_type": "stream",
     "text": [
      "root\n",
      " |-- pdbId: string (nullable = false)\n",
      " |-- models: integer (nullable = false)\n",
      " |-- chains: integer (nullable = false)\n",
      " |-- groups: integer (nullable = false)\n",
      " |-- atoms: integer (nullable = false)\n",
      " |-- bonds: integer (nullable = false)\n",
      "\n"
     ]
    }
   ],
   "source": [
    "summary.printSchema()"
   ]
  },
  {
   "cell_type": "code",
   "execution_count": 9,
   "metadata": {},
   "outputs": [
    {
     "name": "stdout",
     "output_type": "stream",
     "text": [
      "+-----+------+------+------+-----+-----+\n",
      "|pdbId|models|chains|groups|atoms|bonds|\n",
      "+-----+------+------+------+-----+-----+\n",
      "| 1LGH|     1|    68|   512| 5436| 5526|\n",
      "| 1LJ8|     1|     3|   930| 4310| 3965|\n",
      "| 1LMI|     1|     2|   303| 1139|  989|\n",
      "| 1LQV|     1|    30|   862| 4048| 3695|\n",
      "| 1LRI|     1|     4|   199|  861|  777|\n",
      "| 4XPQ|     1|    11|  1254| 6027| 5613|\n",
      "| 4XUO|     1|     6|   373| 2459| 2436|\n",
      "| 4XWJ|     1|     4|   264| 1879| 1879|\n",
      "| 4XXI|     1|     6|   357| 2451| 2424|\n",
      "| 6F8P|     1|     2|   637| 2668| 2389|\n",
      "| 6C8R|     1|     7|  1382| 6524| 6022|\n",
      "| 4YNX|     1|     6|   129|  706|  667|\n",
      "| 4YOR|     1|     6|   837| 3955| 3630|\n",
      "| 4YPC|     1|     2|   192|  850|  746|\n",
      "| 1GP6|     1|     8|   713| 3186| 2892|\n",
      "| 1GPP|     1|     2|   520| 2060| 1789|\n",
      "| 1GWE|     1|     6|  1380| 5144| 4388|\n",
      "| 1C4O|     1|     8|   846| 4453| 4196|\n",
      "| 1F1M|     1|    14|  1286| 5534| 4920|\n",
      "| 1G8M|     1|     7|  1927| 9795| 9219|\n",
      "+-----+------+------+------+-----+-----+\n",
      "only showing top 20 rows\n",
      "\n"
     ]
    }
   ],
   "source": [
    "summary.show()"
   ]
  },
  {
   "cell_type": "markdown",
   "metadata": {},
   "source": [
    "#### Print statistics for the numerical columns"
   ]
  },
  {
   "cell_type": "code",
   "execution_count": 10,
   "metadata": {
    "scrolled": false
   },
   "outputs": [
    {
     "data": {
      "text/html": [
       "<div>\n",
       "<style scoped>\n",
       "    .dataframe tbody tr th:only-of-type {\n",
       "        vertical-align: middle;\n",
       "    }\n",
       "\n",
       "    .dataframe tbody tr th {\n",
       "        vertical-align: top;\n",
       "    }\n",
       "\n",
       "    .dataframe thead th {\n",
       "        text-align: right;\n",
       "    }\n",
       "</style>\n",
       "<table border=\"1\" class=\"dataframe\">\n",
       "  <thead>\n",
       "    <tr style=\"text-align: right;\">\n",
       "      <th></th>\n",
       "      <th>summary</th>\n",
       "      <th>models</th>\n",
       "      <th>chains</th>\n",
       "      <th>groups</th>\n",
       "      <th>atoms</th>\n",
       "      <th>bonds</th>\n",
       "    </tr>\n",
       "  </thead>\n",
       "  <tbody>\n",
       "    <tr>\n",
       "      <th>0</th>\n",
       "      <td>count</td>\n",
       "      <td>1003</td>\n",
       "      <td>1003</td>\n",
       "      <td>1003</td>\n",
       "      <td>1003</td>\n",
       "      <td>1003</td>\n",
       "    </tr>\n",
       "    <tr>\n",
       "      <th>1</th>\n",
       "      <td>mean</td>\n",
       "      <td>1.0</td>\n",
       "      <td>8.563310069790628</td>\n",
       "      <td>704.6380857427716</td>\n",
       "      <td>3539.3868394815554</td>\n",
       "      <td>3282.731804586241</td>\n",
       "    </tr>\n",
       "    <tr>\n",
       "      <th>2</th>\n",
       "      <td>stddev</td>\n",
       "      <td>0.0</td>\n",
       "      <td>7.25805559832876</td>\n",
       "      <td>434.0678539370103</td>\n",
       "      <td>2116.16935909995</td>\n",
       "      <td>1998.03065188792</td>\n",
       "    </tr>\n",
       "    <tr>\n",
       "      <th>3</th>\n",
       "      <td>min</td>\n",
       "      <td>1</td>\n",
       "      <td>2</td>\n",
       "      <td>43</td>\n",
       "      <td>183</td>\n",
       "      <td>171</td>\n",
       "    </tr>\n",
       "    <tr>\n",
       "      <th>4</th>\n",
       "      <td>max</td>\n",
       "      <td>1</td>\n",
       "      <td>68</td>\n",
       "      <td>2598</td>\n",
       "      <td>9956</td>\n",
       "      <td>9692</td>\n",
       "    </tr>\n",
       "  </tbody>\n",
       "</table>\n",
       "</div>"
      ],
      "text/plain": [
       "  summary models             chains             groups               atoms  \\\n",
       "0   count   1003               1003               1003                1003   \n",
       "1    mean    1.0  8.563310069790628  704.6380857427716  3539.3868394815554   \n",
       "2  stddev    0.0   7.25805559832876  434.0678539370103    2116.16935909995   \n",
       "3     min      1                  2                 43                 183   \n",
       "4     max      1                 68               2598                9956   \n",
       "\n",
       "               bonds  \n",
       "0               1003  \n",
       "1  3282.731804586241  \n",
       "2   1998.03065188792  \n",
       "3                171  \n",
       "4               9692  "
      ]
     },
     "execution_count": 10,
     "metadata": {},
     "output_type": "execute_result"
    }
   ],
   "source": [
    "summary.describe(col_names[1:]).toPandas()"
   ]
  },
  {
   "cell_type": "code",
   "execution_count": 11,
   "metadata": {
    "collapsed": true
   },
   "outputs": [],
   "source": [
    "spark.stop()"
   ]
  }
 ],
 "metadata": {
  "kernelspec": {
   "display_name": "Python 3",
   "language": "python",
   "name": "python3"
  },
  "language_info": {
   "codemirror_mode": {
    "name": "ipython",
    "version": 3
   },
   "file_extension": ".py",
   "mimetype": "text/x-python",
   "name": "python",
   "nbconvert_exporter": "python",
   "pygments_lexer": "ipython3",
   "version": "3.6.4"
  }
 },
 "nbformat": 4,
 "nbformat_minor": 2
}
