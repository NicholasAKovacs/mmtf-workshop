{
 "cells": [
  {
   "cell_type": "markdown",
   "metadata": {},
   "source": [
    "# Problem-1\n",
    "This tutorial shows how to find proteins for a specific organism, how to calculate protein-protein interactions, and visualize the results."
   ]
  },
  {
   "cell_type": "code",
   "execution_count": 1,
   "metadata": {
    "collapsed": true
   },
   "outputs": [],
   "source": [
    "from pyspark.sql import SparkSession\n",
    "from pyspark.sql.functions import substring_index\n",
    "from mmtfPyspark.datasets import pdbjMineDataset\n",
    "from mmtfPyspark.webfilters import PdbjMineSearch\n",
    "from mmtfPyspark.interactions import InteractionFilter, InteractionFingerprinter\n",
    "from mmtfPyspark.io import mmtfReader\n",
    "from ipywidgets import interact, IntSlider\n",
    "import py3Dmol\n",
    "\n",
    "from mmtfPyspark.structureViewer import view_structure"
   ]
  },
  {
   "cell_type": "markdown",
   "metadata": {},
   "source": [
    "#### Configure Spark"
   ]
  },
  {
   "cell_type": "code",
   "execution_count": 2,
   "metadata": {
    "collapsed": true
   },
   "outputs": [],
   "source": [
    "spark = SparkSession.builder.master(\"local[4]\").appName(\"Problem-1\").getOrCreate()\n",
    "sc = spark.sparkContext"
   ]
  },
  {
   "cell_type": "markdown",
   "metadata": {},
   "source": [
    "## Find protein structures for mouse"
   ]
  },
  {
   "cell_type": "markdown",
   "metadata": {},
   "source": [
    "For our first task, we need to run a taxonomy query using SIFTS data. [See examples](https://github.com/sbl-sdsc/mmtf-pyspark/blob/master/demos/datasets/PDBMetaDataDemo.ipynb) and [SIFTS demo](https://github.com/sbl-sdsc/mmtf-pyspark/blob/master/demos/datasets/SiftsDataDemo.ipynb)\n",
    "\n",
    "To figure out how to query for taxonomy, the command below lists the first 10 entries for the SIFTS taxonomy table. As you can see, we can use the science_name field to query for a specific organism."
   ]
  },
  {
   "cell_type": "code",
   "execution_count": 3,
   "metadata": {},
   "outputs": [
    {
     "name": "stdout",
     "output_type": "stream",
     "text": [
      "+-----+-----+------+--------------------+----------------+\n",
      "|pdbid|chain|tax_id|     scientific_name|structureChainId|\n",
      "+-----+-----+------+--------------------+----------------+\n",
      "| 5DQL|    D|652616|Mycobacterium tub...|          5DQL.D|\n",
      "| 5DQL|    D|652616|Mycobacterium tub...|          5DQL.D|\n",
      "| 5DQM|    A|210840|Aequorea coerules...|          5DQM.A|\n",
      "| 5DQM|    A|210840|Aequorea coerules...|          5DQM.A|\n",
      "| 5DQM|    A|210840|      belt jellyfish|          5DQM.A|\n",
      "| 5DQN|    A|246196|               MYCS2|          5DQN.A|\n",
      "| 5DQN|    A|246196|Mycobacterium sme...|          5DQN.A|\n",
      "| 5DQN|    A|246196|Mycobacterium sme...|          5DQN.A|\n",
      "| 5DQN|    A|246196|Mycobacterium sme...|          5DQN.A|\n",
      "| 5DQN|    A|246196|Mycobacterium sme...|          5DQN.A|\n",
      "+-----+-----+------+--------------------+----------------+\n",
      "\n"
     ]
    }
   ],
   "source": [
    "taxonomy_query = \"SELECT * FROM sifts.pdb_chain_taxonomy LIMIT 10\"\n",
    "taxonomy = pdbjMineDataset.get_dataset(taxonomy_query)\n",
    "taxonomy.show()"
   ]
  },
  {
   "cell_type": "markdown",
   "metadata": {},
   "source": [
    "### TODO-1: specify a taxonomy query where the scientific name is 'Mus musculus'"
   ]
  },
  {
   "cell_type": "code",
   "execution_count": 4,
   "metadata": {},
   "outputs": [
    {
     "name": "stdout",
     "output_type": "stream",
     "text": [
      "+-----------+\n",
      "|structureId|\n",
      "+-----------+\n",
      "|       4B3R|\n",
      "|       4B3T|\n",
      "|       4DR1|\n",
      "|       4DR1|\n",
      "|       4DR2|\n",
      "|       4DR2|\n",
      "|       4DR3|\n",
      "|       4DR3|\n",
      "|       4DR5|\n",
      "|       4DR5|\n",
      "+-----------+\n",
      "only showing top 10 rows\n",
      "\n"
     ]
    }
   ],
   "source": [
    "taxonomy_query = \"\"\" \n",
    "SELECT keyword_search.pdbid FROM keyword_search('ribosome')\n",
    "INNER JOIN entity ON keyword_search.pdbid = entity.pdbid\n",
    "WHERE entity.pdbx_number_of_molecules > 100 \n",
    "\"\"\"\n",
    "\n",
    "taxonomy = pdbjMineDataset.get_dataset(taxonomy_query)\n",
    "taxonomy.show(10)"
   ]
  },
  {
   "cell_type": "code",
   "execution_count": 5,
   "metadata": {
    "collapsed": true
   },
   "outputs": [],
   "source": [
    "path = './ribo_mmtf_sample/'\n",
    "\n",
    "pdb = mmtfReader.read_mmtf_files(path, sc)"
   ]
  },
  {
   "cell_type": "code",
   "execution_count": 6,
   "metadata": {},
   "outputs": [
    {
     "data": {
      "application/vnd.jupyter.widget-view+json": {
       "model_id": "c8b72676a3ef499dbf1259608e4b63f3",
       "version_major": 2,
       "version_minor": 0
      },
      "text/plain": [
       "interactive(children=(IntSlider(value=0, continuous_update=False, description='Structure', max=2), Output()), …"
      ]
     },
     "metadata": {},
     "output_type": "display_data"
    }
   ],
   "source": [
    "view_structure(pdb.keys().collect());"
   ]
  },
  {
   "cell_type": "code",
   "execution_count": 7,
   "metadata": {
    "collapsed": true
   },
   "outputs": [],
   "source": [
    "### TODO-2: Take the taxonomy query from above and use it to filter the pdb structures"
   ]
  },
  {
   "cell_type": "code",
   "execution_count": 8,
   "metadata": {
    "collapsed": true
   },
   "outputs": [],
   "source": [
    "#pdb = pdb.filter(PdbjMineSearch(taxonomy_query)).cache()"
   ]
  },
  {
   "cell_type": "markdown",
   "metadata": {},
   "source": [
    "## Calculate polymer-polymer interactions for this subset of structures\n",
    "Find protein-protein interactions with a 6 A distance cutoff"
   ]
  },
  {
   "cell_type": "code",
   "execution_count": 9,
   "metadata": {
    "collapsed": true
   },
   "outputs": [],
   "source": [
    "distance_cutoff = 6.0\n",
    "interactionFilter = InteractionFilter(distance_cutoff, minInteractions=10)\n",
    "\n",
    "interactions = InteractionFingerprinter.get_polymer_interactions(pdb, interactionFilter).cache()"
   ]
  },
  {
   "cell_type": "code",
   "execution_count": 10,
   "metadata": {
    "collapsed": true
   },
   "outputs": [],
   "source": [
    "interactions = interactions.withColumn(\"structureId\", substring_index(interactions.structureChainId, '.', 1)).cache()"
   ]
  },
  {
   "cell_type": "code",
   "execution_count": 11,
   "metadata": {},
   "outputs": [
    {
     "data": {
      "text/html": [
       "<div>\n",
       "<style scoped>\n",
       "    .dataframe tbody tr th:only-of-type {\n",
       "        vertical-align: middle;\n",
       "    }\n",
       "\n",
       "    .dataframe tbody tr th {\n",
       "        vertical-align: top;\n",
       "    }\n",
       "\n",
       "    .dataframe thead th {\n",
       "        text-align: right;\n",
       "    }\n",
       "</style>\n",
       "<table border=\"1\" class=\"dataframe\">\n",
       "  <thead>\n",
       "    <tr style=\"text-align: right;\">\n",
       "      <th></th>\n",
       "      <th>structureChainId</th>\n",
       "      <th>queryChainId</th>\n",
       "      <th>targetChainId</th>\n",
       "      <th>groupNumbers</th>\n",
       "      <th>sequenceIndices</th>\n",
       "      <th>sequence</th>\n",
       "      <th>structureId</th>\n",
       "    </tr>\n",
       "  </thead>\n",
       "  <tbody>\n",
       "    <tr>\n",
       "      <th>0</th>\n",
       "      <td>4UG0.S2</td>\n",
       "      <td>Se</td>\n",
       "      <td>S2</td>\n",
       "      <td>[523, 524, 525, 526, 527, 534, 535, 550, 551, ...</td>\n",
       "      <td>[522, 523, 524, 525, 526, 533, 534, 549, 550, ...</td>\n",
       "      <td>UACCUGGUUGAUCCUGCCAGUAGCAUAUGCUUGUCUCAAAGAUUAA...</td>\n",
       "      <td>4UG0</td>\n",
       "    </tr>\n",
       "    <tr>\n",
       "      <th>1</th>\n",
       "      <td>4UG0.Se</td>\n",
       "      <td>S2</td>\n",
       "      <td>Se</td>\n",
       "      <td>[10, 11, 12, 13, 15, 16, 17, 19, 20, 21, 22, 2...</td>\n",
       "      <td>[7, 8, 9, 10, 11, 12, 14, 15, 16, 18, 19, 20, ...</td>\n",
       "      <td>KVHGSLARAGKVRGQTPKVAKQEKKKKKTGRAKRRMQYNRRFVNVV...</td>\n",
       "      <td>4UG0</td>\n",
       "    </tr>\n",
       "    <tr>\n",
       "      <th>2</th>\n",
       "      <td>4UG0.SX</td>\n",
       "      <td>Se</td>\n",
       "      <td>SX</td>\n",
       "      <td>[134, 54, 55, 56, 58, 66, 68, 69, 71, 87, 88, ...</td>\n",
       "      <td>[53, 54, 55, 57, 65, 67, 68, 70, 86, 87, 88, 8...</td>\n",
       "      <td>MGKCRGLRTARKLRSHRRDQKWHDKQYKKAHLGTALKANPFGGASH...</td>\n",
       "      <td>4UG0</td>\n",
       "    </tr>\n",
       "    <tr>\n",
       "      <th>3</th>\n",
       "      <td>4UG0.Se</td>\n",
       "      <td>SX</td>\n",
       "      <td>Se</td>\n",
       "      <td>[10, 11, 12, 13, 2, 3, 5, 6, 7, 8, 9]</td>\n",
       "      <td>[1, 2, 4, 5, 6, 7, 8, 9, 10, 11, 12]</td>\n",
       "      <td>KVHGSLARAGKVRGQTPKVAKQEKKKKKTGRAKRRMQYNRRFVNVV...</td>\n",
       "      <td>4UG0</td>\n",
       "    </tr>\n",
       "    <tr>\n",
       "      <th>4</th>\n",
       "      <td>4UG0.SJ</td>\n",
       "      <td>Se</td>\n",
       "      <td>SJ</td>\n",
       "      <td>[122, 124, 125, 127, 128, 25, 26, 27, 29, 30, ...</td>\n",
       "      <td>[24, 25, 26, 28, 29, 30, 31, 32, 33, 35, 36, 3...</td>\n",
       "      <td>MPVARSWVCRKTYVTPRRPFEKSRLDQELKLIGEYGLRNKREVWRV...</td>\n",
       "      <td>4UG0</td>\n",
       "    </tr>\n",
       "    <tr>\n",
       "      <th>5</th>\n",
       "      <td>1VY4.DA</td>\n",
       "      <td>D9</td>\n",
       "      <td>DA</td>\n",
       "      <td>[1021, 1029, 1030, 1031, 1032, 1033, 1034, 112...</td>\n",
       "      <td>[1065, 1073, 1074, 1075, 1076, 1077, 1078, 116...</td>\n",
       "      <td>GUCAAGAUGGUAAGGGCCCACGGUGGAUGCCUCGGCACCCGAGCCG...</td>\n",
       "      <td>1VY4</td>\n",
       "    </tr>\n",
       "    <tr>\n",
       "      <th>6</th>\n",
       "      <td>1VY4.D9</td>\n",
       "      <td>DA</td>\n",
       "      <td>D9</td>\n",
       "      <td>[1, 10, 15, 16, 17, 18, 19, 2, 20, 21, 22, 23,...</td>\n",
       "      <td>[0, 1, 2, 3, 4, 5, 6, 7, 8, 9, 14, 15, 16, 17,...</td>\n",
       "      <td>MKVRASVKRICDKCKVIRRHGRVYVICENPKHKQRQG</td>\n",
       "      <td>1VY4</td>\n",
       "    </tr>\n",
       "    <tr>\n",
       "      <th>7</th>\n",
       "      <td>4V6U.BY</td>\n",
       "      <td>B3</td>\n",
       "      <td>BY</td>\n",
       "      <td>[10, 129, 130, 131, 132, 133, 134, 135, 136, 1...</td>\n",
       "      <td>[9, 13, 15, 47, 48, 50, 51, 52, 128, 129, 130,...</td>\n",
       "      <td>MAKLAVIRIRGRVNVKRPVRDTLAMLRLHRVNHCVIVDDTPSYLGM...</td>\n",
       "      <td>4V6U</td>\n",
       "    </tr>\n",
       "    <tr>\n",
       "      <th>8</th>\n",
       "      <td>4V6U.B3</td>\n",
       "      <td>BY</td>\n",
       "      <td>B3</td>\n",
       "      <td>[81, 82, 83, 84, 85, 93, 94, 95, 96, 97]</td>\n",
       "      <td>[80, 81, 82, 83, 84, 92, 93, 94, 95, 96]</td>\n",
       "      <td>CGGCGGCCAUAGCGGGGGGGCCACACCCGGUCUCAUUUCGAACCCG...</td>\n",
       "      <td>4V6U</td>\n",
       "    </tr>\n",
       "    <tr>\n",
       "      <th>9</th>\n",
       "      <td>4V6U.BO</td>\n",
       "      <td>B3</td>\n",
       "      <td>BO</td>\n",
       "      <td>[1, 10, 105, 109, 11, 110, 112, 113, 114, 115,...</td>\n",
       "      <td>[0, 1, 2, 3, 4, 5, 8, 9, 10, 11, 12, 14, 15, 1...</td>\n",
       "      <td>MAHGPRYRVPFRRRREGKTNYRKRLKLLKSGKPRLVVRKSLNHHIA...</td>\n",
       "      <td>4V6U</td>\n",
       "    </tr>\n",
       "  </tbody>\n",
       "</table>\n",
       "</div>"
      ],
      "text/plain": [
       "  structureChainId queryChainId targetChainId  \\\n",
       "0          4UG0.S2           Se            S2   \n",
       "1          4UG0.Se           S2            Se   \n",
       "2          4UG0.SX           Se            SX   \n",
       "3          4UG0.Se           SX            Se   \n",
       "4          4UG0.SJ           Se            SJ   \n",
       "5          1VY4.DA           D9            DA   \n",
       "6          1VY4.D9           DA            D9   \n",
       "7          4V6U.BY           B3            BY   \n",
       "8          4V6U.B3           BY            B3   \n",
       "9          4V6U.BO           B3            BO   \n",
       "\n",
       "                                        groupNumbers  \\\n",
       "0  [523, 524, 525, 526, 527, 534, 535, 550, 551, ...   \n",
       "1  [10, 11, 12, 13, 15, 16, 17, 19, 20, 21, 22, 2...   \n",
       "2  [134, 54, 55, 56, 58, 66, 68, 69, 71, 87, 88, ...   \n",
       "3              [10, 11, 12, 13, 2, 3, 5, 6, 7, 8, 9]   \n",
       "4  [122, 124, 125, 127, 128, 25, 26, 27, 29, 30, ...   \n",
       "5  [1021, 1029, 1030, 1031, 1032, 1033, 1034, 112...   \n",
       "6  [1, 10, 15, 16, 17, 18, 19, 2, 20, 21, 22, 23,...   \n",
       "7  [10, 129, 130, 131, 132, 133, 134, 135, 136, 1...   \n",
       "8           [81, 82, 83, 84, 85, 93, 94, 95, 96, 97]   \n",
       "9  [1, 10, 105, 109, 11, 110, 112, 113, 114, 115,...   \n",
       "\n",
       "                                     sequenceIndices  \\\n",
       "0  [522, 523, 524, 525, 526, 533, 534, 549, 550, ...   \n",
       "1  [7, 8, 9, 10, 11, 12, 14, 15, 16, 18, 19, 20, ...   \n",
       "2  [53, 54, 55, 57, 65, 67, 68, 70, 86, 87, 88, 8...   \n",
       "3               [1, 2, 4, 5, 6, 7, 8, 9, 10, 11, 12]   \n",
       "4  [24, 25, 26, 28, 29, 30, 31, 32, 33, 35, 36, 3...   \n",
       "5  [1065, 1073, 1074, 1075, 1076, 1077, 1078, 116...   \n",
       "6  [0, 1, 2, 3, 4, 5, 6, 7, 8, 9, 14, 15, 16, 17,...   \n",
       "7  [9, 13, 15, 47, 48, 50, 51, 52, 128, 129, 130,...   \n",
       "8           [80, 81, 82, 83, 84, 92, 93, 94, 95, 96]   \n",
       "9  [0, 1, 2, 3, 4, 5, 8, 9, 10, 11, 12, 14, 15, 1...   \n",
       "\n",
       "                                            sequence structureId  \n",
       "0  UACCUGGUUGAUCCUGCCAGUAGCAUAUGCUUGUCUCAAAGAUUAA...        4UG0  \n",
       "1  KVHGSLARAGKVRGQTPKVAKQEKKKKKTGRAKRRMQYNRRFVNVV...        4UG0  \n",
       "2  MGKCRGLRTARKLRSHRRDQKWHDKQYKKAHLGTALKANPFGGASH...        4UG0  \n",
       "3  KVHGSLARAGKVRGQTPKVAKQEKKKKKTGRAKRRMQYNRRFVNVV...        4UG0  \n",
       "4  MPVARSWVCRKTYVTPRRPFEKSRLDQELKLIGEYGLRNKREVWRV...        4UG0  \n",
       "5  GUCAAGAUGGUAAGGGCCCACGGUGGAUGCCUCGGCACCCGAGCCG...        1VY4  \n",
       "6              MKVRASVKRICDKCKVIRRHGRVYVICENPKHKQRQG        1VY4  \n",
       "7  MAKLAVIRIRGRVNVKRPVRDTLAMLRLHRVNHCVIVDDTPSYLGM...        4V6U  \n",
       "8  CGGCGGCCAUAGCGGGGGGGCCACACCCGGUCUCAUUUCGAACCCG...        4V6U  \n",
       "9  MAHGPRYRVPFRRRREGKTNYRKRLKLLKSGKPRLVVRKSLNHHIA...        4V6U  "
      ]
     },
     "execution_count": 11,
     "metadata": {},
     "output_type": "execute_result"
    }
   ],
   "source": [
    "interactions.toPandas().head(10)"
   ]
  },
  {
   "cell_type": "markdown",
   "metadata": {},
   "source": [
    "## Visualize the protein-protein interactions"
   ]
  },
  {
   "cell_type": "markdown",
   "metadata": {},
   "source": [
    "#### Extract id columns as lists (required for visualization)"
   ]
  },
  {
   "cell_type": "code",
   "execution_count": 12,
   "metadata": {
    "collapsed": true
   },
   "outputs": [],
   "source": [
    "structure_ids = interactions.select(\"structureId\").rdd.flatMap(lambda x: x).collect()\n",
    "query_chain_ids = interactions.select(\"queryChainID\").rdd.flatMap(lambda x: x).collect()\n",
    "target_chain_ids = interactions.select(\"targetChainID\").rdd.flatMap(lambda x: x).collect()\n",
    "target_groups = interactions.select(\"groupNumbers\").rdd.flatMap(lambda x: x).collect()"
   ]
  },
  {
   "cell_type": "markdown",
   "metadata": {},
   "source": [
    "Disable scrollbar for the visualization below"
   ]
  },
  {
   "cell_type": "code",
   "execution_count": 13,
   "metadata": {},
   "outputs": [
    {
     "data": {
      "application/javascript": [
       "IPython.OutputArea.prototype._should_scroll = function(lines) {return false;}"
      ],
      "text/plain": [
       "<IPython.core.display.Javascript object>"
      ]
     },
     "metadata": {},
     "output_type": "display_data"
    }
   ],
   "source": [
    "%%javascript \n",
    "IPython.OutputArea.prototype._should_scroll = function(lines) {return false;}"
   ]
  },
  {
   "cell_type": "markdown",
   "metadata": {},
   "source": [
    "#### Show protein-protein interactions within cutoff distance  (query = orange, target = blue)"
   ]
  },
  {
   "cell_type": "code",
   "execution_count": 14,
   "metadata": {
    "collapsed": true
   },
   "outputs": [],
   "source": [
    "def view_protein_protein_interactions(structure_ids, query_chain_ids, target_chain_ids, target_groups, distance=4.5):\n",
    "    \n",
    "    def view3d(i=0):\n",
    "        \n",
    "        print(f\"PDB: {structure_ids[i]}, query: {query_chain_ids[i]}, target: {target_chain_ids[i]}\")\n",
    "\n",
    "        target = {'chain': target_chain_ids[i], 'resi': target_groups[i]}\n",
    "           \n",
    "        viewer = py3Dmol.view(query='pdb:' + structure_ids[i], width=600, height=600)\n",
    "        viewer.setStyle({})\n",
    "\n",
    "        viewer.setStyle({'chain': query_chain_ids[i]}, {'line': {'colorscheme': 'orangeCarbon'}})\n",
    "        viewer.setStyle({'chain' : query_chain_ids[i], 'within':{'distance' : distance, 'sel':{'chain': target_chain_ids[i]}}}, {'sphere': {'colorscheme': 'orangeCarbon'}});                   \n",
    "        viewer.setStyle({'chain': target_chain_ids[i]}, {'line': {'colorscheme': 'lightblueCarbon'}})\n",
    "        viewer.setStyle(target, {'stick': {'colorscheme': 'lightblueCarbon'}})\n",
    "        viewer.zoomTo(target)\n",
    "\n",
    "        return viewer.show()\n",
    "\n",
    "    s_widget = IntSlider(min=0, max=len(structure_ids)-1, description='Structure', continuous_update=False)\n",
    "    return interact(view3d, i=s_widget)"
   ]
  },
  {
   "cell_type": "code",
   "execution_count": 15,
   "metadata": {
    "scrolled": false
   },
   "outputs": [
    {
     "data": {
      "application/vnd.jupyter.widget-view+json": {
       "model_id": "6542c3e10faf46789dfbacab72dfa85d",
       "version_major": 2,
       "version_minor": 0
      },
      "text/plain": [
       "interactive(children=(IntSlider(value=0, continuous_update=False, description='Structure', max=14), Output()),…"
      ]
     },
     "metadata": {},
     "output_type": "display_data"
    }
   ],
   "source": [
    "view_protein_protein_interactions(structure_ids, query_chain_ids, target_chain_ids, \\\n",
    "                                  target_groups, distance=distance_cutoff);"
   ]
  },
  {
   "cell_type": "code",
   "execution_count": 16,
   "metadata": {
    "collapsed": true
   },
   "outputs": [],
   "source": [
    "spark.stop()"
   ]
  },
  {
   "cell_type": "code",
   "execution_count": null,
   "metadata": {
    "collapsed": true
   },
   "outputs": [],
   "source": []
  }
 ],
 "metadata": {
  "kernelspec": {
   "display_name": "Python 3",
   "language": "python",
   "name": "python3"
  },
  "language_info": {
   "codemirror_mode": {
    "name": "ipython",
    "version": 3
   },
   "file_extension": ".py",
   "mimetype": "text/x-python",
   "name": "python",
   "nbconvert_exporter": "python",
   "pygments_lexer": "ipython3",
   "version": "3.6.4"
  }
 },
 "nbformat": 4,
 "nbformat_minor": 2
}
