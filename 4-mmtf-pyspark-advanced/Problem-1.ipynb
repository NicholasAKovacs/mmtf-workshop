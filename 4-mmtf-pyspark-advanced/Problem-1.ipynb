{
 "cells": [
  {
   "cell_type": "markdown",
   "metadata": {},
   "source": [
    "# Problem-1\n",
    "This tutorial shows how to find proteins for a specific organism, how to calculate protein-protein interactions, and visualize the results."
   ]
  },
  {
   "cell_type": "code",
   "execution_count": 1,
   "metadata": {
    "collapsed": true
   },
   "outputs": [],
   "source": [
    "from pyspark.sql import SparkSession\n",
    "from pyspark.sql.functions import substring_index\n",
    "from mmtfPyspark.datasets import pdbjMineDataset\n",
    "from mmtfPyspark.webfilters import PdbjMineSearch\n",
    "from mmtfPyspark.interactions import InteractionFilter, InteractionFingerprinter\n",
    "from mmtfPyspark.io import mmtfReader\n",
    "from ipywidgets import interact, IntSlider\n",
    "import py3Dmol"
   ]
  },
  {
   "cell_type": "markdown",
   "metadata": {},
   "source": [
    "#### Configure Spark"
   ]
  },
  {
   "cell_type": "code",
   "execution_count": 2,
   "metadata": {
    "collapsed": true
   },
   "outputs": [],
   "source": [
    "spark = SparkSession.builder.master(\"local[4]\").appName(\"Problem-1\").getOrCreate()\n",
    "sc = spark.sparkContext"
   ]
  },
  {
   "cell_type": "markdown",
   "metadata": {},
   "source": [
    "## Find protein structures for mouse"
   ]
  },
  {
   "cell_type": "markdown",
   "metadata": {},
   "source": [
    "For our first task, we need to run a taxonomy query using SIFTS data. [See examples](https://github.com/sbl-sdsc/mmtf-pyspark/blob/master/demos/datasets/PDBMetaDataDemo.ipynb) and [SIFTS demo](https://github.com/sbl-sdsc/mmtf-pyspark/blob/master/demos/datasets/SiftsDataDemo.ipynb)\n",
    "\n",
    "To figure out how to query for taxonomy, the command below lists the first 10 entries for the SIFTS taxonomy table. As you can see, we can use the science_name field to query for a specific organism."
   ]
  },
  {
   "cell_type": "code",
   "execution_count": 3,
   "metadata": {},
   "outputs": [
    {
     "name": "stdout",
     "output_type": "stream",
     "text": [
      "+-----+-----+------+--------------------+----------------+\n",
      "|pdbid|chain|tax_id|     scientific_name|structureChainId|\n",
      "+-----+-----+------+--------------------+----------------+\n",
      "| 101M|    A|  9755|               PHYCD|          101M.A|\n",
      "| 101M|    A|  9755|    Physeter catodon|          101M.A|\n",
      "| 101M|    A|  9755|Physeter catodon ...|          101M.A|\n",
      "| 101M|    A|  9755|Physeter catodon ...|          101M.A|\n",
      "| 101M|    A|  9755|Physeter macrocep...|          101M.A|\n",
      "| 101M|    A|  9755|         Sperm whale|          101M.A|\n",
      "| 101M|    A|  9755|         sperm whale|          101M.A|\n",
      "| 102L|    A| 10665|                BPT4|          102L.A|\n",
      "| 102L|    A| 10665|    Bacteriophage T4|          102L.A|\n",
      "| 102L|    A| 10665|Enterobacteria ph...|          102L.A|\n",
      "+-----+-----+------+--------------------+----------------+\n",
      "\n"
     ]
    }
   ],
   "source": [
    "taxonomy_query = \"SELECT * FROM sifts.pdb_chain_taxonomy LIMIT 10\"\n",
    "taxonomy = pdbjMineDataset.get_dataset(taxonomy_query)\n",
    "taxonomy.show()"
   ]
  },
  {
   "cell_type": "markdown",
   "metadata": {},
   "source": [
    "### TODO-1: specify a taxonomy query where the scientific name is 'Mus musculus'"
   ]
  },
  {
   "cell_type": "code",
   "execution_count": 5,
   "metadata": {},
   "outputs": [
    {
     "name": "stdout",
     "output_type": "stream",
     "text": [
      "+-----+-----+------+---------------+----------------+\n",
      "|pdbid|chain|tax_id|scientific_name|structureChainId|\n",
      "+-----+-----+------+---------------+----------------+\n",
      "| 1CF8|    H| 10090|   Mus musculus|          1CF8.H|\n",
      "| 1CF8|    L| 10090|   Mus musculus|          1CF8.L|\n",
      "| 1CFN|    A| 10090|   Mus musculus|          1CFN.A|\n",
      "| 1CFN|    B| 10090|   Mus musculus|          1CFN.B|\n",
      "| 1CFQ|    A| 10090|   Mus musculus|          1CFQ.A|\n",
      "| 1CFQ|    B| 10090|   Mus musculus|          1CFQ.B|\n",
      "| 1CFS|    A| 10090|   Mus musculus|          1CFS.A|\n",
      "| 1CFS|    B| 10090|   Mus musculus|          1CFS.B|\n",
      "| 1CFT|    A| 10090|   Mus musculus|          1CFT.A|\n",
      "| 1CFT|    B| 10090|   Mus musculus|          1CFT.B|\n",
      "+-----+-----+------+---------------+----------------+\n",
      "only showing top 10 rows\n",
      "\n"
     ]
    }
   ],
   "source": [
    "taxonomy_query = \"SELECT * FROM sifts.pdb_chain_taxonomy WHERE scientific_name = 'Mus musculus'\"\n",
    "taxonomy = pdbjMineDataset.get_dataset(taxonomy_query)\n",
    "taxonomy.show(10)"
   ]
  },
  {
   "cell_type": "code",
   "execution_count": 6,
   "metadata": {
    "collapsed": true
   },
   "outputs": [],
   "source": [
    "path = \"../resources/mmtf_full_sample/\"\n",
    "\n",
    "pdb = mmtfReader.read_sequence_file(path, sc, fraction=0.1)"
   ]
  },
  {
   "cell_type": "code",
   "execution_count": 7,
   "metadata": {
    "collapsed": true
   },
   "outputs": [],
   "source": [
    "### TODO-2: Take the taxonomy query from above and use it to filter the pdb structures"
   ]
  },
  {
   "cell_type": "code",
   "execution_count": 8,
   "metadata": {
    "collapsed": true
   },
   "outputs": [],
   "source": [
    "pdb = pdb.filter(PdbjMineSearch(taxonomy_query)).cache()"
   ]
  },
  {
   "cell_type": "markdown",
   "metadata": {},
   "source": [
    "## Calculate polymer-polymer interactions for this subset of structures\n",
    "Find protein-protein interactions with a 6 A distance cutoff"
   ]
  },
  {
   "cell_type": "code",
   "execution_count": 9,
   "metadata": {
    "collapsed": true
   },
   "outputs": [],
   "source": [
    "distance_cutoff = 6.0\n",
    "interactionFilter = InteractionFilter(distance_cutoff, minInteractions=10)\n",
    "\n",
    "interactions = InteractionFingerprinter.get_polymer_interactions(pdb, interactionFilter).cache()"
   ]
  },
  {
   "cell_type": "code",
   "execution_count": 10,
   "metadata": {},
   "outputs": [
    {
     "data": {
      "text/html": [
       "<div>\n",
       "<style scoped>\n",
       "    .dataframe tbody tr th:only-of-type {\n",
       "        vertical-align: middle;\n",
       "    }\n",
       "\n",
       "    .dataframe tbody tr th {\n",
       "        vertical-align: top;\n",
       "    }\n",
       "\n",
       "    .dataframe thead th {\n",
       "        text-align: right;\n",
       "    }\n",
       "</style>\n",
       "<table border=\"1\" class=\"dataframe\">\n",
       "  <thead>\n",
       "    <tr style=\"text-align: right;\">\n",
       "      <th></th>\n",
       "      <th>structureChainId</th>\n",
       "      <th>queryChainId</th>\n",
       "      <th>targetChainId</th>\n",
       "      <th>groupNumbers</th>\n",
       "      <th>sequenceIndices</th>\n",
       "      <th>sequence</th>\n",
       "      <th>structureId</th>\n",
       "    </tr>\n",
       "  </thead>\n",
       "  <tbody>\n",
       "    <tr>\n",
       "      <th>0</th>\n",
       "      <td>1MZ9.A</td>\n",
       "      <td>E</td>\n",
       "      <td>A</td>\n",
       "      <td>[27, 29, 30, 32, 33, 34, 35, 36, 37, 39, 40, 4...</td>\n",
       "      <td>[0, 2, 3, 5, 6, 7, 8, 9, 10, 12, 13, 14, 15, 1...</td>\n",
       "      <td>MDLAPQMLRELQETNAALQDVRELLRQQVKEITFLKNTVMECDAC</td>\n",
       "      <td>1MZ9</td>\n",
       "    </tr>\n",
       "    <tr>\n",
       "      <th>1</th>\n",
       "      <td>1MZ9.E</td>\n",
       "      <td>A</td>\n",
       "      <td>E</td>\n",
       "      <td>[27, 29, 30, 31, 32, 33, 34, 37, 38, 40, 41, 4...</td>\n",
       "      <td>[0, 2, 3, 4, 5, 6, 7, 10, 11, 13, 14, 17, 18, ...</td>\n",
       "      <td>MDLAPQMLRELQETNAALQDVRELLRQQVKEITFLKNTVMECDAC</td>\n",
       "      <td>1MZ9</td>\n",
       "    </tr>\n",
       "    <tr>\n",
       "      <th>2</th>\n",
       "      <td>1MZ9.D</td>\n",
       "      <td>E</td>\n",
       "      <td>D</td>\n",
       "      <td>[27, 30, 31, 32, 33, 34, 37, 38, 39, 40, 41, 4...</td>\n",
       "      <td>[0, 3, 4, 5, 6, 7, 10, 11, 12, 13, 14, 17, 18,...</td>\n",
       "      <td>MDLAPQMLRELQETNAALQDVRELLRQQVKEITFLKNTVMECDAC</td>\n",
       "      <td>1MZ9</td>\n",
       "    </tr>\n",
       "    <tr>\n",
       "      <th>3</th>\n",
       "      <td>1MZ9.E</td>\n",
       "      <td>D</td>\n",
       "      <td>E</td>\n",
       "      <td>[27, 28, 29, 32, 33, 34, 36, 37, 38, 39, 40, 4...</td>\n",
       "      <td>[0, 1, 2, 5, 6, 7, 9, 10, 11, 12, 13, 14, 15, ...</td>\n",
       "      <td>MDLAPQMLRELQETNAALQDVRELLRQQVKEITFLKNTVMECDAC</td>\n",
       "      <td>1MZ9</td>\n",
       "    </tr>\n",
       "    <tr>\n",
       "      <th>4</th>\n",
       "      <td>4YI0.C</td>\n",
       "      <td>A</td>\n",
       "      <td>C</td>\n",
       "      <td>[101, 102, 103, 104, 105, 106, 107, 108, 109, ...</td>\n",
       "      <td>[31, 32, 33, 34, 35, 36, 37, 38, 39, 40, 42, 6...</td>\n",
       "      <td>NQGTVNWSVEDIVKGINSNNLESQLQATQAARKLLSREKQPPIDNI...</td>\n",
       "      <td>4YI0</td>\n",
       "    </tr>\n",
       "    <tr>\n",
       "      <th>5</th>\n",
       "      <td>4YI0.A</td>\n",
       "      <td>C</td>\n",
       "      <td>A</td>\n",
       "      <td>[293, 294, 295, 296, 297, 298, 303, 304, 305, ...</td>\n",
       "      <td>[2, 3, 4, 5, 6, 7, 12, 13, 14, 15, 17, 18, 19,...</td>\n",
       "      <td>LKEKKKRTVAEEDQLHLDGQENKRRRHDSS</td>\n",
       "      <td>4YI0</td>\n",
       "    </tr>\n",
       "    <tr>\n",
       "      <th>6</th>\n",
       "      <td>2XSD.C</td>\n",
       "      <td>A</td>\n",
       "      <td>C</td>\n",
       "      <td>[271, 288, 289, 292, 293, 296, 298, 343, 344, ...</td>\n",
       "      <td>[32, 49, 50, 53, 54, 57, 59, 104, 105, 106, 11...</td>\n",
       "      <td>GGEHSDEDAPSSDDLEQFAKQFKQRRIKLGFTQADVGLALGTLYGN...</td>\n",
       "      <td>2XSD</td>\n",
       "    </tr>\n",
       "    <tr>\n",
       "      <th>7</th>\n",
       "      <td>2XSD.B</td>\n",
       "      <td>C</td>\n",
       "      <td>B</td>\n",
       "      <td>[202, 203, 204, 205, 206, 207, 208, 209, 210, ...</td>\n",
       "      <td>[0, 1, 2, 3, 4, 5, 6, 7, 8, 9]</td>\n",
       "      <td>CCTCATGCATA</td>\n",
       "      <td>2XSD</td>\n",
       "    </tr>\n",
       "    <tr>\n",
       "      <th>8</th>\n",
       "      <td>2XSD.C</td>\n",
       "      <td>B</td>\n",
       "      <td>C</td>\n",
       "      <td>[285, 286, 287, 288, 289, 290, 293, 298, 299, ...</td>\n",
       "      <td>[46, 47, 48, 49, 50, 51, 54, 59, 60, 61, 63, 6...</td>\n",
       "      <td>GGEHSDEDAPSSDDLEQFAKQFKQRRIKLGFTQADVGLALGTLYGN...</td>\n",
       "      <td>2XSD</td>\n",
       "    </tr>\n",
       "    <tr>\n",
       "      <th>9</th>\n",
       "      <td>1G2Y.B</td>\n",
       "      <td>D</td>\n",
       "      <td>B</td>\n",
       "      <td>[10, 12, 13, 16, 17, 19, 20, 21, 22, 23, 24, 2...</td>\n",
       "      <td>[4, 7, 8, 9, 11, 12, 15, 16, 18, 19, 20, 21, 2...</td>\n",
       "      <td>MVSKLSQLQTEMLAALLESGLSKEALIQALGE</td>\n",
       "      <td>1G2Y</td>\n",
       "    </tr>\n",
       "  </tbody>\n",
       "</table>\n",
       "</div>"
      ],
      "text/plain": [
       "  structureChainId queryChainId targetChainId  \\\n",
       "0           1MZ9.A            E             A   \n",
       "1           1MZ9.E            A             E   \n",
       "2           1MZ9.D            E             D   \n",
       "3           1MZ9.E            D             E   \n",
       "4           4YI0.C            A             C   \n",
       "5           4YI0.A            C             A   \n",
       "6           2XSD.C            A             C   \n",
       "7           2XSD.B            C             B   \n",
       "8           2XSD.C            B             C   \n",
       "9           1G2Y.B            D             B   \n",
       "\n",
       "                                        groupNumbers  \\\n",
       "0  [27, 29, 30, 32, 33, 34, 35, 36, 37, 39, 40, 4...   \n",
       "1  [27, 29, 30, 31, 32, 33, 34, 37, 38, 40, 41, 4...   \n",
       "2  [27, 30, 31, 32, 33, 34, 37, 38, 39, 40, 41, 4...   \n",
       "3  [27, 28, 29, 32, 33, 34, 36, 37, 38, 39, 40, 4...   \n",
       "4  [101, 102, 103, 104, 105, 106, 107, 108, 109, ...   \n",
       "5  [293, 294, 295, 296, 297, 298, 303, 304, 305, ...   \n",
       "6  [271, 288, 289, 292, 293, 296, 298, 343, 344, ...   \n",
       "7  [202, 203, 204, 205, 206, 207, 208, 209, 210, ...   \n",
       "8  [285, 286, 287, 288, 289, 290, 293, 298, 299, ...   \n",
       "9  [10, 12, 13, 16, 17, 19, 20, 21, 22, 23, 24, 2...   \n",
       "\n",
       "                                     sequenceIndices  \\\n",
       "0  [0, 2, 3, 5, 6, 7, 8, 9, 10, 12, 13, 14, 15, 1...   \n",
       "1  [0, 2, 3, 4, 5, 6, 7, 10, 11, 13, 14, 17, 18, ...   \n",
       "2  [0, 3, 4, 5, 6, 7, 10, 11, 12, 13, 14, 17, 18,...   \n",
       "3  [0, 1, 2, 5, 6, 7, 9, 10, 11, 12, 13, 14, 15, ...   \n",
       "4  [31, 32, 33, 34, 35, 36, 37, 38, 39, 40, 42, 6...   \n",
       "5  [2, 3, 4, 5, 6, 7, 12, 13, 14, 15, 17, 18, 19,...   \n",
       "6  [32, 49, 50, 53, 54, 57, 59, 104, 105, 106, 11...   \n",
       "7                     [0, 1, 2, 3, 4, 5, 6, 7, 8, 9]   \n",
       "8  [46, 47, 48, 49, 50, 51, 54, 59, 60, 61, 63, 6...   \n",
       "9  [4, 7, 8, 9, 11, 12, 15, 16, 18, 19, 20, 21, 2...   \n",
       "\n",
       "                                            sequence structureId  \n",
       "0      MDLAPQMLRELQETNAALQDVRELLRQQVKEITFLKNTVMECDAC        1MZ9  \n",
       "1      MDLAPQMLRELQETNAALQDVRELLRQQVKEITFLKNTVMECDAC        1MZ9  \n",
       "2      MDLAPQMLRELQETNAALQDVRELLRQQVKEITFLKNTVMECDAC        1MZ9  \n",
       "3      MDLAPQMLRELQETNAALQDVRELLRQQVKEITFLKNTVMECDAC        1MZ9  \n",
       "4  NQGTVNWSVEDIVKGINSNNLESQLQATQAARKLLSREKQPPIDNI...        4YI0  \n",
       "5                     LKEKKKRTVAEEDQLHLDGQENKRRRHDSS        4YI0  \n",
       "6  GGEHSDEDAPSSDDLEQFAKQFKQRRIKLGFTQADVGLALGTLYGN...        2XSD  \n",
       "7                                        CCTCATGCATA        2XSD  \n",
       "8  GGEHSDEDAPSSDDLEQFAKQFKQRRIKLGFTQADVGLALGTLYGN...        2XSD  \n",
       "9                   MVSKLSQLQTEMLAALLESGLSKEALIQALGE        1G2Y  "
      ]
     },
     "execution_count": 10,
     "metadata": {},
     "output_type": "execute_result"
    }
   ],
   "source": [
    "interactions = interactions.withColumn(\"structureId\", substring_index(interactions.structureChainId, '.', 1)).cache()\n",
    "interactions.toPandas().head(10)"
   ]
  },
  {
   "cell_type": "markdown",
   "metadata": {},
   "source": [
    "## Visualize the protein-protein interactions"
   ]
  },
  {
   "cell_type": "markdown",
   "metadata": {},
   "source": [
    "#### Extract id columns as lists (required for visualization)"
   ]
  },
  {
   "cell_type": "code",
   "execution_count": 11,
   "metadata": {
    "collapsed": true
   },
   "outputs": [],
   "source": [
    "structure_ids = interactions.select(\"structureId\").rdd.flatMap(lambda x: x).collect()\n",
    "query_chain_ids = interactions.select(\"queryChainID\").rdd.flatMap(lambda x: x).collect()\n",
    "target_chain_ids = interactions.select(\"targetChainID\").rdd.flatMap(lambda x: x).collect()\n",
    "target_groups = interactions.select(\"groupNumbers\").rdd.flatMap(lambda x: x).collect()"
   ]
  },
  {
   "cell_type": "markdown",
   "metadata": {},
   "source": [
    "Disable scrollbar for the visualization below"
   ]
  },
  {
   "cell_type": "code",
   "execution_count": 12,
   "metadata": {},
   "outputs": [
    {
     "data": {
      "application/javascript": [
       "IPython.OutputArea.prototype._should_scroll = function(lines) {return false;}"
      ],
      "text/plain": [
       "<IPython.core.display.Javascript object>"
      ]
     },
     "metadata": {},
     "output_type": "display_data"
    }
   ],
   "source": [
    "%%javascript \n",
    "IPython.OutputArea.prototype._should_scroll = function(lines) {return false;}"
   ]
  },
  {
   "cell_type": "markdown",
   "metadata": {},
   "source": [
    "#### Show protein-protein interactions within cutoff distance  (query = orange, target = blue)"
   ]
  },
  {
   "cell_type": "code",
   "execution_count": 13,
   "metadata": {
    "collapsed": true
   },
   "outputs": [],
   "source": [
    "def view_protein_protein_interactions(structure_ids, query_chain_ids, target_chain_ids, target_groups, distance=4.5):\n",
    "    \n",
    "    def view3d(i=0):\n",
    "        \n",
    "        print(f\"PDB: {structure_ids[i]}, query: {query_chain_ids[i]}, target: {target_chain_ids[i]}\")\n",
    "\n",
    "        target = {'chain': target_chain_ids[i], 'resi': target_groups[i]}\n",
    "           \n",
    "        viewer = py3Dmol.view(query='pdb:' + structure_ids[i], width=600, height=600)\n",
    "        viewer.setStyle({})\n",
    "\n",
    "        viewer.setStyle({'chain': query_chain_ids[i]}, {'line': {'colorscheme': 'orangeCarbon'}})\n",
    "        viewer.setStyle({'chain' : query_chain_ids[i], 'within':{'distance' : distance, 'sel':{'chain': target_chain_ids[i]}}}, {'sphere': {'colorscheme': 'orangeCarbon'}});                   \n",
    "        viewer.setStyle({'chain': target_chain_ids[i]}, {'line': {'colorscheme': 'lightblueCarbon'}})\n",
    "        viewer.setStyle(target, {'stick': {'colorscheme': 'lightblueCarbon'}})\n",
    "        viewer.zoomTo(target)\n",
    "\n",
    "        return viewer.show()\n",
    "\n",
    "    s_widget = IntSlider(min=0, max=len(structure_ids)-1, description='Structure', continuous_update=False)\n",
    "    return interact(view3d, i=s_widget)"
   ]
  },
  {
   "cell_type": "code",
   "execution_count": 14,
   "metadata": {
    "scrolled": false
   },
   "outputs": [
    {
     "data": {
      "application/vnd.jupyter.widget-view+json": {
       "model_id": "8b673060549e43b0a3932808842f97be",
       "version_major": 2,
       "version_minor": 0
      },
      "text/plain": [
       "interactive(children=(IntSlider(value=0, continuous_update=False, description='Structure', max=50), Output()),…"
      ]
     },
     "metadata": {},
     "output_type": "display_data"
    }
   ],
   "source": [
    "view_protein_protein_interactions(structure_ids, query_chain_ids, target_chain_ids, \\\n",
    "                                  target_groups, distance=distance_cutoff);"
   ]
  },
  {
   "cell_type": "code",
   "execution_count": 13,
   "metadata": {
    "collapsed": true
   },
   "outputs": [],
   "source": [
    "spark.stop()"
   ]
  }
 ],
 "metadata": {
  "kernelspec": {
   "display_name": "Python 3",
   "language": "python",
   "name": "python3"
  },
  "language_info": {
   "codemirror_mode": {
    "name": "ipython",
    "version": 3
   },
   "file_extension": ".py",
   "mimetype": "text/x-python",
   "name": "python",
   "nbconvert_exporter": "python",
   "pygments_lexer": "ipython3",
   "version": "3.6.4"
  }
 },
 "nbformat": 4,
 "nbformat_minor": 2
}
