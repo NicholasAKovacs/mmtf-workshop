{
 "cells": [
  {
   "cell_type": "markdown",
   "metadata": {},
   "source": [
    "# Problem-2\n",
    "In this excercise we add surfaces to pinpoint the location of a binding site and render the ligand in different styles."
   ]
  },
  {
   "cell_type": "code",
   "execution_count": 1,
   "metadata": {
    "collapsed": true
   },
   "outputs": [],
   "source": [
    "import py3Dmol"
   ]
  },
  {
   "cell_type": "markdown",
   "metadata": {},
   "source": [
    "## HIV-1 Protease structure with ligand Nelfinavir (1UN)"
   ]
  },
  {
   "cell_type": "code",
   "execution_count": 2,
   "metadata": {},
   "outputs": [
    {
     "data": {
      "application/3dmoljs_load.v0": "<div id=\"3dmolviewer_15257188246499264\"  style=\"position: relative; width: 640px; height: 480px\">\n        <p id=\"3dmolwarning_15257188246499264\" style=\"background-color:#ffcccc;color:black\">You appear to be running in JupyterLab.  You need to install the 3dmol extension: <br>\n        <tt>jupyter labextension install jupyterlab_3dmol</tt></p>\n        </div>\n<script>\n\nvar loadScriptAsync = function(uri){\n  return new Promise((resolve, reject) => {\n    var tag = document.createElement('script');\n    tag.src = uri;\n    tag.async = true;\n    tag.onload = () => {\n      resolve();\n    };\n  var firstScriptTag = document.getElementsByTagName('script')[0];\n  firstScriptTag.parentNode.insertBefore(tag, firstScriptTag);\n});\n};\n\nif(typeof $3Dmolpromise === 'undefined') {\n$3Dmolpromise = null;\n  $3Dmolpromise = loadScriptAsync('https://3dmol.csb.pitt.edu/build/3Dmol.js');\n}\n\nvar viewer_15257188246499264 = null;\nvar warn = document.getElementById(\"3dmolwarning_15257188246499264\");\nif(warn) {\n    warn.parentNode.removeChild(warn);\n}\n$3Dmolpromise.then(function() {\nviewer_15257188246499264 = $3Dmol.createViewer($(\"#3dmolviewer_15257188246499264\"),{backgroundColor:\"white\"});\n$3Dmol.download(\"pdb:1OHR\", viewer_15257188246499264, {}, function() {\n\tviewer_15257188246499264.setStyle({\"chain\": \"A\"},{\"cartoon\": {\"color\": \"blue\"}});\n\tviewer_15257188246499264.setStyle({\"chain\": \"B\"},{\"cartoon\": {\"color\": \" yellow\"}});\nviewer_15257188246499264.render();\n})\n});\n</script>",
      "text/html": [
       "<div id=\"3dmolviewer_15257188246499264\"  style=\"position: relative; width: 640px; height: 480px\">\n",
       "        <p id=\"3dmolwarning_15257188246499264\" style=\"background-color:#ffcccc;color:black\">You appear to be running in JupyterLab.  You need to install the 3dmol extension: <br>\n",
       "        <tt>jupyter labextension install jupyterlab_3dmol</tt></p>\n",
       "        </div>\n",
       "<script>\n",
       "\n",
       "var loadScriptAsync = function(uri){\n",
       "  return new Promise((resolve, reject) => {\n",
       "    var tag = document.createElement('script');\n",
       "    tag.src = uri;\n",
       "    tag.async = true;\n",
       "    tag.onload = () => {\n",
       "      resolve();\n",
       "    };\n",
       "  var firstScriptTag = document.getElementsByTagName('script')[0];\n",
       "  firstScriptTag.parentNode.insertBefore(tag, firstScriptTag);\n",
       "});\n",
       "};\n",
       "\n",
       "if(typeof $3Dmolpromise === 'undefined') {\n",
       "$3Dmolpromise = null;\n",
       "  $3Dmolpromise = loadScriptAsync('https://3dmol.csb.pitt.edu/build/3Dmol.js');\n",
       "}\n",
       "\n",
       "var viewer_15257188246499264 = null;\n",
       "var warn = document.getElementById(\"3dmolwarning_15257188246499264\");\n",
       "if(warn) {\n",
       "    warn.parentNode.removeChild(warn);\n",
       "}\n",
       "$3Dmolpromise.then(function() {\n",
       "viewer_15257188246499264 = $3Dmol.createViewer($(\"#3dmolviewer_15257188246499264\"),{backgroundColor:\"white\"});\n",
       "$3Dmol.download(\"pdb:1OHR\", viewer_15257188246499264, {}, function() {\n",
       "\tviewer_15257188246499264.setStyle({\"chain\": \"A\"},{\"cartoon\": {\"color\": \"blue\"}});\n",
       "\tviewer_15257188246499264.setStyle({\"chain\": \"B\"},{\"cartoon\": {\"color\": \" yellow\"}});\n",
       "viewer_15257188246499264.render();\n",
       "})\n",
       "});\n",
       "</script>"
      ]
     },
     "metadata": {},
     "output_type": "display_data"
    }
   ],
   "source": [
    "viewer = py3Dmol.view(query='pdb:1OHR')\n",
    "\n",
    "viewer.setStyle({'chain': 'A'}, {'cartoon': {'color': 'blue'}})\n",
    "viewer.setStyle({'chain': 'B'}, {'cartoon': {'color':' yellow'}})\n",
    "viewer.show()"
   ]
  },
  {
   "cell_type": "markdown",
   "metadata": {},
   "source": [
    "### TODO-1: Add a molecular surface to the structure.\n",
    "Note, we use the `hetflag` here to exclude non-protein residues from the surface to have an unobstructed view of the binding site."
   ]
  },
  {
   "cell_type": "code",
   "execution_count": 3,
   "metadata": {},
   "outputs": [
    {
     "data": {
      "application/3dmoljs_load.v0": "<div id=\"3dmolviewer_15257188258592424\"  style=\"position: relative; width: 640px; height: 480px\">\n        <p id=\"3dmolwarning_15257188258592424\" style=\"background-color:#ffcccc;color:black\">You appear to be running in JupyterLab.  You need to install the 3dmol extension: <br>\n        <tt>jupyter labextension install jupyterlab_3dmol</tt></p>\n        </div>\n<script>\n\nvar loadScriptAsync = function(uri){\n  return new Promise((resolve, reject) => {\n    var tag = document.createElement('script');\n    tag.src = uri;\n    tag.async = true;\n    tag.onload = () => {\n      resolve();\n    };\n  var firstScriptTag = document.getElementsByTagName('script')[0];\n  firstScriptTag.parentNode.insertBefore(tag, firstScriptTag);\n});\n};\n\nif(typeof $3Dmolpromise === 'undefined') {\n$3Dmolpromise = null;\n  $3Dmolpromise = loadScriptAsync('https://3dmol.csb.pitt.edu/build/3Dmol.js');\n}\n\nvar viewer_15257188258592424 = null;\nvar warn = document.getElementById(\"3dmolwarning_15257188258592424\");\nif(warn) {\n    warn.parentNode.removeChild(warn);\n}\n$3Dmolpromise.then(function() {\nviewer_15257188258592424 = $3Dmol.createViewer($(\"#3dmolviewer_15257188258592424\"),{backgroundColor:\"white\"});\n$3Dmol.download(\"pdb:1OHR\", viewer_15257188258592424, {}, function() {\n\tviewer_15257188258592424.setStyle({\"chain\": \"A\"},{\"cartoon\": {\"color\": \"blue\"}});\n\tviewer_15257188258592424.setStyle({\"chain\": \"B\"},{\"cartoon\": {\"color\": \" yellow\"}});\n\tviewer_15257188258592424.addSurface(4,{\"opacity\": 0.9, \"color\": \"lightblue\"},{\"chain\": \"A\", \"hetflag\": false});\n\tviewer_15257188258592424.addSurface(4,{\"opacity\": 0.9, \"color\": \"lightyellow\"},{\"chain\": \"B\", \"hetflag\": false});\nviewer_15257188258592424.render();\n})\n});\n</script>",
      "text/html": [
       "<div id=\"3dmolviewer_15257188258592424\"  style=\"position: relative; width: 640px; height: 480px\">\n",
       "        <p id=\"3dmolwarning_15257188258592424\" style=\"background-color:#ffcccc;color:black\">You appear to be running in JupyterLab.  You need to install the 3dmol extension: <br>\n",
       "        <tt>jupyter labextension install jupyterlab_3dmol</tt></p>\n",
       "        </div>\n",
       "<script>\n",
       "\n",
       "var loadScriptAsync = function(uri){\n",
       "  return new Promise((resolve, reject) => {\n",
       "    var tag = document.createElement('script');\n",
       "    tag.src = uri;\n",
       "    tag.async = true;\n",
       "    tag.onload = () => {\n",
       "      resolve();\n",
       "    };\n",
       "  var firstScriptTag = document.getElementsByTagName('script')[0];\n",
       "  firstScriptTag.parentNode.insertBefore(tag, firstScriptTag);\n",
       "});\n",
       "};\n",
       "\n",
       "if(typeof $3Dmolpromise === 'undefined') {\n",
       "$3Dmolpromise = null;\n",
       "  $3Dmolpromise = loadScriptAsync('https://3dmol.csb.pitt.edu/build/3Dmol.js');\n",
       "}\n",
       "\n",
       "var viewer_15257188258592424 = null;\n",
       "var warn = document.getElementById(\"3dmolwarning_15257188258592424\");\n",
       "if(warn) {\n",
       "    warn.parentNode.removeChild(warn);\n",
       "}\n",
       "$3Dmolpromise.then(function() {\n",
       "viewer_15257188258592424 = $3Dmol.createViewer($(\"#3dmolviewer_15257188258592424\"),{backgroundColor:\"white\"});\n",
       "$3Dmol.download(\"pdb:1OHR\", viewer_15257188258592424, {}, function() {\n",
       "\tviewer_15257188258592424.setStyle({\"chain\": \"A\"},{\"cartoon\": {\"color\": \"blue\"}});\n",
       "\tviewer_15257188258592424.setStyle({\"chain\": \"B\"},{\"cartoon\": {\"color\": \" yellow\"}});\n",
       "\tviewer_15257188258592424.addSurface(4,{\"opacity\": 0.9, \"color\": \"lightblue\"},{\"chain\": \"A\", \"hetflag\": false});\n",
       "\tviewer_15257188258592424.addSurface(4,{\"opacity\": 0.9, \"color\": \"lightyellow\"},{\"chain\": \"B\", \"hetflag\": false});\n",
       "viewer_15257188258592424.render();\n",
       "})\n",
       "});\n",
       "</script>"
      ]
     },
     "metadata": {},
     "output_type": "display_data"
    }
   ],
   "source": [
    "viewer.addSurface(py3Dmol.SES,{'opacity':0.9,'color':'lightblue'}, \n",
    "                  {'chain': 'A', 'hetflag' : False})\n",
    "                   \n",
    "viewer.addSurface(py3Dmol.SES,{'opacity':0.9,'color':'lightyellow'}, \n",
    "                  {'chain': 'B', 'hetflag' : False})\n",
    "viewer.show()"
   ]
  },
  {
   "cell_type": "markdown",
   "metadata": {},
   "source": [
    "### TODO-2: Set the style for the ligand \n",
    "Set style for ligand `1UN` to sphere and color by greenCarbon color scheme."
   ]
  },
  {
   "cell_type": "code",
   "execution_count": 4,
   "metadata": {},
   "outputs": [
    {
     "data": {
      "application/3dmoljs_load.v0": "<div id=\"3dmolviewer_15257188317250514\"  style=\"position: relative; width: 640px; height: 480px\">\n        <p id=\"3dmolwarning_15257188317250514\" style=\"background-color:#ffcccc;color:black\">You appear to be running in JupyterLab.  You need to install the 3dmol extension: <br>\n        <tt>jupyter labextension install jupyterlab_3dmol</tt></p>\n        </div>\n<script>\n\nvar loadScriptAsync = function(uri){\n  return new Promise((resolve, reject) => {\n    var tag = document.createElement('script');\n    tag.src = uri;\n    tag.async = true;\n    tag.onload = () => {\n      resolve();\n    };\n  var firstScriptTag = document.getElementsByTagName('script')[0];\n  firstScriptTag.parentNode.insertBefore(tag, firstScriptTag);\n});\n};\n\nif(typeof $3Dmolpromise === 'undefined') {\n$3Dmolpromise = null;\n  $3Dmolpromise = loadScriptAsync('https://3dmol.csb.pitt.edu/build/3Dmol.js');\n}\n\nvar viewer_15257188317250514 = null;\nvar warn = document.getElementById(\"3dmolwarning_15257188317250514\");\nif(warn) {\n    warn.parentNode.removeChild(warn);\n}\n$3Dmolpromise.then(function() {\nviewer_15257188317250514 = $3Dmol.createViewer($(\"#3dmolviewer_15257188317250514\"),{backgroundColor:\"white\"});\n$3Dmol.download(\"pdb:1OHR\", viewer_15257188317250514, {}, function() {\n\tviewer_15257188317250514.setStyle({\"chain\": \"A\"},{\"cartoon\": {\"color\": \"blue\"}});\n\tviewer_15257188317250514.setStyle({\"chain\": \"B\"},{\"cartoon\": {\"color\": \" yellow\"}});\n\tviewer_15257188317250514.addSurface(4,{\"opacity\": 0.9, \"color\": \"lightblue\"},{\"chain\": \"A\", \"hetflag\": false});\n\tviewer_15257188317250514.addSurface(4,{\"opacity\": 0.9, \"color\": \"lightyellow\"},{\"chain\": \"B\", \"hetflag\": false});\n\tviewer_15257188317250514.setStyle({\"resn\": \"1UN\"},{\"sphere\": {\"colorscheme\": \"greenCarbon\"}});\nviewer_15257188317250514.render();\n})\n});\n</script>",
      "text/html": [
       "<div id=\"3dmolviewer_15257188317250514\"  style=\"position: relative; width: 640px; height: 480px\">\n",
       "        <p id=\"3dmolwarning_15257188317250514\" style=\"background-color:#ffcccc;color:black\">You appear to be running in JupyterLab.  You need to install the 3dmol extension: <br>\n",
       "        <tt>jupyter labextension install jupyterlab_3dmol</tt></p>\n",
       "        </div>\n",
       "<script>\n",
       "\n",
       "var loadScriptAsync = function(uri){\n",
       "  return new Promise((resolve, reject) => {\n",
       "    var tag = document.createElement('script');\n",
       "    tag.src = uri;\n",
       "    tag.async = true;\n",
       "    tag.onload = () => {\n",
       "      resolve();\n",
       "    };\n",
       "  var firstScriptTag = document.getElementsByTagName('script')[0];\n",
       "  firstScriptTag.parentNode.insertBefore(tag, firstScriptTag);\n",
       "});\n",
       "};\n",
       "\n",
       "if(typeof $3Dmolpromise === 'undefined') {\n",
       "$3Dmolpromise = null;\n",
       "  $3Dmolpromise = loadScriptAsync('https://3dmol.csb.pitt.edu/build/3Dmol.js');\n",
       "}\n",
       "\n",
       "var viewer_15257188317250514 = null;\n",
       "var warn = document.getElementById(\"3dmolwarning_15257188317250514\");\n",
       "if(warn) {\n",
       "    warn.parentNode.removeChild(warn);\n",
       "}\n",
       "$3Dmolpromise.then(function() {\n",
       "viewer_15257188317250514 = $3Dmol.createViewer($(\"#3dmolviewer_15257188317250514\"),{backgroundColor:\"white\"});\n",
       "$3Dmol.download(\"pdb:1OHR\", viewer_15257188317250514, {}, function() {\n",
       "\tviewer_15257188317250514.setStyle({\"chain\": \"A\"},{\"cartoon\": {\"color\": \"blue\"}});\n",
       "\tviewer_15257188317250514.setStyle({\"chain\": \"B\"},{\"cartoon\": {\"color\": \" yellow\"}});\n",
       "\tviewer_15257188317250514.addSurface(4,{\"opacity\": 0.9, \"color\": \"lightblue\"},{\"chain\": \"A\", \"hetflag\": false});\n",
       "\tviewer_15257188317250514.addSurface(4,{\"opacity\": 0.9, \"color\": \"lightyellow\"},{\"chain\": \"B\", \"hetflag\": false});\n",
       "\tviewer_15257188317250514.setStyle({\"resn\": \"1UN\"},{\"sphere\": {\"colorscheme\": \"greenCarbon\"}});\n",
       "viewer_15257188317250514.render();\n",
       "})\n",
       "});\n",
       "</script>"
      ]
     },
     "metadata": {},
     "output_type": "display_data"
    },
    {
     "data": {
      "text/plain": [
       "<py3Dmol.view at 0x7f93c3767128>"
      ]
     },
     "execution_count": 4,
     "metadata": {},
     "output_type": "execute_result"
    }
   ],
   "source": [
    "viewer.setStyle({'resn': '1UN'},{'sphere': {'colorscheme': 'greenCarbon'}})"
   ]
  },
  {
   "cell_type": "markdown",
   "metadata": {},
   "source": [
    "### Bonus: Annotate the binding site\n",
    "Render the ligand `1UN` as stick, display the bond orders, and add the label 'Nelfinavir'."
   ]
  },
  {
   "cell_type": "code",
   "execution_count": 5,
   "metadata": {},
   "outputs": [
    {
     "data": {
      "application/3dmoljs_load.v0": "<div id=\"3dmolviewer_15257188458011785\"  style=\"position: relative; width: 640px; height: 480px\">\n        <p id=\"3dmolwarning_15257188458011785\" style=\"background-color:#ffcccc;color:black\">You appear to be running in JupyterLab.  You need to install the 3dmol extension: <br>\n        <tt>jupyter labextension install jupyterlab_3dmol</tt></p>\n        </div>\n<script>\n\nvar loadScriptAsync = function(uri){\n  return new Promise((resolve, reject) => {\n    var tag = document.createElement('script');\n    tag.src = uri;\n    tag.async = true;\n    tag.onload = () => {\n      resolve();\n    };\n  var firstScriptTag = document.getElementsByTagName('script')[0];\n  firstScriptTag.parentNode.insertBefore(tag, firstScriptTag);\n});\n};\n\nif(typeof $3Dmolpromise === 'undefined') {\n$3Dmolpromise = null;\n  $3Dmolpromise = loadScriptAsync('https://3dmol.csb.pitt.edu/build/3Dmol.js');\n}\n\nvar viewer_15257188458011785 = null;\nvar warn = document.getElementById(\"3dmolwarning_15257188458011785\");\nif(warn) {\n    warn.parentNode.removeChild(warn);\n}\n$3Dmolpromise.then(function() {\nviewer_15257188458011785 = $3Dmol.createViewer($(\"#3dmolviewer_15257188458011785\"),{backgroundColor:\"white\"});\n$3Dmol.download(\"pdb:1OHR\", viewer_15257188458011785, {}, function() {\n\tviewer_15257188458011785.setStyle({\"chain\": \"A\"},{\"cartoon\": {\"color\": \"blue\"}});\n\tviewer_15257188458011785.setStyle({\"chain\": \"B\"},{\"cartoon\": {\"color\": \" yellow\"}});\n\tviewer_15257188458011785.addSurface(4,{\"opacity\": 0.9, \"color\": \"lightblue\"},{\"chain\": \"A\", \"hetflag\": false});\n\tviewer_15257188458011785.addSurface(4,{\"opacity\": 0.9, \"color\": \"lightyellow\"},{\"chain\": \"B\", \"hetflag\": false});\n\tviewer_15257188458011785.setStyle({\"resn\": \"1UN\"},{\"sphere\": {\"colorscheme\": \"greenCarbon\"}});\n\tviewer_15257188458011785.addLabel(\"Nelfinavir\",{\"fontColor\": \"black\", \"backgroundColor\": \"lightgray\"},{\"resn\": \"1UN\"});\nviewer_15257188458011785.render();\n})\n});\n</script>",
      "text/html": [
       "<div id=\"3dmolviewer_15257188458011785\"  style=\"position: relative; width: 640px; height: 480px\">\n",
       "        <p id=\"3dmolwarning_15257188458011785\" style=\"background-color:#ffcccc;color:black\">You appear to be running in JupyterLab.  You need to install the 3dmol extension: <br>\n",
       "        <tt>jupyter labextension install jupyterlab_3dmol</tt></p>\n",
       "        </div>\n",
       "<script>\n",
       "\n",
       "var loadScriptAsync = function(uri){\n",
       "  return new Promise((resolve, reject) => {\n",
       "    var tag = document.createElement('script');\n",
       "    tag.src = uri;\n",
       "    tag.async = true;\n",
       "    tag.onload = () => {\n",
       "      resolve();\n",
       "    };\n",
       "  var firstScriptTag = document.getElementsByTagName('script')[0];\n",
       "  firstScriptTag.parentNode.insertBefore(tag, firstScriptTag);\n",
       "});\n",
       "};\n",
       "\n",
       "if(typeof $3Dmolpromise === 'undefined') {\n",
       "$3Dmolpromise = null;\n",
       "  $3Dmolpromise = loadScriptAsync('https://3dmol.csb.pitt.edu/build/3Dmol.js');\n",
       "}\n",
       "\n",
       "var viewer_15257188458011785 = null;\n",
       "var warn = document.getElementById(\"3dmolwarning_15257188458011785\");\n",
       "if(warn) {\n",
       "    warn.parentNode.removeChild(warn);\n",
       "}\n",
       "$3Dmolpromise.then(function() {\n",
       "viewer_15257188458011785 = $3Dmol.createViewer($(\"#3dmolviewer_15257188458011785\"),{backgroundColor:\"white\"});\n",
       "$3Dmol.download(\"pdb:1OHR\", viewer_15257188458011785, {}, function() {\n",
       "\tviewer_15257188458011785.setStyle({\"chain\": \"A\"},{\"cartoon\": {\"color\": \"blue\"}});\n",
       "\tviewer_15257188458011785.setStyle({\"chain\": \"B\"},{\"cartoon\": {\"color\": \" yellow\"}});\n",
       "\tviewer_15257188458011785.addSurface(4,{\"opacity\": 0.9, \"color\": \"lightblue\"},{\"chain\": \"A\", \"hetflag\": false});\n",
       "\tviewer_15257188458011785.addSurface(4,{\"opacity\": 0.9, \"color\": \"lightyellow\"},{\"chain\": \"B\", \"hetflag\": false});\n",
       "\tviewer_15257188458011785.setStyle({\"resn\": \"1UN\"},{\"sphere\": {\"colorscheme\": \"greenCarbon\"}});\n",
       "\tviewer_15257188458011785.addLabel(\"Nelfinavir\",{\"fontColor\": \"black\", \"backgroundColor\": \"lightgray\"},{\"resn\": \"1UN\"});\n",
       "viewer_15257188458011785.render();\n",
       "})\n",
       "});\n",
       "</script>"
      ]
     },
     "metadata": {},
     "output_type": "display_data"
    },
    {
     "data": {
      "text/plain": [
       "<py3Dmol.view at 0x7f93c3767128>"
      ]
     },
     "execution_count": 5,
     "metadata": {},
     "output_type": "execute_result"
    }
   ],
   "source": [
    "viewer.addLabel('Nelfinavir', {'fontColor':'black', 'backgroundColor':'lightgray'}, {'resn':'1UN'})"
   ]
  },
  {
   "cell_type": "code",
   "execution_count": null,
   "metadata": {
    "collapsed": true
   },
   "outputs": [],
   "source": []
  }
 ],
 "metadata": {
  "kernelspec": {
   "display_name": "Python 3",
   "language": "python",
   "name": "python3"
  },
  "language_info": {
   "codemirror_mode": {
    "name": "ipython",
    "version": 3
   },
   "file_extension": ".py",
   "mimetype": "text/x-python",
   "name": "python",
   "nbconvert_exporter": "python",
   "pygments_lexer": "ipython3",
   "version": "3.6.4"
  }
 },
 "nbformat": 4,
 "nbformat_minor": 2
}
