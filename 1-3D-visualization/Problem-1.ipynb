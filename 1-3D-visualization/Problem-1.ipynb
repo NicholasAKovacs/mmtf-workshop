{
 "cells": [
  {
   "cell_type": "markdown",
   "metadata": {},
   "source": [
    "# Problem-1\n",
    "Visualize a PDB structure, set styles, and add labels."
   ]
  },
  {
   "cell_type": "code",
   "execution_count": 1,
   "metadata": {
    "collapsed": true
   },
   "outputs": [],
   "source": [
    "import py3Dmol"
   ]
  },
  {
   "cell_type": "markdown",
   "metadata": {},
   "source": [
    "### TODO-1\n",
    "Instantiate py3Dmol viewer with PDB structure 1NCA (Neuraminidase-FAB complex)"
   ]
  },
  {
   "cell_type": "code",
   "execution_count": 8,
   "metadata": {},
   "outputs": [
    {
     "data": {
      "application/3dmoljs_load.v0": "<div id=\"3dmolviewer_1525717910165042\"  style=\"position: relative; width: 640px; height: 480px\">\n        <p id=\"3dmolwarning_1525717910165042\" style=\"background-color:#ffcccc;color:black\">You appear to be running in JupyterLab.  You need to install the 3dmol extension: <br>\n        <tt>jupyter labextension install jupyterlab_3dmol</tt></p>\n        </div>\n<script>\n\nvar loadScriptAsync = function(uri){\n  return new Promise((resolve, reject) => {\n    var tag = document.createElement('script');\n    tag.src = uri;\n    tag.async = true;\n    tag.onload = () => {\n      resolve();\n    };\n  var firstScriptTag = document.getElementsByTagName('script')[0];\n  firstScriptTag.parentNode.insertBefore(tag, firstScriptTag);\n});\n};\n\nif(typeof $3Dmolpromise === 'undefined') {\n$3Dmolpromise = null;\n  $3Dmolpromise = loadScriptAsync('https://3dmol.csb.pitt.edu/build/3Dmol.js');\n}\n\nvar viewer_1525717910165042 = null;\nvar warn = document.getElementById(\"3dmolwarning_1525717910165042\");\nif(warn) {\n    warn.parentNode.removeChild(warn);\n}\n$3Dmolpromise.then(function() {\nviewer_1525717910165042 = $3Dmol.createViewer($(\"#3dmolviewer_1525717910165042\"),{backgroundColor:\"white\"});\n$3Dmol.download(\"pdb:1NCA\", viewer_1525717910165042, {}, function() {\nviewer_1525717910165042.render();\n})\n});\n</script>",
      "text/html": [
       "<div id=\"3dmolviewer_1525717910165042\"  style=\"position: relative; width: 640px; height: 480px\">\n",
       "        <p id=\"3dmolwarning_1525717910165042\" style=\"background-color:#ffcccc;color:black\">You appear to be running in JupyterLab.  You need to install the 3dmol extension: <br>\n",
       "        <tt>jupyter labextension install jupyterlab_3dmol</tt></p>\n",
       "        </div>\n",
       "<script>\n",
       "\n",
       "var loadScriptAsync = function(uri){\n",
       "  return new Promise((resolve, reject) => {\n",
       "    var tag = document.createElement('script');\n",
       "    tag.src = uri;\n",
       "    tag.async = true;\n",
       "    tag.onload = () => {\n",
       "      resolve();\n",
       "    };\n",
       "  var firstScriptTag = document.getElementsByTagName('script')[0];\n",
       "  firstScriptTag.parentNode.insertBefore(tag, firstScriptTag);\n",
       "});\n",
       "};\n",
       "\n",
       "if(typeof $3Dmolpromise === 'undefined') {\n",
       "$3Dmolpromise = null;\n",
       "  $3Dmolpromise = loadScriptAsync('https://3dmol.csb.pitt.edu/build/3Dmol.js');\n",
       "}\n",
       "\n",
       "var viewer_1525717910165042 = null;\n",
       "var warn = document.getElementById(\"3dmolwarning_1525717910165042\");\n",
       "if(warn) {\n",
       "    warn.parentNode.removeChild(warn);\n",
       "}\n",
       "$3Dmolpromise.then(function() {\n",
       "viewer_1525717910165042 = $3Dmol.createViewer($(\"#3dmolviewer_1525717910165042\"),{backgroundColor:\"white\"});\n",
       "$3Dmol.download(\"pdb:1NCA\", viewer_1525717910165042, {}, function() {\n",
       "viewer_1525717910165042.render();\n",
       "})\n",
       "});\n",
       "</script>"
      ]
     },
     "metadata": {},
     "output_type": "display_data"
    }
   ],
   "source": [
    "view = py3Dmol.view(query='pdb:1NCA')\n",
    "view.show()"
   ]
  },
  {
   "cell_type": "markdown",
   "metadata": {},
   "source": [
    "### TODO-2\n",
    "Apply the following styles to this structure:\n",
    "* chain N (Neuraminidase): orange cartoon\n",
    "* chain H (Heavy chain): blue sphere\n",
    "* chain L (Light chain): lightblue sphere\n"
   ]
  },
  {
   "cell_type": "code",
   "execution_count": 9,
   "metadata": {},
   "outputs": [
    {
     "data": {
      "application/3dmoljs_load.v0": "<div id=\"3dmolviewer_1525717911405751\"  style=\"position: relative; width: 640px; height: 480px\">\n        <p id=\"3dmolwarning_1525717911405751\" style=\"background-color:#ffcccc;color:black\">You appear to be running in JupyterLab.  You need to install the 3dmol extension: <br>\n        <tt>jupyter labextension install jupyterlab_3dmol</tt></p>\n        </div>\n<script>\n\nvar loadScriptAsync = function(uri){\n  return new Promise((resolve, reject) => {\n    var tag = document.createElement('script');\n    tag.src = uri;\n    tag.async = true;\n    tag.onload = () => {\n      resolve();\n    };\n  var firstScriptTag = document.getElementsByTagName('script')[0];\n  firstScriptTag.parentNode.insertBefore(tag, firstScriptTag);\n});\n};\n\nif(typeof $3Dmolpromise === 'undefined') {\n$3Dmolpromise = null;\n  $3Dmolpromise = loadScriptAsync('https://3dmol.csb.pitt.edu/build/3Dmol.js');\n}\n\nvar viewer_1525717911405751 = null;\nvar warn = document.getElementById(\"3dmolwarning_1525717911405751\");\nif(warn) {\n    warn.parentNode.removeChild(warn);\n}\n$3Dmolpromise.then(function() {\nviewer_1525717911405751 = $3Dmol.createViewer($(\"#3dmolviewer_1525717911405751\"),{backgroundColor:\"white\"});\n$3Dmol.download(\"pdb:1NCA\", viewer_1525717911405751, {}, function() {\n\tviewer_1525717911405751.setStyle({\"chain\": \"N\"},{\"cartoon\": {\"color\": \"orange\"}});\n\tviewer_1525717911405751.setStyle({\"chain\": \"H\"},{\"sphere\": {\"color\": \"blue\"}});\n\tviewer_1525717911405751.setStyle({\"chain\": \"L\"},{\"sphere\": {\"color\": \"lightblue\"}});\nviewer_1525717911405751.render();\n})\n});\n</script>",
      "text/html": [
       "<div id=\"3dmolviewer_1525717911405751\"  style=\"position: relative; width: 640px; height: 480px\">\n",
       "        <p id=\"3dmolwarning_1525717911405751\" style=\"background-color:#ffcccc;color:black\">You appear to be running in JupyterLab.  You need to install the 3dmol extension: <br>\n",
       "        <tt>jupyter labextension install jupyterlab_3dmol</tt></p>\n",
       "        </div>\n",
       "<script>\n",
       "\n",
       "var loadScriptAsync = function(uri){\n",
       "  return new Promise((resolve, reject) => {\n",
       "    var tag = document.createElement('script');\n",
       "    tag.src = uri;\n",
       "    tag.async = true;\n",
       "    tag.onload = () => {\n",
       "      resolve();\n",
       "    };\n",
       "  var firstScriptTag = document.getElementsByTagName('script')[0];\n",
       "  firstScriptTag.parentNode.insertBefore(tag, firstScriptTag);\n",
       "});\n",
       "};\n",
       "\n",
       "if(typeof $3Dmolpromise === 'undefined') {\n",
       "$3Dmolpromise = null;\n",
       "  $3Dmolpromise = loadScriptAsync('https://3dmol.csb.pitt.edu/build/3Dmol.js');\n",
       "}\n",
       "\n",
       "var viewer_1525717911405751 = null;\n",
       "var warn = document.getElementById(\"3dmolwarning_1525717911405751\");\n",
       "if(warn) {\n",
       "    warn.parentNode.removeChild(warn);\n",
       "}\n",
       "$3Dmolpromise.then(function() {\n",
       "viewer_1525717911405751 = $3Dmol.createViewer($(\"#3dmolviewer_1525717911405751\"),{backgroundColor:\"white\"});\n",
       "$3Dmol.download(\"pdb:1NCA\", viewer_1525717911405751, {}, function() {\n",
       "\tviewer_1525717911405751.setStyle({\"chain\": \"N\"},{\"cartoon\": {\"color\": \"orange\"}});\n",
       "\tviewer_1525717911405751.setStyle({\"chain\": \"H\"},{\"sphere\": {\"color\": \"blue\"}});\n",
       "\tviewer_1525717911405751.setStyle({\"chain\": \"L\"},{\"sphere\": {\"color\": \"lightblue\"}});\n",
       "viewer_1525717911405751.render();\n",
       "})\n",
       "});\n",
       "</script>"
      ]
     },
     "metadata": {},
     "output_type": "display_data"
    }
   ],
   "source": [
    "view.setStyle({'chain':'N'},{'cartoon': {'color': 'orange'}})\n",
    "view.setStyle({'chain':'H'},{'sphere': {'color': 'blue'}})\n",
    "view.setStyle({'chain':'L'},{'sphere': {'color': 'lightblue'}})\n",
    "view.show()"
   ]
  },
  {
   "cell_type": "markdown",
   "metadata": {},
   "source": [
    "### TODO-3: Add text labels to the three chains"
   ]
  },
  {
   "cell_type": "code",
   "execution_count": 16,
   "metadata": {},
   "outputs": [
    {
     "data": {
      "application/3dmoljs_load.v0": "<div id=\"3dmolviewer_1525718132106226\"  style=\"position: relative; width: 640px; height: 480px\">\n        <p id=\"3dmolwarning_1525718132106226\" style=\"background-color:#ffcccc;color:black\">You appear to be running in JupyterLab.  You need to install the 3dmol extension: <br>\n        <tt>jupyter labextension install jupyterlab_3dmol</tt></p>\n        </div>\n<script>\n\nvar loadScriptAsync = function(uri){\n  return new Promise((resolve, reject) => {\n    var tag = document.createElement('script');\n    tag.src = uri;\n    tag.async = true;\n    tag.onload = () => {\n      resolve();\n    };\n  var firstScriptTag = document.getElementsByTagName('script')[0];\n  firstScriptTag.parentNode.insertBefore(tag, firstScriptTag);\n});\n};\n\nif(typeof $3Dmolpromise === 'undefined') {\n$3Dmolpromise = null;\n  $3Dmolpromise = loadScriptAsync('https://3dmol.csb.pitt.edu/build/3Dmol.js');\n}\n\nvar viewer_1525718132106226 = null;\nvar warn = document.getElementById(\"3dmolwarning_1525718132106226\");\nif(warn) {\n    warn.parentNode.removeChild(warn);\n}\n$3Dmolpromise.then(function() {\nviewer_1525718132106226 = $3Dmol.createViewer($(\"#3dmolviewer_1525718132106226\"),{backgroundColor:\"white\"});\n$3Dmol.download(\"pdb:1NCA\", viewer_1525718132106226, {}, function() {\n\tviewer_1525718132106226.setStyle({\"chain\": \"N\"},{\"cartoon\": {\"color\": \"orange\"}});\n\tviewer_1525718132106226.setStyle({\"chain\": \"H\"},{\"sphere\": {\"color\": \"blue\"}});\n\tviewer_1525718132106226.setStyle({\"chain\": \"L\"},{\"sphere\": {\"color\": \"lightblue\"}});\n\tviewer_1525718132106226.addLabel(\"Neuroaminidase\",{\"fontColor\": \"orange\", \"backgroundColor\": \"lightgray\"},{\"chain\": \"N\"});\n\tviewer_1525718132106226.addLabel(\"Neuroaminidase\",{\"fontColor\": \"orange\", \"backgroundColor\": \"lightgray\"},{\"chain\": \"N\"});\n\tviewer_1525718132106226.addLabel(\"Heavy chain\",{\"fontColor\": \"blue\", \"backgroundColor\": \"lightgray\"},{\"chain\": \"H\"});\n\tviewer_1525718132106226.addLabel(\"Light chain\",{\"fontColor\": \"lightblue\", \"backgroundColor\": \"lightgray\"},{\"chain\": \"L\"});\n\tviewer_1525718132106226.addLabel(\"Neuroaminidase\",{\"fontColor\": \"orange\", \"backgroundColor\": \"lightgray\"},{\"chain\": \"N\"});\n\tviewer_1525718132106226.addLabel(\"Heavy chain\",{\"chain\": \"H\"});\n\tviewer_1525718132106226.addLabel(\"Light chain\",{\"fontColor\": \"lightblue\", \"backgroundColor\": \"black\"},{\"chain\": \"L\"});\n\tviewer_1525718132106226.addLabel(\"Neuroaminidase\",{\"fontColor\": \"orange\", \"backgroundColor\": \"lightgray\"},{\"chain\": \"N\"});\n\tviewer_1525718132106226.addLabel(\"Heavy chain\",{\"chain\": \"H\"});\n\tviewer_1525718132106226.addLabel(\"Light chain\",{\"fontColor\": \"lightblue\", \"backgroundColor\": \"black\"},{\"chain\": \"L\"});\n\tviewer_1525718132106226.addLabel(\"Neuroaminidase\",{\"fontColor\": \"orange\", \"backgroundColor\": \"lightgray\"},{\"chain\": \"N\"});\n\tviewer_1525718132106226.addLabel(\"Heavy chain\",{\"chain\": \"H\"});\n\tviewer_1525718132106226.addLabel(\"Light chain\",{\"chain\": \"L\"});\n\tviewer_1525718132106226.addLabel(\"Neuroaminidase\",{\"chain\": \"N\"});\n\tviewer_1525718132106226.addLabel(\"Heavy chain\",{\"chain\": \"H\"});\n\tviewer_1525718132106226.addLabel(\"Light chain\",{\"chain\": \"L\"});\n\tviewer_1525718132106226.addLabel(\"Neuroaminidase\",{\"chain\": \"N\"});\n\tviewer_1525718132106226.addLabel(\"Heavy chain\",{\"chain\": \"H\"});\n\tviewer_1525718132106226.addLabel(\"Light chain\",{\"chain\": \"L\"});\nviewer_1525718132106226.render();\n})\n});\n</script>",
      "text/html": [
       "<div id=\"3dmolviewer_1525718132106226\"  style=\"position: relative; width: 640px; height: 480px\">\n",
       "        <p id=\"3dmolwarning_1525718132106226\" style=\"background-color:#ffcccc;color:black\">You appear to be running in JupyterLab.  You need to install the 3dmol extension: <br>\n",
       "        <tt>jupyter labextension install jupyterlab_3dmol</tt></p>\n",
       "        </div>\n",
       "<script>\n",
       "\n",
       "var loadScriptAsync = function(uri){\n",
       "  return new Promise((resolve, reject) => {\n",
       "    var tag = document.createElement('script');\n",
       "    tag.src = uri;\n",
       "    tag.async = true;\n",
       "    tag.onload = () => {\n",
       "      resolve();\n",
       "    };\n",
       "  var firstScriptTag = document.getElementsByTagName('script')[0];\n",
       "  firstScriptTag.parentNode.insertBefore(tag, firstScriptTag);\n",
       "});\n",
       "};\n",
       "\n",
       "if(typeof $3Dmolpromise === 'undefined') {\n",
       "$3Dmolpromise = null;\n",
       "  $3Dmolpromise = loadScriptAsync('https://3dmol.csb.pitt.edu/build/3Dmol.js');\n",
       "}\n",
       "\n",
       "var viewer_1525718132106226 = null;\n",
       "var warn = document.getElementById(\"3dmolwarning_1525718132106226\");\n",
       "if(warn) {\n",
       "    warn.parentNode.removeChild(warn);\n",
       "}\n",
       "$3Dmolpromise.then(function() {\n",
       "viewer_1525718132106226 = $3Dmol.createViewer($(\"#3dmolviewer_1525718132106226\"),{backgroundColor:\"white\"});\n",
       "$3Dmol.download(\"pdb:1NCA\", viewer_1525718132106226, {}, function() {\n",
       "\tviewer_1525718132106226.setStyle({\"chain\": \"N\"},{\"cartoon\": {\"color\": \"orange\"}});\n",
       "\tviewer_1525718132106226.setStyle({\"chain\": \"H\"},{\"sphere\": {\"color\": \"blue\"}});\n",
       "\tviewer_1525718132106226.setStyle({\"chain\": \"L\"},{\"sphere\": {\"color\": \"lightblue\"}});\n",
       "\tviewer_1525718132106226.addLabel(\"Neuroaminidase\",{\"fontColor\": \"orange\", \"backgroundColor\": \"lightgray\"},{\"chain\": \"N\"});\n",
       "\tviewer_1525718132106226.addLabel(\"Neuroaminidase\",{\"fontColor\": \"orange\", \"backgroundColor\": \"lightgray\"},{\"chain\": \"N\"});\n",
       "\tviewer_1525718132106226.addLabel(\"Heavy chain\",{\"fontColor\": \"blue\", \"backgroundColor\": \"lightgray\"},{\"chain\": \"H\"});\n",
       "\tviewer_1525718132106226.addLabel(\"Light chain\",{\"fontColor\": \"lightblue\", \"backgroundColor\": \"lightgray\"},{\"chain\": \"L\"});\n",
       "\tviewer_1525718132106226.addLabel(\"Neuroaminidase\",{\"fontColor\": \"orange\", \"backgroundColor\": \"lightgray\"},{\"chain\": \"N\"});\n",
       "\tviewer_1525718132106226.addLabel(\"Heavy chain\",{\"chain\": \"H\"});\n",
       "\tviewer_1525718132106226.addLabel(\"Light chain\",{\"fontColor\": \"lightblue\", \"backgroundColor\": \"black\"},{\"chain\": \"L\"});\n",
       "\tviewer_1525718132106226.addLabel(\"Neuroaminidase\",{\"fontColor\": \"orange\", \"backgroundColor\": \"lightgray\"},{\"chain\": \"N\"});\n",
       "\tviewer_1525718132106226.addLabel(\"Heavy chain\",{\"chain\": \"H\"});\n",
       "\tviewer_1525718132106226.addLabel(\"Light chain\",{\"fontColor\": \"lightblue\", \"backgroundColor\": \"black\"},{\"chain\": \"L\"});\n",
       "\tviewer_1525718132106226.addLabel(\"Neuroaminidase\",{\"fontColor\": \"orange\", \"backgroundColor\": \"lightgray\"},{\"chain\": \"N\"});\n",
       "\tviewer_1525718132106226.addLabel(\"Heavy chain\",{\"chain\": \"H\"});\n",
       "\tviewer_1525718132106226.addLabel(\"Light chain\",{\"chain\": \"L\"});\n",
       "\tviewer_1525718132106226.addLabel(\"Neuroaminidase\",{\"chain\": \"N\"});\n",
       "\tviewer_1525718132106226.addLabel(\"Heavy chain\",{\"chain\": \"H\"});\n",
       "\tviewer_1525718132106226.addLabel(\"Light chain\",{\"chain\": \"L\"});\n",
       "\tviewer_1525718132106226.addLabel(\"Neuroaminidase\",{\"chain\": \"N\"});\n",
       "\tviewer_1525718132106226.addLabel(\"Heavy chain\",{\"chain\": \"H\"});\n",
       "\tviewer_1525718132106226.addLabel(\"Light chain\",{\"chain\": \"L\"});\n",
       "viewer_1525718132106226.render();\n",
       "})\n",
       "});\n",
       "</script>"
      ]
     },
     "metadata": {},
     "output_type": "display_data"
    }
   ],
   "source": [
    "view.addLabel('Neuroaminidase', {'chain': 'N'})\n",
    "view.addLabel('Heavy chain', {'chain': 'H'})\n",
    "view.addLabel('Light chain', {'chain': 'L'})\n",
    "view.show()"
   ]
  },
  {
   "cell_type": "markdown",
   "metadata": {},
   "source": [
    "### Bonus: Set the style for sugar residues MAN, BMA, and NAG to stick and color by a greenCarbon colorscheme."
   ]
  },
  {
   "cell_type": "code",
   "execution_count": 22,
   "metadata": {},
   "outputs": [
    {
     "data": {
      "application/3dmoljs_load.v0": "<div id=\"3dmolviewer_1525718239197272\"  style=\"position: relative; width: 640px; height: 480px\">\n        <p id=\"3dmolwarning_1525718239197272\" style=\"background-color:#ffcccc;color:black\">You appear to be running in JupyterLab.  You need to install the 3dmol extension: <br>\n        <tt>jupyter labextension install jupyterlab_3dmol</tt></p>\n        </div>\n<script>\n\nvar loadScriptAsync = function(uri){\n  return new Promise((resolve, reject) => {\n    var tag = document.createElement('script');\n    tag.src = uri;\n    tag.async = true;\n    tag.onload = () => {\n      resolve();\n    };\n  var firstScriptTag = document.getElementsByTagName('script')[0];\n  firstScriptTag.parentNode.insertBefore(tag, firstScriptTag);\n});\n};\n\nif(typeof $3Dmolpromise === 'undefined') {\n$3Dmolpromise = null;\n  $3Dmolpromise = loadScriptAsync('https://3dmol.csb.pitt.edu/build/3Dmol.js');\n}\n\nvar viewer_1525718239197272 = null;\nvar warn = document.getElementById(\"3dmolwarning_1525718239197272\");\nif(warn) {\n    warn.parentNode.removeChild(warn);\n}\n$3Dmolpromise.then(function() {\nviewer_1525718239197272 = $3Dmol.createViewer($(\"#3dmolviewer_1525718239197272\"),{backgroundColor:\"white\"});\n$3Dmol.download(\"pdb:1NCA\", viewer_1525718239197272, {}, function() {\n\tviewer_1525718239197272.setStyle({\"chain\": \"N\"},{\"cartoon\": {\"color\": \"orange\"}});\n\tviewer_1525718239197272.setStyle({\"chain\": \"H\"},{\"sphere\": {\"color\": \"blue\"}});\n\tviewer_1525718239197272.setStyle({\"chain\": \"L\"},{\"sphere\": {\"color\": \"lightblue\"}});\n\tviewer_1525718239197272.addLabel(\"Neuroaminidase\",{\"fontColor\": \"orange\", \"backgroundColor\": \"lightgray\"},{\"chain\": \"N\"});\n\tviewer_1525718239197272.addLabel(\"Neuroaminidase\",{\"fontColor\": \"orange\", \"backgroundColor\": \"lightgray\"},{\"chain\": \"N\"});\n\tviewer_1525718239197272.addLabel(\"Heavy chain\",{\"fontColor\": \"blue\", \"backgroundColor\": \"lightgray\"},{\"chain\": \"H\"});\n\tviewer_1525718239197272.addLabel(\"Light chain\",{\"fontColor\": \"lightblue\", \"backgroundColor\": \"lightgray\"},{\"chain\": \"L\"});\n\tviewer_1525718239197272.addLabel(\"Neuroaminidase\",{\"fontColor\": \"orange\", \"backgroundColor\": \"lightgray\"},{\"chain\": \"N\"});\n\tviewer_1525718239197272.addLabel(\"Heavy chain\",{\"chain\": \"H\"});\n\tviewer_1525718239197272.addLabel(\"Light chain\",{\"fontColor\": \"lightblue\", \"backgroundColor\": \"black\"},{\"chain\": \"L\"});\n\tviewer_1525718239197272.addLabel(\"Neuroaminidase\",{\"fontColor\": \"orange\", \"backgroundColor\": \"lightgray\"},{\"chain\": \"N\"});\n\tviewer_1525718239197272.addLabel(\"Heavy chain\",{\"chain\": \"H\"});\n\tviewer_1525718239197272.addLabel(\"Light chain\",{\"fontColor\": \"lightblue\", \"backgroundColor\": \"black\"},{\"chain\": \"L\"});\n\tviewer_1525718239197272.addLabel(\"Neuroaminidase\",{\"fontColor\": \"orange\", \"backgroundColor\": \"lightgray\"},{\"chain\": \"N\"});\n\tviewer_1525718239197272.addLabel(\"Heavy chain\",{\"chain\": \"H\"});\n\tviewer_1525718239197272.addLabel(\"Light chain\",{\"chain\": \"L\"});\n\tviewer_1525718239197272.addLabel(\"Neuroaminidase\",{\"chain\": \"N\"});\n\tviewer_1525718239197272.addLabel(\"Heavy chain\",{\"chain\": \"H\"});\n\tviewer_1525718239197272.addLabel(\"Light chain\",{\"chain\": \"L\"});\n\tviewer_1525718239197272.addLabel(\"Neuroaminidase\",{\"chain\": \"N\"});\n\tviewer_1525718239197272.addLabel(\"Heavy chain\",{\"chain\": \"H\"});\n\tviewer_1525718239197272.addLabel(\"Light chain\",{\"chain\": \"L\"});\n\tviewer_1525718239197272.setStyle({\"resn\": \"MAN\"},{\"stick\": {\"colorscheme\": \"redCarbon\", \"radius\": 0.2}});\n\tviewer_1525718239197272.setStyle({\"resn\": \"MAN\"},{\"stick\": {\"colorscheme\": \"redCarbon\", \"radius\": 0.2}});\n\tviewer_1525718239197272.setStyle({\"resn\": \"MAN\"},{\"stick\": {\"colorscheme\": \"greenCarbon\"}});\n\tviewer_1525718239197272.setStyle({\"resn\": [\"MAN\", \"BMA\", \"NAG\"]},{\"stick\": {\"colorscheme\": \"greenCarbon\"}});\nviewer_1525718239197272.render();\n})\n});\n</script>",
      "text/html": [
       "<div id=\"3dmolviewer_1525718239197272\"  style=\"position: relative; width: 640px; height: 480px\">\n",
       "        <p id=\"3dmolwarning_1525718239197272\" style=\"background-color:#ffcccc;color:black\">You appear to be running in JupyterLab.  You need to install the 3dmol extension: <br>\n",
       "        <tt>jupyter labextension install jupyterlab_3dmol</tt></p>\n",
       "        </div>\n",
       "<script>\n",
       "\n",
       "var loadScriptAsync = function(uri){\n",
       "  return new Promise((resolve, reject) => {\n",
       "    var tag = document.createElement('script');\n",
       "    tag.src = uri;\n",
       "    tag.async = true;\n",
       "    tag.onload = () => {\n",
       "      resolve();\n",
       "    };\n",
       "  var firstScriptTag = document.getElementsByTagName('script')[0];\n",
       "  firstScriptTag.parentNode.insertBefore(tag, firstScriptTag);\n",
       "});\n",
       "};\n",
       "\n",
       "if(typeof $3Dmolpromise === 'undefined') {\n",
       "$3Dmolpromise = null;\n",
       "  $3Dmolpromise = loadScriptAsync('https://3dmol.csb.pitt.edu/build/3Dmol.js');\n",
       "}\n",
       "\n",
       "var viewer_1525718239197272 = null;\n",
       "var warn = document.getElementById(\"3dmolwarning_1525718239197272\");\n",
       "if(warn) {\n",
       "    warn.parentNode.removeChild(warn);\n",
       "}\n",
       "$3Dmolpromise.then(function() {\n",
       "viewer_1525718239197272 = $3Dmol.createViewer($(\"#3dmolviewer_1525718239197272\"),{backgroundColor:\"white\"});\n",
       "$3Dmol.download(\"pdb:1NCA\", viewer_1525718239197272, {}, function() {\n",
       "\tviewer_1525718239197272.setStyle({\"chain\": \"N\"},{\"cartoon\": {\"color\": \"orange\"}});\n",
       "\tviewer_1525718239197272.setStyle({\"chain\": \"H\"},{\"sphere\": {\"color\": \"blue\"}});\n",
       "\tviewer_1525718239197272.setStyle({\"chain\": \"L\"},{\"sphere\": {\"color\": \"lightblue\"}});\n",
       "\tviewer_1525718239197272.addLabel(\"Neuroaminidase\",{\"fontColor\": \"orange\", \"backgroundColor\": \"lightgray\"},{\"chain\": \"N\"});\n",
       "\tviewer_1525718239197272.addLabel(\"Neuroaminidase\",{\"fontColor\": \"orange\", \"backgroundColor\": \"lightgray\"},{\"chain\": \"N\"});\n",
       "\tviewer_1525718239197272.addLabel(\"Heavy chain\",{\"fontColor\": \"blue\", \"backgroundColor\": \"lightgray\"},{\"chain\": \"H\"});\n",
       "\tviewer_1525718239197272.addLabel(\"Light chain\",{\"fontColor\": \"lightblue\", \"backgroundColor\": \"lightgray\"},{\"chain\": \"L\"});\n",
       "\tviewer_1525718239197272.addLabel(\"Neuroaminidase\",{\"fontColor\": \"orange\", \"backgroundColor\": \"lightgray\"},{\"chain\": \"N\"});\n",
       "\tviewer_1525718239197272.addLabel(\"Heavy chain\",{\"chain\": \"H\"});\n",
       "\tviewer_1525718239197272.addLabel(\"Light chain\",{\"fontColor\": \"lightblue\", \"backgroundColor\": \"black\"},{\"chain\": \"L\"});\n",
       "\tviewer_1525718239197272.addLabel(\"Neuroaminidase\",{\"fontColor\": \"orange\", \"backgroundColor\": \"lightgray\"},{\"chain\": \"N\"});\n",
       "\tviewer_1525718239197272.addLabel(\"Heavy chain\",{\"chain\": \"H\"});\n",
       "\tviewer_1525718239197272.addLabel(\"Light chain\",{\"fontColor\": \"lightblue\", \"backgroundColor\": \"black\"},{\"chain\": \"L\"});\n",
       "\tviewer_1525718239197272.addLabel(\"Neuroaminidase\",{\"fontColor\": \"orange\", \"backgroundColor\": \"lightgray\"},{\"chain\": \"N\"});\n",
       "\tviewer_1525718239197272.addLabel(\"Heavy chain\",{\"chain\": \"H\"});\n",
       "\tviewer_1525718239197272.addLabel(\"Light chain\",{\"chain\": \"L\"});\n",
       "\tviewer_1525718239197272.addLabel(\"Neuroaminidase\",{\"chain\": \"N\"});\n",
       "\tviewer_1525718239197272.addLabel(\"Heavy chain\",{\"chain\": \"H\"});\n",
       "\tviewer_1525718239197272.addLabel(\"Light chain\",{\"chain\": \"L\"});\n",
       "\tviewer_1525718239197272.addLabel(\"Neuroaminidase\",{\"chain\": \"N\"});\n",
       "\tviewer_1525718239197272.addLabel(\"Heavy chain\",{\"chain\": \"H\"});\n",
       "\tviewer_1525718239197272.addLabel(\"Light chain\",{\"chain\": \"L\"});\n",
       "\tviewer_1525718239197272.setStyle({\"resn\": \"MAN\"},{\"stick\": {\"colorscheme\": \"redCarbon\", \"radius\": 0.2}});\n",
       "\tviewer_1525718239197272.setStyle({\"resn\": \"MAN\"},{\"stick\": {\"colorscheme\": \"redCarbon\", \"radius\": 0.2}});\n",
       "\tviewer_1525718239197272.setStyle({\"resn\": \"MAN\"},{\"stick\": {\"colorscheme\": \"greenCarbon\"}});\n",
       "\tviewer_1525718239197272.setStyle({\"resn\": [\"MAN\", \"BMA\", \"NAG\"]},{\"stick\": {\"colorscheme\": \"greenCarbon\"}});\n",
       "viewer_1525718239197272.render();\n",
       "})\n",
       "});\n",
       "</script>"
      ]
     },
     "metadata": {},
     "output_type": "display_data"
    }
   ],
   "source": [
    "view.setStyle({'resn': ['MAN', 'BMA', 'NAG']},{'stick': {'colorscheme': 'greenCarbon'}})\n",
    "view.show()"
   ]
  },
  {
   "cell_type": "code",
   "execution_count": null,
   "metadata": {
    "collapsed": true
   },
   "outputs": [],
   "source": []
  }
 ],
 "metadata": {
  "kernelspec": {
   "display_name": "Python 3",
   "language": "python",
   "name": "python3"
  },
  "language_info": {
   "codemirror_mode": {
    "name": "ipython",
    "version": 3
   },
   "file_extension": ".py",
   "mimetype": "text/x-python",
   "name": "python",
   "nbconvert_exporter": "python",
   "pygments_lexer": "ipython3",
   "version": "3.6.4"
  }
 },
 "nbformat": 4,
 "nbformat_minor": 2
}
