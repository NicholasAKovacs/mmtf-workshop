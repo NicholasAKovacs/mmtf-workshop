{
 "cells": [
  {
   "cell_type": "markdown",
   "metadata": {},
   "source": [
    "# Selecting chains, residues, and atoms\n",
    "This tutorial shows how to select parts of a structure and apply different styles. It also shows how to add labels and how to zoom in on a selection."
   ]
  },
  {
   "cell_type": "code",
   "execution_count": 1,
   "metadata": {
    "collapsed": true
   },
   "outputs": [],
   "source": [
    "import py3Dmol"
   ]
  },
  {
   "cell_type": "markdown",
   "metadata": {},
   "source": [
    "## Instantiate viewer with a Hemoglobin structure\n",
    "This example also shows how to set the size of the viewer."
   ]
  },
  {
   "cell_type": "code",
   "execution_count": 2,
   "metadata": {},
   "outputs": [
    {
     "data": {
      "application/3dmoljs_load.v0": "<div id=\"3dmolviewer_15257167954271278\"  style=\"position: relative; width: 400px; height: 400px\">\n        <p id=\"3dmolwarning_15257167954271278\" style=\"background-color:#ffcccc;color:black\">You appear to be running in JupyterLab.  You need to install the 3dmol extension: <br>\n        <tt>jupyter labextension install jupyterlab_3dmol</tt></p>\n        </div>\n<script>\n\nvar loadScriptAsync = function(uri){\n  return new Promise((resolve, reject) => {\n    var tag = document.createElement('script');\n    tag.src = uri;\n    tag.async = true;\n    tag.onload = () => {\n      resolve();\n    };\n  var firstScriptTag = document.getElementsByTagName('script')[0];\n  firstScriptTag.parentNode.insertBefore(tag, firstScriptTag);\n});\n};\n\nif(typeof $3Dmolpromise === 'undefined') {\n$3Dmolpromise = null;\n  $3Dmolpromise = loadScriptAsync('https://3dmol.csb.pitt.edu/build/3Dmol.js');\n}\n\nvar viewer_15257167954271278 = null;\nvar warn = document.getElementById(\"3dmolwarning_15257167954271278\");\nif(warn) {\n    warn.parentNode.removeChild(warn);\n}\n$3Dmolpromise.then(function() {\nviewer_15257167954271278 = $3Dmol.createViewer($(\"#3dmolviewer_15257167954271278\"),{backgroundColor:\"white\"});\n$3Dmol.download(\"pdb:5WOG\", viewer_15257167954271278, {}, function() {\nviewer_15257167954271278.render();\n})\n});\n</script>",
      "text/html": [
       "<div id=\"3dmolviewer_15257167954271278\"  style=\"position: relative; width: 400px; height: 400px\">\n",
       "        <p id=\"3dmolwarning_15257167954271278\" style=\"background-color:#ffcccc;color:black\">You appear to be running in JupyterLab.  You need to install the 3dmol extension: <br>\n",
       "        <tt>jupyter labextension install jupyterlab_3dmol</tt></p>\n",
       "        </div>\n",
       "<script>\n",
       "\n",
       "var loadScriptAsync = function(uri){\n",
       "  return new Promise((resolve, reject) => {\n",
       "    var tag = document.createElement('script');\n",
       "    tag.src = uri;\n",
       "    tag.async = true;\n",
       "    tag.onload = () => {\n",
       "      resolve();\n",
       "    };\n",
       "  var firstScriptTag = document.getElementsByTagName('script')[0];\n",
       "  firstScriptTag.parentNode.insertBefore(tag, firstScriptTag);\n",
       "});\n",
       "};\n",
       "\n",
       "if(typeof $3Dmolpromise === 'undefined') {\n",
       "$3Dmolpromise = null;\n",
       "  $3Dmolpromise = loadScriptAsync('https://3dmol.csb.pitt.edu/build/3Dmol.js');\n",
       "}\n",
       "\n",
       "var viewer_15257167954271278 = null;\n",
       "var warn = document.getElementById(\"3dmolwarning_15257167954271278\");\n",
       "if(warn) {\n",
       "    warn.parentNode.removeChild(warn);\n",
       "}\n",
       "$3Dmolpromise.then(function() {\n",
       "viewer_15257167954271278 = $3Dmol.createViewer($(\"#3dmolviewer_15257167954271278\"),{backgroundColor:\"white\"});\n",
       "$3Dmol.download(\"pdb:5WOG\", viewer_15257167954271278, {}, function() {\n",
       "viewer_15257167954271278.render();\n",
       "})\n",
       "});\n",
       "</script>"
      ]
     },
     "metadata": {},
     "output_type": "display_data"
    }
   ],
   "source": [
    "viewer = py3Dmol.view(query='pdb:5WOG', width=400, height=400)\n",
    "viewer.show()"
   ]
  },
  {
   "cell_type": "markdown",
   "metadata": {
    "collapsed": true
   },
   "source": [
    "## Apply a style to a chain\n",
    "Here we select chain A and apply a cartoon style."
   ]
  },
  {
   "cell_type": "code",
   "execution_count": 3,
   "metadata": {},
   "outputs": [
    {
     "data": {
      "application/3dmoljs_load.v0": "<div id=\"3dmolviewer_15257167993371046\"  style=\"position: relative; width: 400px; height: 400px\">\n        <p id=\"3dmolwarning_15257167993371046\" style=\"background-color:#ffcccc;color:black\">You appear to be running in JupyterLab.  You need to install the 3dmol extension: <br>\n        <tt>jupyter labextension install jupyterlab_3dmol</tt></p>\n        </div>\n<script>\n\nvar loadScriptAsync = function(uri){\n  return new Promise((resolve, reject) => {\n    var tag = document.createElement('script');\n    tag.src = uri;\n    tag.async = true;\n    tag.onload = () => {\n      resolve();\n    };\n  var firstScriptTag = document.getElementsByTagName('script')[0];\n  firstScriptTag.parentNode.insertBefore(tag, firstScriptTag);\n});\n};\n\nif(typeof $3Dmolpromise === 'undefined') {\n$3Dmolpromise = null;\n  $3Dmolpromise = loadScriptAsync('https://3dmol.csb.pitt.edu/build/3Dmol.js');\n}\n\nvar viewer_15257167993371046 = null;\nvar warn = document.getElementById(\"3dmolwarning_15257167993371046\");\nif(warn) {\n    warn.parentNode.removeChild(warn);\n}\n$3Dmolpromise.then(function() {\nviewer_15257167993371046 = $3Dmol.createViewer($(\"#3dmolviewer_15257167993371046\"),{backgroundColor:\"white\"});\n$3Dmol.download(\"pdb:5WOG\", viewer_15257167993371046, {}, function() {\n\tviewer_15257167993371046.setStyle({\"chain\": \"A\"},{\"cartoon\": {\"color\": \"orange\"}});\nviewer_15257167993371046.render();\n})\n});\n</script>",
      "text/html": [
       "<div id=\"3dmolviewer_15257167993371046\"  style=\"position: relative; width: 400px; height: 400px\">\n",
       "        <p id=\"3dmolwarning_15257167993371046\" style=\"background-color:#ffcccc;color:black\">You appear to be running in JupyterLab.  You need to install the 3dmol extension: <br>\n",
       "        <tt>jupyter labextension install jupyterlab_3dmol</tt></p>\n",
       "        </div>\n",
       "<script>\n",
       "\n",
       "var loadScriptAsync = function(uri){\n",
       "  return new Promise((resolve, reject) => {\n",
       "    var tag = document.createElement('script');\n",
       "    tag.src = uri;\n",
       "    tag.async = true;\n",
       "    tag.onload = () => {\n",
       "      resolve();\n",
       "    };\n",
       "  var firstScriptTag = document.getElementsByTagName('script')[0];\n",
       "  firstScriptTag.parentNode.insertBefore(tag, firstScriptTag);\n",
       "});\n",
       "};\n",
       "\n",
       "if(typeof $3Dmolpromise === 'undefined') {\n",
       "$3Dmolpromise = null;\n",
       "  $3Dmolpromise = loadScriptAsync('https://3dmol.csb.pitt.edu/build/3Dmol.js');\n",
       "}\n",
       "\n",
       "var viewer_15257167993371046 = null;\n",
       "var warn = document.getElementById(\"3dmolwarning_15257167993371046\");\n",
       "if(warn) {\n",
       "    warn.parentNode.removeChild(warn);\n",
       "}\n",
       "$3Dmolpromise.then(function() {\n",
       "viewer_15257167993371046 = $3Dmol.createViewer($(\"#3dmolviewer_15257167993371046\"),{backgroundColor:\"white\"});\n",
       "$3Dmol.download(\"pdb:5WOG\", viewer_15257167993371046, {}, function() {\n",
       "\tviewer_15257167993371046.setStyle({\"chain\": \"A\"},{\"cartoon\": {\"color\": \"orange\"}});\n",
       "viewer_15257167993371046.render();\n",
       "})\n",
       "});\n",
       "</script>"
      ]
     },
     "metadata": {},
     "output_type": "display_data"
    }
   ],
   "source": [
    "viewer.setStyle({'chain':'A'},{'cartoon': {'color': 'orange'}})\n",
    "viewer.show()"
   ]
  },
  {
   "cell_type": "markdown",
   "metadata": {},
   "source": [
    "## Apply a style to a list of  chains and add labels\n",
    "Use a list to select to multiple chains."
   ]
  },
  {
   "cell_type": "code",
   "execution_count": 4,
   "metadata": {},
   "outputs": [
    {
     "data": {
      "application/3dmoljs_load.v0": "<div id=\"3dmolviewer_15257168488393204\"  style=\"position: relative; width: 400px; height: 400px\">\n        <p id=\"3dmolwarning_15257168488393204\" style=\"background-color:#ffcccc;color:black\">You appear to be running in JupyterLab.  You need to install the 3dmol extension: <br>\n        <tt>jupyter labextension install jupyterlab_3dmol</tt></p>\n        </div>\n<script>\n\nvar loadScriptAsync = function(uri){\n  return new Promise((resolve, reject) => {\n    var tag = document.createElement('script');\n    tag.src = uri;\n    tag.async = true;\n    tag.onload = () => {\n      resolve();\n    };\n  var firstScriptTag = document.getElementsByTagName('script')[0];\n  firstScriptTag.parentNode.insertBefore(tag, firstScriptTag);\n});\n};\n\nif(typeof $3Dmolpromise === 'undefined') {\n$3Dmolpromise = null;\n  $3Dmolpromise = loadScriptAsync('https://3dmol.csb.pitt.edu/build/3Dmol.js');\n}\n\nvar viewer_15257168488393204 = null;\nvar warn = document.getElementById(\"3dmolwarning_15257168488393204\");\nif(warn) {\n    warn.parentNode.removeChild(warn);\n}\n$3Dmolpromise.then(function() {\nviewer_15257168488393204 = $3Dmol.createViewer($(\"#3dmolviewer_15257168488393204\"),{backgroundColor:\"white\"});\n$3Dmol.download(\"pdb:5WOG\", viewer_15257168488393204, {}, function() {\n\tviewer_15257168488393204.setStyle({\"chain\": \"A\"},{\"cartoon\": {\"color\": \"orange\"}});\n\tviewer_15257168488393204.setStyle({\"chain\": [\"A\", \"B\"]},{\"cartoon\": {\"color\": \"orange\"}});\n\tviewer_15257168488393204.addLabel(\"alpha subunits\",{\"fontColor\": \"orange\", \"backgroundColor\": \"lightgray\"},{\"chain\": [\"A\", \"B\"]});\n\tviewer_15257168488393204.setStyle({\"chain\": [\"C\", \"D\"]},{\"cartoon\": {\"color\": \"blue\"}});\n\tviewer_15257168488393204.addLabel(\"beta subunits\",{\"fontColor\": \"blue\", \"backgroundColor\": \"lightgray\"},{\"chain\": [\"C\", \"D\"]});\nviewer_15257168488393204.render();\n})\n});\n</script>",
      "text/html": [
       "<div id=\"3dmolviewer_15257168488393204\"  style=\"position: relative; width: 400px; height: 400px\">\n",
       "        <p id=\"3dmolwarning_15257168488393204\" style=\"background-color:#ffcccc;color:black\">You appear to be running in JupyterLab.  You need to install the 3dmol extension: <br>\n",
       "        <tt>jupyter labextension install jupyterlab_3dmol</tt></p>\n",
       "        </div>\n",
       "<script>\n",
       "\n",
       "var loadScriptAsync = function(uri){\n",
       "  return new Promise((resolve, reject) => {\n",
       "    var tag = document.createElement('script');\n",
       "    tag.src = uri;\n",
       "    tag.async = true;\n",
       "    tag.onload = () => {\n",
       "      resolve();\n",
       "    };\n",
       "  var firstScriptTag = document.getElementsByTagName('script')[0];\n",
       "  firstScriptTag.parentNode.insertBefore(tag, firstScriptTag);\n",
       "});\n",
       "};\n",
       "\n",
       "if(typeof $3Dmolpromise === 'undefined') {\n",
       "$3Dmolpromise = null;\n",
       "  $3Dmolpromise = loadScriptAsync('https://3dmol.csb.pitt.edu/build/3Dmol.js');\n",
       "}\n",
       "\n",
       "var viewer_15257168488393204 = null;\n",
       "var warn = document.getElementById(\"3dmolwarning_15257168488393204\");\n",
       "if(warn) {\n",
       "    warn.parentNode.removeChild(warn);\n",
       "}\n",
       "$3Dmolpromise.then(function() {\n",
       "viewer_15257168488393204 = $3Dmol.createViewer($(\"#3dmolviewer_15257168488393204\"),{backgroundColor:\"white\"});\n",
       "$3Dmol.download(\"pdb:5WOG\", viewer_15257168488393204, {}, function() {\n",
       "\tviewer_15257168488393204.setStyle({\"chain\": \"A\"},{\"cartoon\": {\"color\": \"orange\"}});\n",
       "\tviewer_15257168488393204.setStyle({\"chain\": [\"A\", \"B\"]},{\"cartoon\": {\"color\": \"orange\"}});\n",
       "\tviewer_15257168488393204.addLabel(\"alpha subunits\",{\"fontColor\": \"orange\", \"backgroundColor\": \"lightgray\"},{\"chain\": [\"A\", \"B\"]});\n",
       "\tviewer_15257168488393204.setStyle({\"chain\": [\"C\", \"D\"]},{\"cartoon\": {\"color\": \"blue\"}});\n",
       "\tviewer_15257168488393204.addLabel(\"beta subunits\",{\"fontColor\": \"blue\", \"backgroundColor\": \"lightgray\"},{\"chain\": [\"C\", \"D\"]});\n",
       "viewer_15257168488393204.render();\n",
       "})\n",
       "});\n",
       "</script>"
      ]
     },
     "metadata": {},
     "output_type": "display_data"
    }
   ],
   "source": [
    "viewer.setStyle({'chain':['A','B']},{'cartoon': {'color': 'orange'}}) # alpha subunits of hemoglobin\n",
    "\n",
    "viewer.addLabel('alpha subunits', {'fontColor':'orange', 'backgroundColor':'lightgray'},\n",
    "                {'chain': ['A','B']})\n",
    "\n",
    "viewer.setStyle({'chain':['C','D']},{'cartoon': {'color': 'blue'}}) # beta subunits of hemoglobin\n",
    "\n",
    "viewer.addLabel('beta subunits', {'fontColor':'blue', 'backgroundColor':'lightgray'},\n",
    "                {'chain': ['C','D']})\n",
    "viewer.show()"
   ]
  },
  {
   "cell_type": "markdown",
   "metadata": {},
   "source": [
    "# Apply style to specific residues by residue name (resn)\n",
    "Here we display all water molecules as spheres."
   ]
  },
  {
   "cell_type": "code",
   "execution_count": 5,
   "metadata": {},
   "outputs": [
    {
     "data": {
      "application/3dmoljs_load.v0": "<div id=\"3dmolviewer_15257170644624074\"  style=\"position: relative; width: 400px; height: 400px\">\n        <p id=\"3dmolwarning_15257170644624074\" style=\"background-color:#ffcccc;color:black\">You appear to be running in JupyterLab.  You need to install the 3dmol extension: <br>\n        <tt>jupyter labextension install jupyterlab_3dmol</tt></p>\n        </div>\n<script>\n\nvar loadScriptAsync = function(uri){\n  return new Promise((resolve, reject) => {\n    var tag = document.createElement('script');\n    tag.src = uri;\n    tag.async = true;\n    tag.onload = () => {\n      resolve();\n    };\n  var firstScriptTag = document.getElementsByTagName('script')[0];\n  firstScriptTag.parentNode.insertBefore(tag, firstScriptTag);\n});\n};\n\nif(typeof $3Dmolpromise === 'undefined') {\n$3Dmolpromise = null;\n  $3Dmolpromise = loadScriptAsync('https://3dmol.csb.pitt.edu/build/3Dmol.js');\n}\n\nvar viewer_15257170644624074 = null;\nvar warn = document.getElementById(\"3dmolwarning_15257170644624074\");\nif(warn) {\n    warn.parentNode.removeChild(warn);\n}\n$3Dmolpromise.then(function() {\nviewer_15257170644624074 = $3Dmol.createViewer($(\"#3dmolviewer_15257170644624074\"),{backgroundColor:\"white\"});\n$3Dmol.download(\"pdb:5WOG\", viewer_15257170644624074, {}, function() {\n\tviewer_15257170644624074.setStyle({\"chain\": \"A\"},{\"cartoon\": {\"color\": \"orange\"}});\n\tviewer_15257170644624074.setStyle({\"chain\": [\"A\", \"B\"]},{\"cartoon\": {\"color\": \"orange\"}});\n\tviewer_15257170644624074.addLabel(\"alpha subunits\",{\"fontColor\": \"orange\", \"backgroundColor\": \"lightgray\"},{\"chain\": [\"A\", \"B\"]});\n\tviewer_15257170644624074.setStyle({\"chain\": [\"C\", \"D\"]},{\"cartoon\": {\"color\": \"blue\"}});\n\tviewer_15257170644624074.addLabel(\"beta subunits\",{\"fontColor\": \"blue\", \"backgroundColor\": \"lightgray\"},{\"chain\": [\"C\", \"D\"]});\n\tviewer_15257170644624074.setStyle({\"resn\": \"HOH\"},{\"sphere\": {\"radius\": 0.5}});\nviewer_15257170644624074.render();\n})\n});\n</script>",
      "text/html": [
       "<div id=\"3dmolviewer_15257170644624074\"  style=\"position: relative; width: 400px; height: 400px\">\n",
       "        <p id=\"3dmolwarning_15257170644624074\" style=\"background-color:#ffcccc;color:black\">You appear to be running in JupyterLab.  You need to install the 3dmol extension: <br>\n",
       "        <tt>jupyter labextension install jupyterlab_3dmol</tt></p>\n",
       "        </div>\n",
       "<script>\n",
       "\n",
       "var loadScriptAsync = function(uri){\n",
       "  return new Promise((resolve, reject) => {\n",
       "    var tag = document.createElement('script');\n",
       "    tag.src = uri;\n",
       "    tag.async = true;\n",
       "    tag.onload = () => {\n",
       "      resolve();\n",
       "    };\n",
       "  var firstScriptTag = document.getElementsByTagName('script')[0];\n",
       "  firstScriptTag.parentNode.insertBefore(tag, firstScriptTag);\n",
       "});\n",
       "};\n",
       "\n",
       "if(typeof $3Dmolpromise === 'undefined') {\n",
       "$3Dmolpromise = null;\n",
       "  $3Dmolpromise = loadScriptAsync('https://3dmol.csb.pitt.edu/build/3Dmol.js');\n",
       "}\n",
       "\n",
       "var viewer_15257170644624074 = null;\n",
       "var warn = document.getElementById(\"3dmolwarning_15257170644624074\");\n",
       "if(warn) {\n",
       "    warn.parentNode.removeChild(warn);\n",
       "}\n",
       "$3Dmolpromise.then(function() {\n",
       "viewer_15257170644624074 = $3Dmol.createViewer($(\"#3dmolviewer_15257170644624074\"),{backgroundColor:\"white\"});\n",
       "$3Dmol.download(\"pdb:5WOG\", viewer_15257170644624074, {}, function() {\n",
       "\tviewer_15257170644624074.setStyle({\"chain\": \"A\"},{\"cartoon\": {\"color\": \"orange\"}});\n",
       "\tviewer_15257170644624074.setStyle({\"chain\": [\"A\", \"B\"]},{\"cartoon\": {\"color\": \"orange\"}});\n",
       "\tviewer_15257170644624074.addLabel(\"alpha subunits\",{\"fontColor\": \"orange\", \"backgroundColor\": \"lightgray\"},{\"chain\": [\"A\", \"B\"]});\n",
       "\tviewer_15257170644624074.setStyle({\"chain\": [\"C\", \"D\"]},{\"cartoon\": {\"color\": \"blue\"}});\n",
       "\tviewer_15257170644624074.addLabel(\"beta subunits\",{\"fontColor\": \"blue\", \"backgroundColor\": \"lightgray\"},{\"chain\": [\"C\", \"D\"]});\n",
       "\tviewer_15257170644624074.setStyle({\"resn\": \"HOH\"},{\"sphere\": {\"radius\": 0.5}});\n",
       "viewer_15257170644624074.render();\n",
       "})\n",
       "});\n",
       "</script>"
      ]
     },
     "metadata": {},
     "output_type": "display_data"
    }
   ],
   "source": [
    "viewer.setStyle({'resn': 'HOH'}, {'sphere':{'radius':0.5}})\n",
    "viewer.show()"
   ]
  },
  {
   "cell_type": "markdown",
   "metadata": {},
   "source": [
    "And turn waters off again by resetting their style."
   ]
  },
  {
   "cell_type": "code",
   "execution_count": 6,
   "metadata": {},
   "outputs": [
    {
     "data": {
      "application/3dmoljs_load.v0": "<div id=\"3dmolviewer_1525717066230148\"  style=\"position: relative; width: 400px; height: 400px\">\n        <p id=\"3dmolwarning_1525717066230148\" style=\"background-color:#ffcccc;color:black\">You appear to be running in JupyterLab.  You need to install the 3dmol extension: <br>\n        <tt>jupyter labextension install jupyterlab_3dmol</tt></p>\n        </div>\n<script>\n\nvar loadScriptAsync = function(uri){\n  return new Promise((resolve, reject) => {\n    var tag = document.createElement('script');\n    tag.src = uri;\n    tag.async = true;\n    tag.onload = () => {\n      resolve();\n    };\n  var firstScriptTag = document.getElementsByTagName('script')[0];\n  firstScriptTag.parentNode.insertBefore(tag, firstScriptTag);\n});\n};\n\nif(typeof $3Dmolpromise === 'undefined') {\n$3Dmolpromise = null;\n  $3Dmolpromise = loadScriptAsync('https://3dmol.csb.pitt.edu/build/3Dmol.js');\n}\n\nvar viewer_1525717066230148 = null;\nvar warn = document.getElementById(\"3dmolwarning_1525717066230148\");\nif(warn) {\n    warn.parentNode.removeChild(warn);\n}\n$3Dmolpromise.then(function() {\nviewer_1525717066230148 = $3Dmol.createViewer($(\"#3dmolviewer_1525717066230148\"),{backgroundColor:\"white\"});\n$3Dmol.download(\"pdb:5WOG\", viewer_1525717066230148, {}, function() {\n\tviewer_1525717066230148.setStyle({\"chain\": \"A\"},{\"cartoon\": {\"color\": \"orange\"}});\n\tviewer_1525717066230148.setStyle({\"chain\": [\"A\", \"B\"]},{\"cartoon\": {\"color\": \"orange\"}});\n\tviewer_1525717066230148.addLabel(\"alpha subunits\",{\"fontColor\": \"orange\", \"backgroundColor\": \"lightgray\"},{\"chain\": [\"A\", \"B\"]});\n\tviewer_1525717066230148.setStyle({\"chain\": [\"C\", \"D\"]},{\"cartoon\": {\"color\": \"blue\"}});\n\tviewer_1525717066230148.addLabel(\"beta subunits\",{\"fontColor\": \"blue\", \"backgroundColor\": \"lightgray\"},{\"chain\": [\"C\", \"D\"]});\n\tviewer_1525717066230148.setStyle({\"resn\": \"HOH\"},{\"sphere\": {\"radius\": 0.5}});\n\tviewer_1525717066230148.setStyle({\"resn\": \"HOH\"},{});\nviewer_1525717066230148.render();\n})\n});\n</script>",
      "text/html": [
       "<div id=\"3dmolviewer_1525717066230148\"  style=\"position: relative; width: 400px; height: 400px\">\n",
       "        <p id=\"3dmolwarning_1525717066230148\" style=\"background-color:#ffcccc;color:black\">You appear to be running in JupyterLab.  You need to install the 3dmol extension: <br>\n",
       "        <tt>jupyter labextension install jupyterlab_3dmol</tt></p>\n",
       "        </div>\n",
       "<script>\n",
       "\n",
       "var loadScriptAsync = function(uri){\n",
       "  return new Promise((resolve, reject) => {\n",
       "    var tag = document.createElement('script');\n",
       "    tag.src = uri;\n",
       "    tag.async = true;\n",
       "    tag.onload = () => {\n",
       "      resolve();\n",
       "    };\n",
       "  var firstScriptTag = document.getElementsByTagName('script')[0];\n",
       "  firstScriptTag.parentNode.insertBefore(tag, firstScriptTag);\n",
       "});\n",
       "};\n",
       "\n",
       "if(typeof $3Dmolpromise === 'undefined') {\n",
       "$3Dmolpromise = null;\n",
       "  $3Dmolpromise = loadScriptAsync('https://3dmol.csb.pitt.edu/build/3Dmol.js');\n",
       "}\n",
       "\n",
       "var viewer_1525717066230148 = null;\n",
       "var warn = document.getElementById(\"3dmolwarning_1525717066230148\");\n",
       "if(warn) {\n",
       "    warn.parentNode.removeChild(warn);\n",
       "}\n",
       "$3Dmolpromise.then(function() {\n",
       "viewer_1525717066230148 = $3Dmol.createViewer($(\"#3dmolviewer_1525717066230148\"),{backgroundColor:\"white\"});\n",
       "$3Dmol.download(\"pdb:5WOG\", viewer_1525717066230148, {}, function() {\n",
       "\tviewer_1525717066230148.setStyle({\"chain\": \"A\"},{\"cartoon\": {\"color\": \"orange\"}});\n",
       "\tviewer_1525717066230148.setStyle({\"chain\": [\"A\", \"B\"]},{\"cartoon\": {\"color\": \"orange\"}});\n",
       "\tviewer_1525717066230148.addLabel(\"alpha subunits\",{\"fontColor\": \"orange\", \"backgroundColor\": \"lightgray\"},{\"chain\": [\"A\", \"B\"]});\n",
       "\tviewer_1525717066230148.setStyle({\"chain\": [\"C\", \"D\"]},{\"cartoon\": {\"color\": \"blue\"}});\n",
       "\tviewer_1525717066230148.addLabel(\"beta subunits\",{\"fontColor\": \"blue\", \"backgroundColor\": \"lightgray\"},{\"chain\": [\"C\", \"D\"]});\n",
       "\tviewer_1525717066230148.setStyle({\"resn\": \"HOH\"},{\"sphere\": {\"radius\": 0.5}});\n",
       "\tviewer_1525717066230148.setStyle({\"resn\": \"HOH\"},{});\n",
       "viewer_1525717066230148.render();\n",
       "})\n",
       "});\n",
       "</script>"
      ]
     },
     "metadata": {},
     "output_type": "display_data"
    }
   ],
   "source": [
    "viewer.setStyle({'resn': 'HOH'}, {})\n",
    "viewer.show()"
   ]
  },
  {
   "cell_type": "markdown",
   "metadata": {},
   "source": [
    "## Apply a style by residue name (resn)\n",
    "Show heme as spheres."
   ]
  },
  {
   "cell_type": "code",
   "execution_count": 7,
   "metadata": {},
   "outputs": [
    {
     "data": {
      "application/3dmoljs_load.v0": "<div id=\"3dmolviewer_15257170688366385\"  style=\"position: relative; width: 400px; height: 400px\">\n        <p id=\"3dmolwarning_15257170688366385\" style=\"background-color:#ffcccc;color:black\">You appear to be running in JupyterLab.  You need to install the 3dmol extension: <br>\n        <tt>jupyter labextension install jupyterlab_3dmol</tt></p>\n        </div>\n<script>\n\nvar loadScriptAsync = function(uri){\n  return new Promise((resolve, reject) => {\n    var tag = document.createElement('script');\n    tag.src = uri;\n    tag.async = true;\n    tag.onload = () => {\n      resolve();\n    };\n  var firstScriptTag = document.getElementsByTagName('script')[0];\n  firstScriptTag.parentNode.insertBefore(tag, firstScriptTag);\n});\n};\n\nif(typeof $3Dmolpromise === 'undefined') {\n$3Dmolpromise = null;\n  $3Dmolpromise = loadScriptAsync('https://3dmol.csb.pitt.edu/build/3Dmol.js');\n}\n\nvar viewer_15257170688366385 = null;\nvar warn = document.getElementById(\"3dmolwarning_15257170688366385\");\nif(warn) {\n    warn.parentNode.removeChild(warn);\n}\n$3Dmolpromise.then(function() {\nviewer_15257170688366385 = $3Dmol.createViewer($(\"#3dmolviewer_15257170688366385\"),{backgroundColor:\"white\"});\n$3Dmol.download(\"pdb:5WOG\", viewer_15257170688366385, {}, function() {\n\tviewer_15257170688366385.setStyle({\"chain\": \"A\"},{\"cartoon\": {\"color\": \"orange\"}});\n\tviewer_15257170688366385.setStyle({\"chain\": [\"A\", \"B\"]},{\"cartoon\": {\"color\": \"orange\"}});\n\tviewer_15257170688366385.addLabel(\"alpha subunits\",{\"fontColor\": \"orange\", \"backgroundColor\": \"lightgray\"},{\"chain\": [\"A\", \"B\"]});\n\tviewer_15257170688366385.setStyle({\"chain\": [\"C\", \"D\"]},{\"cartoon\": {\"color\": \"blue\"}});\n\tviewer_15257170688366385.addLabel(\"beta subunits\",{\"fontColor\": \"blue\", \"backgroundColor\": \"lightgray\"},{\"chain\": [\"C\", \"D\"]});\n\tviewer_15257170688366385.setStyle({\"resn\": \"HOH\"},{\"sphere\": {\"radius\": 0.5}});\n\tviewer_15257170688366385.setStyle({\"resn\": \"HOH\"},{});\n\tviewer_15257170688366385.setStyle({\"resn\": \"HEM\"},{\"sphere\": {\"colorscheme\": \"greenCarbon\"}});\nviewer_15257170688366385.render();\n})\n});\n</script>",
      "text/html": [
       "<div id=\"3dmolviewer_15257170688366385\"  style=\"position: relative; width: 400px; height: 400px\">\n",
       "        <p id=\"3dmolwarning_15257170688366385\" style=\"background-color:#ffcccc;color:black\">You appear to be running in JupyterLab.  You need to install the 3dmol extension: <br>\n",
       "        <tt>jupyter labextension install jupyterlab_3dmol</tt></p>\n",
       "        </div>\n",
       "<script>\n",
       "\n",
       "var loadScriptAsync = function(uri){\n",
       "  return new Promise((resolve, reject) => {\n",
       "    var tag = document.createElement('script');\n",
       "    tag.src = uri;\n",
       "    tag.async = true;\n",
       "    tag.onload = () => {\n",
       "      resolve();\n",
       "    };\n",
       "  var firstScriptTag = document.getElementsByTagName('script')[0];\n",
       "  firstScriptTag.parentNode.insertBefore(tag, firstScriptTag);\n",
       "});\n",
       "};\n",
       "\n",
       "if(typeof $3Dmolpromise === 'undefined') {\n",
       "$3Dmolpromise = null;\n",
       "  $3Dmolpromise = loadScriptAsync('https://3dmol.csb.pitt.edu/build/3Dmol.js');\n",
       "}\n",
       "\n",
       "var viewer_15257170688366385 = null;\n",
       "var warn = document.getElementById(\"3dmolwarning_15257170688366385\");\n",
       "if(warn) {\n",
       "    warn.parentNode.removeChild(warn);\n",
       "}\n",
       "$3Dmolpromise.then(function() {\n",
       "viewer_15257170688366385 = $3Dmol.createViewer($(\"#3dmolviewer_15257170688366385\"),{backgroundColor:\"white\"});\n",
       "$3Dmol.download(\"pdb:5WOG\", viewer_15257170688366385, {}, function() {\n",
       "\tviewer_15257170688366385.setStyle({\"chain\": \"A\"},{\"cartoon\": {\"color\": \"orange\"}});\n",
       "\tviewer_15257170688366385.setStyle({\"chain\": [\"A\", \"B\"]},{\"cartoon\": {\"color\": \"orange\"}});\n",
       "\tviewer_15257170688366385.addLabel(\"alpha subunits\",{\"fontColor\": \"orange\", \"backgroundColor\": \"lightgray\"},{\"chain\": [\"A\", \"B\"]});\n",
       "\tviewer_15257170688366385.setStyle({\"chain\": [\"C\", \"D\"]},{\"cartoon\": {\"color\": \"blue\"}});\n",
       "\tviewer_15257170688366385.addLabel(\"beta subunits\",{\"fontColor\": \"blue\", \"backgroundColor\": \"lightgray\"},{\"chain\": [\"C\", \"D\"]});\n",
       "\tviewer_15257170688366385.setStyle({\"resn\": \"HOH\"},{\"sphere\": {\"radius\": 0.5}});\n",
       "\tviewer_15257170688366385.setStyle({\"resn\": \"HOH\"},{});\n",
       "\tviewer_15257170688366385.setStyle({\"resn\": \"HEM\"},{\"sphere\": {\"colorscheme\": \"greenCarbon\"}});\n",
       "viewer_15257170688366385.render();\n",
       "})\n",
       "});\n",
       "</script>"
      ]
     },
     "metadata": {},
     "output_type": "display_data"
    }
   ],
   "source": [
    "viewer.setStyle({'resn': 'HEM'},{'sphere': {'colorscheme': 'greenCarbon'}})\n",
    "viewer.show()"
   ]
  },
  {
   "cell_type": "markdown",
   "metadata": {},
   "source": [
    "## Apply a style to a specific residue by residue name (resn) on a specific chain\n",
    "Here we select the heme molecule in chain A and color its carbons red. We also adjust the stick radius. Finally, we zoom into a specific heme residue in chain A."
   ]
  },
  {
   "cell_type": "code",
   "execution_count": 8,
   "metadata": {},
   "outputs": [
    {
     "data": {
      "application/3dmoljs_load.v0": "<div id=\"3dmolviewer_15257170729431643\"  style=\"position: relative; width: 400px; height: 400px\">\n        <p id=\"3dmolwarning_15257170729431643\" style=\"background-color:#ffcccc;color:black\">You appear to be running in JupyterLab.  You need to install the 3dmol extension: <br>\n        <tt>jupyter labextension install jupyterlab_3dmol</tt></p>\n        </div>\n<script>\n\nvar loadScriptAsync = function(uri){\n  return new Promise((resolve, reject) => {\n    var tag = document.createElement('script');\n    tag.src = uri;\n    tag.async = true;\n    tag.onload = () => {\n      resolve();\n    };\n  var firstScriptTag = document.getElementsByTagName('script')[0];\n  firstScriptTag.parentNode.insertBefore(tag, firstScriptTag);\n});\n};\n\nif(typeof $3Dmolpromise === 'undefined') {\n$3Dmolpromise = null;\n  $3Dmolpromise = loadScriptAsync('https://3dmol.csb.pitt.edu/build/3Dmol.js');\n}\n\nvar viewer_15257170729431643 = null;\nvar warn = document.getElementById(\"3dmolwarning_15257170729431643\");\nif(warn) {\n    warn.parentNode.removeChild(warn);\n}\n$3Dmolpromise.then(function() {\nviewer_15257170729431643 = $3Dmol.createViewer($(\"#3dmolviewer_15257170729431643\"),{backgroundColor:\"white\"});\n$3Dmol.download(\"pdb:5WOG\", viewer_15257170729431643, {}, function() {\n\tviewer_15257170729431643.setStyle({\"chain\": \"A\"},{\"cartoon\": {\"color\": \"orange\"}});\n\tviewer_15257170729431643.setStyle({\"chain\": [\"A\", \"B\"]},{\"cartoon\": {\"color\": \"orange\"}});\n\tviewer_15257170729431643.addLabel(\"alpha subunits\",{\"fontColor\": \"orange\", \"backgroundColor\": \"lightgray\"},{\"chain\": [\"A\", \"B\"]});\n\tviewer_15257170729431643.setStyle({\"chain\": [\"C\", \"D\"]},{\"cartoon\": {\"color\": \"blue\"}});\n\tviewer_15257170729431643.addLabel(\"beta subunits\",{\"fontColor\": \"blue\", \"backgroundColor\": \"lightgray\"},{\"chain\": [\"C\", \"D\"]});\n\tviewer_15257170729431643.setStyle({\"resn\": \"HOH\"},{\"sphere\": {\"radius\": 0.5}});\n\tviewer_15257170729431643.setStyle({\"resn\": \"HOH\"},{});\n\tviewer_15257170729431643.setStyle({\"resn\": \"HEM\"},{\"sphere\": {\"colorscheme\": \"greenCarbon\"}});\n\tviewer_15257170729431643.setStyle({\"chain\": \"A\", \"resn\": \"HEM\"},{\"stick\": {\"colorscheme\": \"redCarbon\", \"radius\": 0.2}});\n\tviewer_15257170729431643.zoomTo({\"chain\": \"A\", \"resn\": \"HEM\"});\nviewer_15257170729431643.render();\n})\n});\n</script>",
      "text/html": [
       "<div id=\"3dmolviewer_15257170729431643\"  style=\"position: relative; width: 400px; height: 400px\">\n",
       "        <p id=\"3dmolwarning_15257170729431643\" style=\"background-color:#ffcccc;color:black\">You appear to be running in JupyterLab.  You need to install the 3dmol extension: <br>\n",
       "        <tt>jupyter labextension install jupyterlab_3dmol</tt></p>\n",
       "        </div>\n",
       "<script>\n",
       "\n",
       "var loadScriptAsync = function(uri){\n",
       "  return new Promise((resolve, reject) => {\n",
       "    var tag = document.createElement('script');\n",
       "    tag.src = uri;\n",
       "    tag.async = true;\n",
       "    tag.onload = () => {\n",
       "      resolve();\n",
       "    };\n",
       "  var firstScriptTag = document.getElementsByTagName('script')[0];\n",
       "  firstScriptTag.parentNode.insertBefore(tag, firstScriptTag);\n",
       "});\n",
       "};\n",
       "\n",
       "if(typeof $3Dmolpromise === 'undefined') {\n",
       "$3Dmolpromise = null;\n",
       "  $3Dmolpromise = loadScriptAsync('https://3dmol.csb.pitt.edu/build/3Dmol.js');\n",
       "}\n",
       "\n",
       "var viewer_15257170729431643 = null;\n",
       "var warn = document.getElementById(\"3dmolwarning_15257170729431643\");\n",
       "if(warn) {\n",
       "    warn.parentNode.removeChild(warn);\n",
       "}\n",
       "$3Dmolpromise.then(function() {\n",
       "viewer_15257170729431643 = $3Dmol.createViewer($(\"#3dmolviewer_15257170729431643\"),{backgroundColor:\"white\"});\n",
       "$3Dmol.download(\"pdb:5WOG\", viewer_15257170729431643, {}, function() {\n",
       "\tviewer_15257170729431643.setStyle({\"chain\": \"A\"},{\"cartoon\": {\"color\": \"orange\"}});\n",
       "\tviewer_15257170729431643.setStyle({\"chain\": [\"A\", \"B\"]},{\"cartoon\": {\"color\": \"orange\"}});\n",
       "\tviewer_15257170729431643.addLabel(\"alpha subunits\",{\"fontColor\": \"orange\", \"backgroundColor\": \"lightgray\"},{\"chain\": [\"A\", \"B\"]});\n",
       "\tviewer_15257170729431643.setStyle({\"chain\": [\"C\", \"D\"]},{\"cartoon\": {\"color\": \"blue\"}});\n",
       "\tviewer_15257170729431643.addLabel(\"beta subunits\",{\"fontColor\": \"blue\", \"backgroundColor\": \"lightgray\"},{\"chain\": [\"C\", \"D\"]});\n",
       "\tviewer_15257170729431643.setStyle({\"resn\": \"HOH\"},{\"sphere\": {\"radius\": 0.5}});\n",
       "\tviewer_15257170729431643.setStyle({\"resn\": \"HOH\"},{});\n",
       "\tviewer_15257170729431643.setStyle({\"resn\": \"HEM\"},{\"sphere\": {\"colorscheme\": \"greenCarbon\"}});\n",
       "\tviewer_15257170729431643.setStyle({\"chain\": \"A\", \"resn\": \"HEM\"},{\"stick\": {\"colorscheme\": \"redCarbon\", \"radius\": 0.2}});\n",
       "\tviewer_15257170729431643.zoomTo({\"chain\": \"A\", \"resn\": \"HEM\"});\n",
       "viewer_15257170729431643.render();\n",
       "})\n",
       "});\n",
       "</script>"
      ]
     },
     "metadata": {},
     "output_type": "display_data"
    }
   ],
   "source": [
    "viewer.setStyle({'chain': 'A', 'resn': 'HEM'},{'stick': {'colorscheme': 'redCarbon', 'radius': 0.2}})\n",
    "viewer.zoomTo({'chain': 'A', 'resn': 'HEM'})\n",
    "viewer.show()"
   ]
  },
  {
   "cell_type": "markdown",
   "metadata": {},
   "source": [
    "# Apply style to a specific chain and residue by residue index (resi)\n",
    "In the following example we display the HIS-87 side chain that interacts with iron in heme."
   ]
  },
  {
   "cell_type": "code",
   "execution_count": 9,
   "metadata": {},
   "outputs": [
    {
     "data": {
      "application/3dmoljs_load.v0": "<div id=\"3dmolviewer_15257170773364391\"  style=\"position: relative; width: 400px; height: 400px\">\n        <p id=\"3dmolwarning_15257170773364391\" style=\"background-color:#ffcccc;color:black\">You appear to be running in JupyterLab.  You need to install the 3dmol extension: <br>\n        <tt>jupyter labextension install jupyterlab_3dmol</tt></p>\n        </div>\n<script>\n\nvar loadScriptAsync = function(uri){\n  return new Promise((resolve, reject) => {\n    var tag = document.createElement('script');\n    tag.src = uri;\n    tag.async = true;\n    tag.onload = () => {\n      resolve();\n    };\n  var firstScriptTag = document.getElementsByTagName('script')[0];\n  firstScriptTag.parentNode.insertBefore(tag, firstScriptTag);\n});\n};\n\nif(typeof $3Dmolpromise === 'undefined') {\n$3Dmolpromise = null;\n  $3Dmolpromise = loadScriptAsync('https://3dmol.csb.pitt.edu/build/3Dmol.js');\n}\n\nvar viewer_15257170773364391 = null;\nvar warn = document.getElementById(\"3dmolwarning_15257170773364391\");\nif(warn) {\n    warn.parentNode.removeChild(warn);\n}\n$3Dmolpromise.then(function() {\nviewer_15257170773364391 = $3Dmol.createViewer($(\"#3dmolviewer_15257170773364391\"),{backgroundColor:\"white\"});\n$3Dmol.download(\"pdb:5WOG\", viewer_15257170773364391, {}, function() {\n\tviewer_15257170773364391.setStyle({\"chain\": \"A\"},{\"cartoon\": {\"color\": \"orange\"}});\n\tviewer_15257170773364391.setStyle({\"chain\": [\"A\", \"B\"]},{\"cartoon\": {\"color\": \"orange\"}});\n\tviewer_15257170773364391.addLabel(\"alpha subunits\",{\"fontColor\": \"orange\", \"backgroundColor\": \"lightgray\"},{\"chain\": [\"A\", \"B\"]});\n\tviewer_15257170773364391.setStyle({\"chain\": [\"C\", \"D\"]},{\"cartoon\": {\"color\": \"blue\"}});\n\tviewer_15257170773364391.addLabel(\"beta subunits\",{\"fontColor\": \"blue\", \"backgroundColor\": \"lightgray\"},{\"chain\": [\"C\", \"D\"]});\n\tviewer_15257170773364391.setStyle({\"resn\": \"HOH\"},{\"sphere\": {\"radius\": 0.5}});\n\tviewer_15257170773364391.setStyle({\"resn\": \"HOH\"},{});\n\tviewer_15257170773364391.setStyle({\"resn\": \"HEM\"},{\"sphere\": {\"colorscheme\": \"greenCarbon\"}});\n\tviewer_15257170773364391.setStyle({\"chain\": \"A\", \"resn\": \"HEM\"},{\"stick\": {\"colorscheme\": \"redCarbon\", \"radius\": 0.2}});\n\tviewer_15257170773364391.zoomTo({\"chain\": \"A\", \"resn\": \"HEM\"});\n\tviewer_15257170773364391.setStyle({\"chain\": \"A\", \"resi\": \"87\"},{\"stick\": {\"colorscheme\": \"redCarbon\"}});\nviewer_15257170773364391.render();\n})\n});\n</script>",
      "text/html": [
       "<div id=\"3dmolviewer_15257170773364391\"  style=\"position: relative; width: 400px; height: 400px\">\n",
       "        <p id=\"3dmolwarning_15257170773364391\" style=\"background-color:#ffcccc;color:black\">You appear to be running in JupyterLab.  You need to install the 3dmol extension: <br>\n",
       "        <tt>jupyter labextension install jupyterlab_3dmol</tt></p>\n",
       "        </div>\n",
       "<script>\n",
       "\n",
       "var loadScriptAsync = function(uri){\n",
       "  return new Promise((resolve, reject) => {\n",
       "    var tag = document.createElement('script');\n",
       "    tag.src = uri;\n",
       "    tag.async = true;\n",
       "    tag.onload = () => {\n",
       "      resolve();\n",
       "    };\n",
       "  var firstScriptTag = document.getElementsByTagName('script')[0];\n",
       "  firstScriptTag.parentNode.insertBefore(tag, firstScriptTag);\n",
       "});\n",
       "};\n",
       "\n",
       "if(typeof $3Dmolpromise === 'undefined') {\n",
       "$3Dmolpromise = null;\n",
       "  $3Dmolpromise = loadScriptAsync('https://3dmol.csb.pitt.edu/build/3Dmol.js');\n",
       "}\n",
       "\n",
       "var viewer_15257170773364391 = null;\n",
       "var warn = document.getElementById(\"3dmolwarning_15257170773364391\");\n",
       "if(warn) {\n",
       "    warn.parentNode.removeChild(warn);\n",
       "}\n",
       "$3Dmolpromise.then(function() {\n",
       "viewer_15257170773364391 = $3Dmol.createViewer($(\"#3dmolviewer_15257170773364391\"),{backgroundColor:\"white\"});\n",
       "$3Dmol.download(\"pdb:5WOG\", viewer_15257170773364391, {}, function() {\n",
       "\tviewer_15257170773364391.setStyle({\"chain\": \"A\"},{\"cartoon\": {\"color\": \"orange\"}});\n",
       "\tviewer_15257170773364391.setStyle({\"chain\": [\"A\", \"B\"]},{\"cartoon\": {\"color\": \"orange\"}});\n",
       "\tviewer_15257170773364391.addLabel(\"alpha subunits\",{\"fontColor\": \"orange\", \"backgroundColor\": \"lightgray\"},{\"chain\": [\"A\", \"B\"]});\n",
       "\tviewer_15257170773364391.setStyle({\"chain\": [\"C\", \"D\"]},{\"cartoon\": {\"color\": \"blue\"}});\n",
       "\tviewer_15257170773364391.addLabel(\"beta subunits\",{\"fontColor\": \"blue\", \"backgroundColor\": \"lightgray\"},{\"chain\": [\"C\", \"D\"]});\n",
       "\tviewer_15257170773364391.setStyle({\"resn\": \"HOH\"},{\"sphere\": {\"radius\": 0.5}});\n",
       "\tviewer_15257170773364391.setStyle({\"resn\": \"HOH\"},{});\n",
       "\tviewer_15257170773364391.setStyle({\"resn\": \"HEM\"},{\"sphere\": {\"colorscheme\": \"greenCarbon\"}});\n",
       "\tviewer_15257170773364391.setStyle({\"chain\": \"A\", \"resn\": \"HEM\"},{\"stick\": {\"colorscheme\": \"redCarbon\", \"radius\": 0.2}});\n",
       "\tviewer_15257170773364391.zoomTo({\"chain\": \"A\", \"resn\": \"HEM\"});\n",
       "\tviewer_15257170773364391.setStyle({\"chain\": \"A\", \"resi\": \"87\"},{\"stick\": {\"colorscheme\": \"redCarbon\"}});\n",
       "viewer_15257170773364391.render();\n",
       "})\n",
       "});\n",
       "</script>"
      ]
     },
     "metadata": {},
     "output_type": "display_data"
    }
   ],
   "source": [
    "viewer.setStyle({'chain': 'A', 'resi': '87'},{'stick': {'colorscheme': 'redCarbon'}})\n",
    "viewer.show()"
   ]
  },
  {
   "cell_type": "markdown",
   "metadata": {},
   "source": [
    "# Apply style to an element (elem)\n",
    "We display the iron atom as a green sphere."
   ]
  },
  {
   "cell_type": "code",
   "execution_count": 10,
   "metadata": {},
   "outputs": [
    {
     "data": {
      "application/3dmoljs_load.v0": "<div id=\"3dmolviewer_15257170795865643\"  style=\"position: relative; width: 400px; height: 400px\">\n        <p id=\"3dmolwarning_15257170795865643\" style=\"background-color:#ffcccc;color:black\">You appear to be running in JupyterLab.  You need to install the 3dmol extension: <br>\n        <tt>jupyter labextension install jupyterlab_3dmol</tt></p>\n        </div>\n<script>\n\nvar loadScriptAsync = function(uri){\n  return new Promise((resolve, reject) => {\n    var tag = document.createElement('script');\n    tag.src = uri;\n    tag.async = true;\n    tag.onload = () => {\n      resolve();\n    };\n  var firstScriptTag = document.getElementsByTagName('script')[0];\n  firstScriptTag.parentNode.insertBefore(tag, firstScriptTag);\n});\n};\n\nif(typeof $3Dmolpromise === 'undefined') {\n$3Dmolpromise = null;\n  $3Dmolpromise = loadScriptAsync('https://3dmol.csb.pitt.edu/build/3Dmol.js');\n}\n\nvar viewer_15257170795865643 = null;\nvar warn = document.getElementById(\"3dmolwarning_15257170795865643\");\nif(warn) {\n    warn.parentNode.removeChild(warn);\n}\n$3Dmolpromise.then(function() {\nviewer_15257170795865643 = $3Dmol.createViewer($(\"#3dmolviewer_15257170795865643\"),{backgroundColor:\"white\"});\n$3Dmol.download(\"pdb:5WOG\", viewer_15257170795865643, {}, function() {\n\tviewer_15257170795865643.setStyle({\"chain\": \"A\"},{\"cartoon\": {\"color\": \"orange\"}});\n\tviewer_15257170795865643.setStyle({\"chain\": [\"A\", \"B\"]},{\"cartoon\": {\"color\": \"orange\"}});\n\tviewer_15257170795865643.addLabel(\"alpha subunits\",{\"fontColor\": \"orange\", \"backgroundColor\": \"lightgray\"},{\"chain\": [\"A\", \"B\"]});\n\tviewer_15257170795865643.setStyle({\"chain\": [\"C\", \"D\"]},{\"cartoon\": {\"color\": \"blue\"}});\n\tviewer_15257170795865643.addLabel(\"beta subunits\",{\"fontColor\": \"blue\", \"backgroundColor\": \"lightgray\"},{\"chain\": [\"C\", \"D\"]});\n\tviewer_15257170795865643.setStyle({\"resn\": \"HOH\"},{\"sphere\": {\"radius\": 0.5}});\n\tviewer_15257170795865643.setStyle({\"resn\": \"HOH\"},{});\n\tviewer_15257170795865643.setStyle({\"resn\": \"HEM\"},{\"sphere\": {\"colorscheme\": \"greenCarbon\"}});\n\tviewer_15257170795865643.setStyle({\"chain\": \"A\", \"resn\": \"HEM\"},{\"stick\": {\"colorscheme\": \"redCarbon\", \"radius\": 0.2}});\n\tviewer_15257170795865643.zoomTo({\"chain\": \"A\", \"resn\": \"HEM\"});\n\tviewer_15257170795865643.setStyle({\"chain\": \"A\", \"resi\": \"87\"},{\"stick\": {\"colorscheme\": \"redCarbon\"}});\n\tviewer_15257170795865643.setStyle({\"chain\": \"A\", \"elem\": \"Fe\"},{\"sphere\": {\"color\": \"green\"}});\nviewer_15257170795865643.render();\n})\n});\n</script>",
      "text/html": [
       "<div id=\"3dmolviewer_15257170795865643\"  style=\"position: relative; width: 400px; height: 400px\">\n",
       "        <p id=\"3dmolwarning_15257170795865643\" style=\"background-color:#ffcccc;color:black\">You appear to be running in JupyterLab.  You need to install the 3dmol extension: <br>\n",
       "        <tt>jupyter labextension install jupyterlab_3dmol</tt></p>\n",
       "        </div>\n",
       "<script>\n",
       "\n",
       "var loadScriptAsync = function(uri){\n",
       "  return new Promise((resolve, reject) => {\n",
       "    var tag = document.createElement('script');\n",
       "    tag.src = uri;\n",
       "    tag.async = true;\n",
       "    tag.onload = () => {\n",
       "      resolve();\n",
       "    };\n",
       "  var firstScriptTag = document.getElementsByTagName('script')[0];\n",
       "  firstScriptTag.parentNode.insertBefore(tag, firstScriptTag);\n",
       "});\n",
       "};\n",
       "\n",
       "if(typeof $3Dmolpromise === 'undefined') {\n",
       "$3Dmolpromise = null;\n",
       "  $3Dmolpromise = loadScriptAsync('https://3dmol.csb.pitt.edu/build/3Dmol.js');\n",
       "}\n",
       "\n",
       "var viewer_15257170795865643 = null;\n",
       "var warn = document.getElementById(\"3dmolwarning_15257170795865643\");\n",
       "if(warn) {\n",
       "    warn.parentNode.removeChild(warn);\n",
       "}\n",
       "$3Dmolpromise.then(function() {\n",
       "viewer_15257170795865643 = $3Dmol.createViewer($(\"#3dmolviewer_15257170795865643\"),{backgroundColor:\"white\"});\n",
       "$3Dmol.download(\"pdb:5WOG\", viewer_15257170795865643, {}, function() {\n",
       "\tviewer_15257170795865643.setStyle({\"chain\": \"A\"},{\"cartoon\": {\"color\": \"orange\"}});\n",
       "\tviewer_15257170795865643.setStyle({\"chain\": [\"A\", \"B\"]},{\"cartoon\": {\"color\": \"orange\"}});\n",
       "\tviewer_15257170795865643.addLabel(\"alpha subunits\",{\"fontColor\": \"orange\", \"backgroundColor\": \"lightgray\"},{\"chain\": [\"A\", \"B\"]});\n",
       "\tviewer_15257170795865643.setStyle({\"chain\": [\"C\", \"D\"]},{\"cartoon\": {\"color\": \"blue\"}});\n",
       "\tviewer_15257170795865643.addLabel(\"beta subunits\",{\"fontColor\": \"blue\", \"backgroundColor\": \"lightgray\"},{\"chain\": [\"C\", \"D\"]});\n",
       "\tviewer_15257170795865643.setStyle({\"resn\": \"HOH\"},{\"sphere\": {\"radius\": 0.5}});\n",
       "\tviewer_15257170795865643.setStyle({\"resn\": \"HOH\"},{});\n",
       "\tviewer_15257170795865643.setStyle({\"resn\": \"HEM\"},{\"sphere\": {\"colorscheme\": \"greenCarbon\"}});\n",
       "\tviewer_15257170795865643.setStyle({\"chain\": \"A\", \"resn\": \"HEM\"},{\"stick\": {\"colorscheme\": \"redCarbon\", \"radius\": 0.2}});\n",
       "\tviewer_15257170795865643.zoomTo({\"chain\": \"A\", \"resn\": \"HEM\"});\n",
       "\tviewer_15257170795865643.setStyle({\"chain\": \"A\", \"resi\": \"87\"},{\"stick\": {\"colorscheme\": \"redCarbon\"}});\n",
       "\tviewer_15257170795865643.setStyle({\"chain\": \"A\", \"elem\": \"Fe\"},{\"sphere\": {\"color\": \"green\"}});\n",
       "viewer_15257170795865643.render();\n",
       "})\n",
       "});\n",
       "</script>"
      ]
     },
     "metadata": {},
     "output_type": "display_data"
    }
   ],
   "source": [
    "viewer.setStyle({'chain': 'A', 'elem': 'Fe'}, {'sphere': {'color': 'green'}})\n",
    "viewer.show()"
   ]
  },
  {
   "cell_type": "markdown",
   "metadata": {},
   "source": [
    "# Add residue labels\n",
    "Finally, we add labels to HIS-87 and HEM."
   ]
  },
  {
   "cell_type": "code",
   "execution_count": 11,
   "metadata": {},
   "outputs": [
    {
     "data": {
      "application/3dmoljs_load.v0": "<div id=\"3dmolviewer_15257170824099896\"  style=\"position: relative; width: 400px; height: 400px\">\n        <p id=\"3dmolwarning_15257170824099896\" style=\"background-color:#ffcccc;color:black\">You appear to be running in JupyterLab.  You need to install the 3dmol extension: <br>\n        <tt>jupyter labextension install jupyterlab_3dmol</tt></p>\n        </div>\n<script>\n\nvar loadScriptAsync = function(uri){\n  return new Promise((resolve, reject) => {\n    var tag = document.createElement('script');\n    tag.src = uri;\n    tag.async = true;\n    tag.onload = () => {\n      resolve();\n    };\n  var firstScriptTag = document.getElementsByTagName('script')[0];\n  firstScriptTag.parentNode.insertBefore(tag, firstScriptTag);\n});\n};\n\nif(typeof $3Dmolpromise === 'undefined') {\n$3Dmolpromise = null;\n  $3Dmolpromise = loadScriptAsync('https://3dmol.csb.pitt.edu/build/3Dmol.js');\n}\n\nvar viewer_15257170824099896 = null;\nvar warn = document.getElementById(\"3dmolwarning_15257170824099896\");\nif(warn) {\n    warn.parentNode.removeChild(warn);\n}\n$3Dmolpromise.then(function() {\nviewer_15257170824099896 = $3Dmol.createViewer($(\"#3dmolviewer_15257170824099896\"),{backgroundColor:\"white\"});\n$3Dmol.download(\"pdb:5WOG\", viewer_15257170824099896, {}, function() {\n\tviewer_15257170824099896.setStyle({\"chain\": \"A\"},{\"cartoon\": {\"color\": \"orange\"}});\n\tviewer_15257170824099896.setStyle({\"chain\": [\"A\", \"B\"]},{\"cartoon\": {\"color\": \"orange\"}});\n\tviewer_15257170824099896.addLabel(\"alpha subunits\",{\"fontColor\": \"orange\", \"backgroundColor\": \"lightgray\"},{\"chain\": [\"A\", \"B\"]});\n\tviewer_15257170824099896.setStyle({\"chain\": [\"C\", \"D\"]},{\"cartoon\": {\"color\": \"blue\"}});\n\tviewer_15257170824099896.addLabel(\"beta subunits\",{\"fontColor\": \"blue\", \"backgroundColor\": \"lightgray\"},{\"chain\": [\"C\", \"D\"]});\n\tviewer_15257170824099896.setStyle({\"resn\": \"HOH\"},{\"sphere\": {\"radius\": 0.5}});\n\tviewer_15257170824099896.setStyle({\"resn\": \"HOH\"},{});\n\tviewer_15257170824099896.setStyle({\"resn\": \"HEM\"},{\"sphere\": {\"colorscheme\": \"greenCarbon\"}});\n\tviewer_15257170824099896.setStyle({\"chain\": \"A\", \"resn\": \"HEM\"},{\"stick\": {\"colorscheme\": \"redCarbon\", \"radius\": 0.2}});\n\tviewer_15257170824099896.zoomTo({\"chain\": \"A\", \"resn\": \"HEM\"});\n\tviewer_15257170824099896.setStyle({\"chain\": \"A\", \"resi\": \"87\"},{\"stick\": {\"colorscheme\": \"redCarbon\"}});\n\tviewer_15257170824099896.setStyle({\"chain\": \"A\", \"elem\": \"Fe\"},{\"sphere\": {\"color\": \"green\"}});\n\tviewer_15257170824099896.addResLabels({\"chain\": \"A\", \"resi\": \"87\"});\n\tviewer_15257170824099896.addResLabels({\"chain\": \"A\", \"resn\": \"HEM\"});\nviewer_15257170824099896.render();\n})\n});\n</script>",
      "text/html": [
       "<div id=\"3dmolviewer_15257170824099896\"  style=\"position: relative; width: 400px; height: 400px\">\n",
       "        <p id=\"3dmolwarning_15257170824099896\" style=\"background-color:#ffcccc;color:black\">You appear to be running in JupyterLab.  You need to install the 3dmol extension: <br>\n",
       "        <tt>jupyter labextension install jupyterlab_3dmol</tt></p>\n",
       "        </div>\n",
       "<script>\n",
       "\n",
       "var loadScriptAsync = function(uri){\n",
       "  return new Promise((resolve, reject) => {\n",
       "    var tag = document.createElement('script');\n",
       "    tag.src = uri;\n",
       "    tag.async = true;\n",
       "    tag.onload = () => {\n",
       "      resolve();\n",
       "    };\n",
       "  var firstScriptTag = document.getElementsByTagName('script')[0];\n",
       "  firstScriptTag.parentNode.insertBefore(tag, firstScriptTag);\n",
       "});\n",
       "};\n",
       "\n",
       "if(typeof $3Dmolpromise === 'undefined') {\n",
       "$3Dmolpromise = null;\n",
       "  $3Dmolpromise = loadScriptAsync('https://3dmol.csb.pitt.edu/build/3Dmol.js');\n",
       "}\n",
       "\n",
       "var viewer_15257170824099896 = null;\n",
       "var warn = document.getElementById(\"3dmolwarning_15257170824099896\");\n",
       "if(warn) {\n",
       "    warn.parentNode.removeChild(warn);\n",
       "}\n",
       "$3Dmolpromise.then(function() {\n",
       "viewer_15257170824099896 = $3Dmol.createViewer($(\"#3dmolviewer_15257170824099896\"),{backgroundColor:\"white\"});\n",
       "$3Dmol.download(\"pdb:5WOG\", viewer_15257170824099896, {}, function() {\n",
       "\tviewer_15257170824099896.setStyle({\"chain\": \"A\"},{\"cartoon\": {\"color\": \"orange\"}});\n",
       "\tviewer_15257170824099896.setStyle({\"chain\": [\"A\", \"B\"]},{\"cartoon\": {\"color\": \"orange\"}});\n",
       "\tviewer_15257170824099896.addLabel(\"alpha subunits\",{\"fontColor\": \"orange\", \"backgroundColor\": \"lightgray\"},{\"chain\": [\"A\", \"B\"]});\n",
       "\tviewer_15257170824099896.setStyle({\"chain\": [\"C\", \"D\"]},{\"cartoon\": {\"color\": \"blue\"}});\n",
       "\tviewer_15257170824099896.addLabel(\"beta subunits\",{\"fontColor\": \"blue\", \"backgroundColor\": \"lightgray\"},{\"chain\": [\"C\", \"D\"]});\n",
       "\tviewer_15257170824099896.setStyle({\"resn\": \"HOH\"},{\"sphere\": {\"radius\": 0.5}});\n",
       "\tviewer_15257170824099896.setStyle({\"resn\": \"HOH\"},{});\n",
       "\tviewer_15257170824099896.setStyle({\"resn\": \"HEM\"},{\"sphere\": {\"colorscheme\": \"greenCarbon\"}});\n",
       "\tviewer_15257170824099896.setStyle({\"chain\": \"A\", \"resn\": \"HEM\"},{\"stick\": {\"colorscheme\": \"redCarbon\", \"radius\": 0.2}});\n",
       "\tviewer_15257170824099896.zoomTo({\"chain\": \"A\", \"resn\": \"HEM\"});\n",
       "\tviewer_15257170824099896.setStyle({\"chain\": \"A\", \"resi\": \"87\"},{\"stick\": {\"colorscheme\": \"redCarbon\"}});\n",
       "\tviewer_15257170824099896.setStyle({\"chain\": \"A\", \"elem\": \"Fe\"},{\"sphere\": {\"color\": \"green\"}});\n",
       "\tviewer_15257170824099896.addResLabels({\"chain\": \"A\", \"resi\": \"87\"});\n",
       "\tviewer_15257170824099896.addResLabels({\"chain\": \"A\", \"resn\": \"HEM\"});\n",
       "viewer_15257170824099896.render();\n",
       "})\n",
       "});\n",
       "</script>"
      ]
     },
     "metadata": {},
     "output_type": "display_data"
    }
   ],
   "source": [
    "viewer.addResLabels({'chain': 'A', 'resi': '87'})\n",
    "viewer.addResLabels({'chain': 'A', 'resn': 'HEM'})\n",
    "viewer.show()"
   ]
  },
  {
   "cell_type": "markdown",
   "metadata": {
    "collapsed": true
   },
   "source": [
    "# Select binding site residues by proximity\n",
    "Here we select all residues within 5 A of the HEM in chain A."
   ]
  },
  {
   "cell_type": "code",
   "execution_count": 12,
   "metadata": {},
   "outputs": [
    {
     "data": {
      "application/3dmoljs_load.v0": "<div id=\"3dmolviewer_15257170922919152\"  style=\"position: relative; width: 400px; height: 400px\">\n        <p id=\"3dmolwarning_15257170922919152\" style=\"background-color:#ffcccc;color:black\">You appear to be running in JupyterLab.  You need to install the 3dmol extension: <br>\n        <tt>jupyter labextension install jupyterlab_3dmol</tt></p>\n        </div>\n<script>\n\nvar loadScriptAsync = function(uri){\n  return new Promise((resolve, reject) => {\n    var tag = document.createElement('script');\n    tag.src = uri;\n    tag.async = true;\n    tag.onload = () => {\n      resolve();\n    };\n  var firstScriptTag = document.getElementsByTagName('script')[0];\n  firstScriptTag.parentNode.insertBefore(tag, firstScriptTag);\n});\n};\n\nif(typeof $3Dmolpromise === 'undefined') {\n$3Dmolpromise = null;\n  $3Dmolpromise = loadScriptAsync('https://3dmol.csb.pitt.edu/build/3Dmol.js');\n}\n\nvar viewer_15257170922919152 = null;\nvar warn = document.getElementById(\"3dmolwarning_15257170922919152\");\nif(warn) {\n    warn.parentNode.removeChild(warn);\n}\n$3Dmolpromise.then(function() {\nviewer_15257170922919152 = $3Dmol.createViewer($(\"#3dmolviewer_15257170922919152\"),{backgroundColor:\"white\"});\n$3Dmol.download(\"pdb:5WOG\", viewer_15257170922919152, {}, function() {\n\tviewer_15257170922919152.setStyle({\"chain\": \"A\"},{\"cartoon\": {\"color\": \"orange\"}});\n\tviewer_15257170922919152.setStyle({\"chain\": [\"A\", \"B\"]},{\"cartoon\": {\"color\": \"orange\"}});\n\tviewer_15257170922919152.addLabel(\"alpha subunits\",{\"fontColor\": \"orange\", \"backgroundColor\": \"lightgray\"},{\"chain\": [\"A\", \"B\"]});\n\tviewer_15257170922919152.setStyle({\"chain\": [\"C\", \"D\"]},{\"cartoon\": {\"color\": \"blue\"}});\n\tviewer_15257170922919152.addLabel(\"beta subunits\",{\"fontColor\": \"blue\", \"backgroundColor\": \"lightgray\"},{\"chain\": [\"C\", \"D\"]});\n\tviewer_15257170922919152.setStyle({\"resn\": \"HOH\"},{\"sphere\": {\"radius\": 0.5}});\n\tviewer_15257170922919152.setStyle({\"resn\": \"HOH\"},{});\n\tviewer_15257170922919152.setStyle({\"resn\": \"HEM\"},{\"sphere\": {\"colorscheme\": \"greenCarbon\"}});\n\tviewer_15257170922919152.setStyle({\"chain\": \"A\", \"resn\": \"HEM\"},{\"stick\": {\"colorscheme\": \"redCarbon\", \"radius\": 0.2}});\n\tviewer_15257170922919152.zoomTo({\"chain\": \"A\", \"resn\": \"HEM\"});\n\tviewer_15257170922919152.setStyle({\"chain\": \"A\", \"resi\": \"87\"},{\"stick\": {\"colorscheme\": \"redCarbon\"}});\n\tviewer_15257170922919152.setStyle({\"chain\": \"A\", \"elem\": \"Fe\"},{\"sphere\": {\"color\": \"green\"}});\n\tviewer_15257170922919152.addResLabels({\"chain\": \"A\", \"resi\": \"87\"});\n\tviewer_15257170922919152.addResLabels({\"chain\": \"A\", \"resn\": \"HEM\"});\n\tviewer_15257170922919152.removeAllLabels();\n\tviewer_15257170922919152.setStyle({\"line\": {}});\n\tviewer_15257170922919152.setStyle({\"resn\": \"HEM\", \"chain\": \"A\", \"byres\": \"true\", \"expand\": 5},{\"stick\": {\"colorscheme\": \"orangeCarbon\"}});\n\tviewer_15257170922919152.setStyle({\"chain\": \"A\", \"resn\": \"HEM\"},{\"sphere\": {\"colorscheme\": \"lightgreenCarbon\"}});\n\tviewer_15257170922919152.zoomTo({\"resn\": \"HEM\", \"chain\": \"A\", \"byres\": \"true\", \"expand\": 5});\nviewer_15257170922919152.render();\n})\n});\n</script>",
      "text/html": [
       "<div id=\"3dmolviewer_15257170922919152\"  style=\"position: relative; width: 400px; height: 400px\">\n",
       "        <p id=\"3dmolwarning_15257170922919152\" style=\"background-color:#ffcccc;color:black\">You appear to be running in JupyterLab.  You need to install the 3dmol extension: <br>\n",
       "        <tt>jupyter labextension install jupyterlab_3dmol</tt></p>\n",
       "        </div>\n",
       "<script>\n",
       "\n",
       "var loadScriptAsync = function(uri){\n",
       "  return new Promise((resolve, reject) => {\n",
       "    var tag = document.createElement('script');\n",
       "    tag.src = uri;\n",
       "    tag.async = true;\n",
       "    tag.onload = () => {\n",
       "      resolve();\n",
       "    };\n",
       "  var firstScriptTag = document.getElementsByTagName('script')[0];\n",
       "  firstScriptTag.parentNode.insertBefore(tag, firstScriptTag);\n",
       "});\n",
       "};\n",
       "\n",
       "if(typeof $3Dmolpromise === 'undefined') {\n",
       "$3Dmolpromise = null;\n",
       "  $3Dmolpromise = loadScriptAsync('https://3dmol.csb.pitt.edu/build/3Dmol.js');\n",
       "}\n",
       "\n",
       "var viewer_15257170922919152 = null;\n",
       "var warn = document.getElementById(\"3dmolwarning_15257170922919152\");\n",
       "if(warn) {\n",
       "    warn.parentNode.removeChild(warn);\n",
       "}\n",
       "$3Dmolpromise.then(function() {\n",
       "viewer_15257170922919152 = $3Dmol.createViewer($(\"#3dmolviewer_15257170922919152\"),{backgroundColor:\"white\"});\n",
       "$3Dmol.download(\"pdb:5WOG\", viewer_15257170922919152, {}, function() {\n",
       "\tviewer_15257170922919152.setStyle({\"chain\": \"A\"},{\"cartoon\": {\"color\": \"orange\"}});\n",
       "\tviewer_15257170922919152.setStyle({\"chain\": [\"A\", \"B\"]},{\"cartoon\": {\"color\": \"orange\"}});\n",
       "\tviewer_15257170922919152.addLabel(\"alpha subunits\",{\"fontColor\": \"orange\", \"backgroundColor\": \"lightgray\"},{\"chain\": [\"A\", \"B\"]});\n",
       "\tviewer_15257170922919152.setStyle({\"chain\": [\"C\", \"D\"]},{\"cartoon\": {\"color\": \"blue\"}});\n",
       "\tviewer_15257170922919152.addLabel(\"beta subunits\",{\"fontColor\": \"blue\", \"backgroundColor\": \"lightgray\"},{\"chain\": [\"C\", \"D\"]});\n",
       "\tviewer_15257170922919152.setStyle({\"resn\": \"HOH\"},{\"sphere\": {\"radius\": 0.5}});\n",
       "\tviewer_15257170922919152.setStyle({\"resn\": \"HOH\"},{});\n",
       "\tviewer_15257170922919152.setStyle({\"resn\": \"HEM\"},{\"sphere\": {\"colorscheme\": \"greenCarbon\"}});\n",
       "\tviewer_15257170922919152.setStyle({\"chain\": \"A\", \"resn\": \"HEM\"},{\"stick\": {\"colorscheme\": \"redCarbon\", \"radius\": 0.2}});\n",
       "\tviewer_15257170922919152.zoomTo({\"chain\": \"A\", \"resn\": \"HEM\"});\n",
       "\tviewer_15257170922919152.setStyle({\"chain\": \"A\", \"resi\": \"87\"},{\"stick\": {\"colorscheme\": \"redCarbon\"}});\n",
       "\tviewer_15257170922919152.setStyle({\"chain\": \"A\", \"elem\": \"Fe\"},{\"sphere\": {\"color\": \"green\"}});\n",
       "\tviewer_15257170922919152.addResLabels({\"chain\": \"A\", \"resi\": \"87\"});\n",
       "\tviewer_15257170922919152.addResLabels({\"chain\": \"A\", \"resn\": \"HEM\"});\n",
       "\tviewer_15257170922919152.removeAllLabels();\n",
       "\tviewer_15257170922919152.setStyle({\"line\": {}});\n",
       "\tviewer_15257170922919152.setStyle({\"resn\": \"HEM\", \"chain\": \"A\", \"byres\": \"true\", \"expand\": 5},{\"stick\": {\"colorscheme\": \"orangeCarbon\"}});\n",
       "\tviewer_15257170922919152.setStyle({\"chain\": \"A\", \"resn\": \"HEM\"},{\"sphere\": {\"colorscheme\": \"lightgreenCarbon\"}});\n",
       "\tviewer_15257170922919152.zoomTo({\"resn\": \"HEM\", \"chain\": \"A\", \"byres\": \"true\", \"expand\": 5});\n",
       "viewer_15257170922919152.render();\n",
       "})\n",
       "});\n",
       "</script>"
      ]
     },
     "metadata": {},
     "output_type": "display_data"
    }
   ],
   "source": [
    "# reset styles and remove labels\n",
    "viewer.removeAllLabels()\n",
    "viewer.setStyle({'line':{}})\n",
    "\n",
    "# select by distance\n",
    "selection = {'resn':'HEM', 'chain':'A', 'byres':'true', 'expand': 5}\n",
    "\n",
    "# set styles\n",
    "viewer.setStyle(selection,{'stick':{'colorscheme':'orangeCarbon'}})\n",
    "viewer.setStyle({'chain': 'A', 'resn': 'HEM'},{'sphere': {'colorscheme': 'lightgreenCarbon'}})\n",
    "viewer.zoomTo(selection)\n",
    "viewer.show()"
   ]
  },
  {
   "cell_type": "code",
   "execution_count": null,
   "metadata": {
    "collapsed": true
   },
   "outputs": [],
   "source": []
  }
 ],
 "metadata": {
  "kernelspec": {
   "display_name": "Python 3",
   "language": "python",
   "name": "python3"
  },
  "language_info": {
   "codemirror_mode": {
    "name": "ipython",
    "version": 3
   },
   "file_extension": ".py",
   "mimetype": "text/x-python",
   "name": "python",
   "nbconvert_exporter": "python",
   "pygments_lexer": "ipython3",
   "version": "3.6.4"
  }
 },
 "nbformat": 4,
 "nbformat_minor": 2
}
